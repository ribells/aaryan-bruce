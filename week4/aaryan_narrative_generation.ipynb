{
 "cells": [
  {
   "cell_type": "markdown",
   "metadata": {
    "id": "onrJdkjPbzd1"
   },
   "source": [
    "# A few simple corpus-driven approaches to narrative analysis and generation\n",
    "\n",
    "By [Allison Parrish](http://www.decontextualize.com/)\n",
    "\n",
    "This notebook is a fast introduction to a few techniques for working with narrative corpora. By \"narrative corpora,\" I mean pre-existing bodies of text that mostly contain the texts of narratives. In particular, we're going to use Mark Riedl's [WikiPlots corpus](https://github.com/markriedl/WikiPlots), which has the titles and plot summaries of more than one hundred thousand movies, books, television shows and other media from Wikipedia.\n",
    "\n",
    "The notebook takes you through using [spaCy](http://spacy.io) to extract words, noun chunks, parts of speech and entities from the text and then sew them back together with [Tracery](http://tracery.io). It then shows how to use [Markovify](https://github.com/jsvine/markovify) to create new narratives from existing narrative text, and how to prepare the narratives for use as a training corpus for a large pre-trained language model like GPT-2.\n",
    "\n",
    "The code is written in Python, but you don't really need to know Python in order to use the notebook. Everything's pre-written for you, so you can just execute the cells, making small changes to the code as needed. Even if the notebook itself doesn't end up being useful to you, hopefully it spurs a few ideas that you can take with you into your practice as a storyteller and/or programmer.\n",
    "\n",
    "If you're running this code on Binder, you should be good to go. Just keep on executing the cells below. If you're running this notebook on Google Colab, you'll need to run the following cells to install the necessary libraries and download the data:"
   ]
  },
  {
   "cell_type": "code",
   "execution_count": 4,
   "metadata": {
    "id": "B25UZm3gbzd3"
   },
   "outputs": [
    {
     "name": "stderr",
     "output_type": "stream",
     "text": [
      "  % Total    % Received % Xferd  Average Speed   Time    Time     Time  Current\n",
      "                                 Dload  Upload   Total   Spent    Left  Speed\n",
      "\n",
      "  0     0    0     0    0     0      0      0 --:--:-- --:--:-- --:--:--     0\n",
      "  0     0    0     0    0     0      0      0 --:--:--  0:00:01 --:--:--     0\n",
      "  0     0    0     0    0     0      0      0 --:--:--  0:00:01 --:--:--     0\n",
      "\n",
      "  0     0    0     0    0     0      0      0 --:--:--  0:00:01 --:--:--     0\n",
      "  0     0    0     0    0     0      0      0 --:--:--  0:00:02 --:--:--     0\n",
      " 60 4014k   60 2431k    0     0   712k      0  0:00:05  0:00:03  0:00:02 1217k\n",
      "100 4014k  100 4014k    0     0  1083k      0  0:00:03  0:00:03 --:--:-- 1752k\n"
     ]
    }
   ],
   "source": [
    "\n",
    "\n",
    "!curl -L -O https://github.com/aparrish/corpus-driven-narrative-generation/raw/master/romcom_plot_sentences.tsv\n"
   ]
  },
  {
   "cell_type": "markdown",
   "metadata": {
    "id": "uq2Plhsibzd4"
   },
   "source": [
    "## Loading the corpus\n",
    "\n",
    "The first step is to get the narrative corpus into the program. Because WikiPlots is so big, we're actually going to be working with a smaller subset: only the plot summaries for romantic comedy movies. The subcorpus was made using [this notebook on creating a subcorpus of WikiPlots](https://github.com/aparrish/corpus-driven-narrative-generation/blob/master/creating-a-wikiplots-subcorpus.ipynb), which you can consult if you want to make your own with a different subset of WikiPlots.\n",
    "\n",
    "The corpus we're working with takes the form of a TSV file (\"tab separated values\"), with each line containing the title of the movie, a number indicating where in the plot summary the sentence for this line occurs, the total number of sentences in the summary, and the actual text of the sentence. The following cell loads the data into a list of dictionaries:"
   ]
  },
  {
   "cell_type": "code",
   "execution_count": 141,
   "metadata": {
    "id": "z--7hwZtbzd5",
    "scrolled": true
   },
   "outputs": [],
   "source": [
    "global sentences\n",
    "sentences = []\n",
    "#for line in open(\"romcom_plot_sentences.tsv\",encoding='utf-8'):\n",
    "#    line = line.strip()\n",
    "#    items = line.split(\"\\t\")\n",
    "#    sentences.append(\n",
    "#    {'title': items[0],\n",
    "#    'index': int(items[1]),\n",
    "#    'total': int(items[2]),\n",
    "#    'text': items[3]})\n",
    "\n",
    "import csv\n",
    "\n",
    "firstpath = \"C:/Users/aarya/Downloads/preprocessed_data.csv/aaryan2.txt\"\n",
    "    \n",
    "for line in open(firstpath,encoding='utf-8'):\n",
    "    line = line.strip()\n",
    "    #print(line)\n",
    "    csv.reader(firstpath, delimiter = \".\")\n",
    "    items = line.split(\"#\")\n",
    "    #print(items[0]);\n",
    "    #print(items[1]);\n",
    "    sentences.append(\n",
    "        {'title': items[0], \n",
    "         'text': items[1],\n",
    "         'classification': items[5],\n",
    "        })\n",
    "    #print(sentences)\n",
    "    \n",
    "#with open(firstpath, 'r') \n",
    "#    reader = csv.reader(file, delimiter = \".\")\n",
    "#    for row in reader:\n",
    "#        print(row)\n",
    "\n",
    "#txt = \"hello, my name is Peter, I am 26 years old\"\n",
    "\n",
    "#x = txt.split(\"\\t\")\n",
    "#x = txt.split()\n",
    "\n",
    "#print(x)"
   ]
  },
  {
   "cell_type": "markdown",
   "metadata": {
    "id": "pHa69C9Dbzd6"
   },
   "source": [
    "Just to make sure it worked, we'll print out a random sentence:"
   ]
  },
  {
   "cell_type": "code",
   "execution_count": 51,
   "metadata": {
    "id": "Z7MNFmt3bzd7",
    "outputId": "28207bce-ef4e-44c6-d151-eafa832010ac"
   },
   "outputs": [
    {
     "data": {
      "text/plain": [
       "{'title': 'A DESCENT INTO THE MAELSTRÖM',\n",
       " 'text': '\"The ways of God in Nature, as in Providence, are not as our ways; nor are the models that we frame any way commensurate to the vastness, profundity, and unsearchableness of His works, which have a depth in them greater than the well of Democritus. Joseph Glanville.    WE had now reached the summit of the loftiest crag. For some minutes the old man seemed too much exhausted to speak.     “Not long ago,” said he at length, “and I could have guided you on this route as well as the youngest of my sons; but, about three years past, there happened to me an event such as never happened to mortal man—or at least such as no man ever survived to tell of—and the six hours of deadly terror which I then endured have broken me up body and soul. You suppose me a very old man—but I am not. It took less than a single day to change these hairs from a jetty black to white, to weaken my limbs, and to unstring my nerves, so that I tremble at the least exertion, and am frightened at a shadow. Do you know I can scarcely look over this little cliff without getting giddy?”     The “little cliff,” upon whose edge he had so carelessly thrown himself down to rest that the weightier portion of his body hung over it, while he was only kept from falling by the tenure of his elbow on its extreme and slippery edge—this “little cliff” arose, a sheer unobstructed precipice of black shining rock, some fifteen or sixteen hundred feet from the world of crags beneath us. Nothing would have tempted me to within half a dozen yards of its brink. In truth so deeply was I excited by the perilous position of my companion, that I fell at full length upon the ground, clung to the shrubs around me, and dared not even glance upward at the sky—while I struggled in vain to divest myself of the idea that the very foundations of the mountain were in danger from the fury of the winds. It was long before I could reason myself into sufficient courage to sit up and look out into the distance.     “You must get over these fancies,” said the guide, “for I have brought you here that you might have the best possible view of the scene of that event I mentioned—and to tell you the whole story with the spot just under your eye.”     “We are now,” he continued, in that particularizing manner which distinguished him—“we are now close upon the Norwegian coast—in the sixty-eighth degree of latitude—in the great province of Nordland—and in the dreary district of Lofoden. The mountain upon whose top we sit is Helseggen, the Cloudy. Now raise yourself up a little higher—hold on to the grass if you feel giddy—so—and look out, beyond the belt of vapor beneath us, into the sea.”     I looked dizzily, and beheld a wide expanse of ocean, whose waters wore so inky a hue as to bring at once to my mind the Nubian geographer’s account of the Mare Tenebrarum. A panorama more deplorably desolate no human imagination can conceive. To the right and left, as far as the eye could reach, there lay outstretched, like ramparts of the world, lines of horridly black and beetling cliff, whose character of gloom was but the more forcibly illustrated by the surf which reared high up against its white and ghastly crest, howling and shrieking forever. Just opposite the promontory upon whose apex we were placed, and at a distance of some five or six miles out at sea, there was visible a small, bleak-looking island; or, more properly, its position was discernible through the wilderness of surge in which it was enveloped. About two miles nearer the land, arose another of smaller size, hideously craggy and barren, and encompassed at various intervals by a cluster of dark rocks.     The appearance of the ocean, in the space between the more distant island and the shore, had something very unusual about it. Although, at the time, so strong a gale was blowing landward that a brig in the remote offing lay to under a double-reefed trysail, and constantly plunged her whole hull out of sight, still there was here nothing like a regular swell, but only a short, quick, angry cross dashing of water in every direction—as well in the teeth of the wind as otherwise. Of foam there was little except in the immediate vicinity of the rocks.     “The island in the distance,” resumed the old man, “is called by the Norwegians Vurrgh. The one midway is Moskoe. That a mile to the northward is Ambaaren. Yonder are Islesen, Hotholm, Keildhelm, Suarven, and Buckholm. Farther off—between Moskoe and Vurrgh—are Otterholm, Flimen, Sandflesen, and Stockholm. These are the true names of the places—but why it has been thought necessary to name them at all, is more than either you or I can understand. Do you hear anything? Do you see any change in the water?”     We had now been about ten minutes upon the top of Helseggen, to which we had ascended from the interior of Lofoden, so that we had caught no glimpse of the sea until it had burst upon us from the summit. As the old man spoke, I became aware of a loud and gradually increasing sound, like the moaning of a vast herd of buffaloes upon an American prairie; and at the same moment I perceived that what seamen term the chopping character of the ocean beneath us, was rapidly changing into a current which set to the eastward. Even while I gazed, this current acquired a monstrous velocity. Each moment added to its speed—to its headlong impetuosity. In five minutes the whole sea, as far as Vurrgh, was lashed into ungovernable fury; but it was between Moskoe and the coast that the main uproar held its sway. Here the vast bed of the waters, seamed and scarred into a thousand conflicting channels, burst suddenly into phrensied convulsion—heaving, boiling, hissing—gyrating in gigantic and innumerable vortices, and all whirling and plunging on to the eastward with a rapidity which water never elsewhere assumes except in precipitous descents.     In a few minutes more, there came over the scene another radical alteration. The general surface grew somewhat more smooth, and the whirlpools, one by one, disappeared, while prodigious streaks of foam became apparent where none had been seen before. These streaks, at length, spreading out to a great distance, and entering into combination, took unto themselves the gyratory motion of the subsided vortices, and seemed to form the germ of another more vast. Suddenly—very suddenly—this assumed a distinct and definite existence, in a circle of more than a mile in diameter. The edge of the whirl was represented by a broad belt of gleaming spray; but no particle of this slipped into the mouth of the terrific funnel, whose interior, as far as the eye could fathom it, was a smooth, shining, and jet-black wall of water, inclined to the horizon at an angle of some forty-five degrees, speeding dizzily round and round with a swaying and sweltering motion, and sending forth to the winds an appalling voice, half shriek, half roar, such as not even the mighty cataract of Niagara ever lifts up in its agony to Heaven.     The mountain trembled to its very base, and the rock rocked. I threw myself upon my face, and clung to the scant herbage in an excess of nervous agitation.     “This,” said I at length, to the old man—“this can be nothing else than the great whirlpool of the Maelström.”     “So it is sometimes termed,” said he. “We Norwegians call it the Moskoe-ström, from the island of Moskoe in the midway.”     The ordinary accounts of this vortex had by no means prepared me for what I saw. That of Jonas Ramus, which is perhaps the most circumstantial of any, cannot impart the faintest conception either of the magnificence, or of the horror of the scene—or of the wild bewildering sense of the novel which confounds the beholder. I am not sure from what point of view the writer in question surveyed it, nor at what time; but it could neither have been from the summit of Helseggen, nor during a storm. There are some passages of his description, nevertheless, which may be quoted for their details, although their effect is exceedingly feeble in conveying an impression of the spectacle.     “Between Lofoden and Moskoe,” he says, “the depth of the water is between thirty-six and forty fathoms; but on the other side, toward Ver (Vurrgh) this depth decreases so as not to afford a convenient passage for a vessel, without the risk of splitting on the rocks, which happens even in the calmest weather. When it is flood, the stream runs up the country between Lofoden and Moskoe with a boisterous rapidity; but the roar of its impetuous ebb to the sea is scarce equalled by the loudest and most dreadful cataracts; the noise being heard several leagues off, and the vortices or pits are of such an extent and depth, that if a ship comes within its attraction, it is inevitably absorbed and carried down to the bottom, and there beat to pieces against the rocks; and when the water relaxes, the fragments thereof are thrown up again. But these intervals of tranquility are only at the turn of the ebb and flood, and in calm weather, and last but a quarter of an hour, its violence gradually returning. When the stream is most boisterous, and its fury heightened by a storm, it is dangerous to come within a Norway mile of it. Boats, yachts, and ships have been carried away by not guarding against it before they were within its reach. It likewise happens frequently, that whales come too near the stream, and are overpowered by its violence; and then it is impossible to describe their howlings and bellowings in their fruitless struggles to disengage themselves. A bear once, attempting to swim from Lofoden to Moskoe, was caught by the stream and borne down, while he roared terribly, so as to be heard on shore. Large stocks of firs and pine trees, after being absorbed by the current, rise again broken and torn to such a degree as if bristles grew upon them. This plainly shows the bottom to consist of craggy rocks, among which they are whirled to and fro. This stream is regulated by the flux and reflux of the sea—it being constantly high and low water every six hours. In the year 1645, early in the morning of Sexagesima Sunday, it raged with such noise and impetuosity that the very stones of the houses on the coast fell to the ground.”     In regard to the depth of the water, I could not see how this could have been ascertained at all in the immediate vicinity of the vortex. The “forty fathoms” must have reference only to portions of the channel close upon the shore either of Moskoe or Lofoden. The depth in the centre of the Moskoe-ström must be immeasurably greater; and no better proof of this fact is necessary than can be obtained from even the sidelong glance into the abyss of the whirl which may be had from the highest crag of Helseggen. Looking down from this pinnacle upon the howling Phlegethon below, I could not help smiling at the simplicity with which the honest Jonas Ramus records, as a matter difficult of belief, the anecdotes of the whales and the bears; for it appeared to me, in fact, a self-evident thing, that the largest ship of the line in existence, coming within the influence of that deadly attraction, could resist it as little as a feather the hurricane, and must disappear bodily and at once.     The attempts to account for the phenomenon—some of which, I remember, seemed to me sufficiently plausible in perusal—now wore a very different and unsatisfactory aspect. The idea generally received is that this, as well as three smaller vortices among the Ferroe islands, “have no other cause than the collision of waves rising and falling, at flux and reflux, against a ridge of rocks and shelves, which confines the water so that it precipitates itself like a cataract; and thus the higher the flood rises, the deeper must the fall be, and the natural result of all is a whirlpool or vortex, the prodigious suction of which is sufficiently known by lesser experiments.”—These are the words of the Encyclopædia Britannica. Kircher and others imagine that in the centre of the channel of the Maelström is an abyss penetrating the globe, and issuing in some very remote part—the Gulf of Bothnia being somewhat decidedly named in one instance. This opinion, idle in itself, was the one to which, as I gazed, my imagination most readily assented; and, mentioning it to the guide, I was rather surprised to hear him say that, although it was the view almost universally entertained of the subject by the Norwegians, it nevertheless was not his own. As to the former notion he confessed his inability to comprehend it; and here I agreed with him—for, however conclusive on paper, it becomes altogether unintelligible, and even absurd, amid the thunder of the abyss.     “You have had a good look at the whirl now,” said the old man, “and if you will creep round this crag, so as to get in its lee, and deaden the roar of the water, I will tell you a story that will convince you I ought to know something of the Moskoe-ström.”     I placed myself as desired, and he proceeded.     “Myself and my two brothers once owned a schooner-rigged smack of about seventy tons burthen, with which we were in the habit of fishing among the islands beyond Moskoe, nearly to Vurrgh. In all violent eddies at sea there is good fishing, at proper opportunities, if one has only the courage to attempt it; but among the whole of the Lofoden coastmen, we three were the only ones who made a regular business of going out to the islands, as I tell you. The usual grounds are a great way lower down to the southward. There fish can be got at all hours, without much risk, and therefore these places are preferred. The choice spots over here among the rocks, however, not only yield the finest variety, but in far greater abundance; so that we often got in a single day, what the more timid of the craft could not scrape together in a week. In fact, we made it a matter of desperate speculation—the risk of life standing instead of labor, and courage answering for capital.     “We kept the smack in a cove about five miles higher up the coast than this; and it was our practice, in fine weather, to take advantage of the fifteen minutes’ slack to push across the main channel of the Moskoe-ström, far above the pool, and then drop down upon anchorage somewhere near Otterholm, or Sandflesen, where the eddies are not so violent as elsewhere. Here we used to remain until nearly time for slack-water again, when we weighed and made for home. We never set out upon this expedition without a steady side wind for going and coming—one that we felt sure would not fail us before our return—and we seldom made a mis-calculation upon this point. Twice, during six years, we were forced to stay all night at anchor on account of a dead calm, which is a rare thing indeed just about here; and once we had to remain on the grounds nearly a week, starving to death, owing to a gale which blew up shortly after our arrival, and made the channel too boisterous to be thought of. Upon this occasion we should have been driven out to sea in spite of everything, (for the whirlpools threw us round and round so violently, that, at length, we fouled our anchor and dragged it) if it had not been that we drifted into one of the innumerable cross currents—here to-day and gone to-morrow—which drove us under the lee of Flimen, where, by good luck, we brought up.     “I could not tell you the twentieth part of the difficulties we encountered ‘on the grounds’—it is a bad spot to be in, even in good weather—but we made shift always to run the gauntlet of the Moskoe-ström itself without accident; although at times my heart has been in my mouth when we happened to be a minute or so behind or before the slack. The wind sometimes was not as strong as we thought it at starting, and then we made rather less way than we could wish, while the current rendered the smack unmanageable. My eldest brother had a son eighteen years old, and I had two stout boys of my own. These would have been of great assistance at such times, in using the sweeps, as well as afterward in fishing—but, somehow, although we ran the risk ourselves, we had not the heart to let the young ones get into the danger—for, after all is said and done, it was a horrible danger, and that is the truth.     “It is now within a few days of three years since what I am going to tell you occurred. It was on the tenth day of July, 18-, a day which the people of this part of the world will never forget—for it was one in which blew the most terrible hurricane that ever came out of the heavens. And yet all the morning, and indeed until late in the afternoon, there was a gentle and steady breeze from the south-west, while the sun shone brightly, so that the oldest seaman among us could not have foreseen what was to follow.     “The three of us—my two brothers and myself—had crossed over to the islands about two o’clock P. M., and had soon nearly loaded the smack with fine fish, which, we all remarked, were more plenty that day than we had ever known them. It was just seven, by my watch, when we weighed and started for home, so as to make the worst of the Ström at slack water, which we knew would be at eight.     “We set out with a fresh wind on our starboard quarter, and for some time spanked along at a great rate, never dreaming of danger, for indeed we saw not the slightest reason to apprehend it. All at once we were taken aback by a breeze from over Helseggen. This was most unusual—something that had never happened to us before—and I began to feel a little uneasy, without exactly knowing why. We put the boat on the wind, but could make no headway at all for the eddies, and I was upon the point of proposing to return to the anchorage, when, looking astern, we saw the whole horizon covered with a singular copper-colored cloud that rose with the most amazing velocity.     “In the meantime the breeze that had headed us off fell away, and we were dead becalmed, drifting about in every direction. This state of things, however, did not last long enough to give us time to think about it. In less than a minute the storm was upon us—in less than two the sky was entirely overcast—and what with this and the driving spray, it became suddenly so dark that we could not see each other in the smack.     “Such a hurricane as then blew it is folly to attempt describing. The oldest seaman in Norway never experienced any thing like it. We had let our sails go by the run before it cleverly took us; but, at the first puff, both our masts went by the board as if they had been sawed off—the mainmast taking with it my youngest brother, who had lashed himself to it for safety.     “Our boat was the lightest feather of a thing that ever sat upon water. It had a complete flush deck, with only a small hatch near the bow, and this hatch it had always been our custom to batten down when about to cross the Ström, by way of precaution against the chopping seas. But for this circumstance we should have foundered at once—for we lay entirely buried for some moments. How my elder brother escaped destruction I cannot say, for I never had an opportunity of ascertaining. For my part, as soon as I had let the foresail run, I threw myself flat on deck, with my feet against the narrow gunwale of the bow, and with my hands grasping a ring-bolt near the foot of the fore-mast. It was mere instinct that prompted me to do this—which was undoubtedly the very best thing I could have done—for I was too much flurried to think.     “For some moments we were completely deluged, as I say, and all this time I held my breath, and clung to the bolt. When I could stand it no longer I raised myself upon my knees, still keeping hold with my hands, and thus got my head clear. Presently our little boat gave herself a shake, just as a dog does in coming out of the water, and thus rid herself, in some measure, of the seas. I was now trying to get the better of the stupor that had come over me, and to collect my senses so as to see what was to be done, when I felt somebody grasp my arm. It was my elder brother, and my heart leaped for joy, for I had made sure that he was overboard—but the next moment all this joy was turned into horror—for he put his mouth close to my ear, and screamed out the word ‘Moskoe-ström!’     “No one ever will know what my feelings were at that moment. I shook from head to foot as if I had had the most violent fit of the ague. I knew what he meant by that one word well enough—I knew what he wished to make me understand. With the wind that now drove us on, we were bound for the whirl of the Ström, and nothing could save us!     “You perceive that in crossing the Ström channel, we always went a long way up above the whirl, even in the calmest weather, and then had to wait and watch carefully for the slack—but now we were driving right upon the pool itself, and in such a hurricane as this! ‘To be sure,’ I thought, ‘we shall get there just about the slack—there is some little hope in that’—but in the next moment I cursed myself for being so great a fool as to dream of hope at all. I knew very well that we were doomed, had we been ten times a ninety-gun ship.     “By this time the first fury of the tempest had spent itself, or perhaps we did not feel it so much, as we scudded before it, but at all events the seas, which at first had been kept down by the wind, and lay flat and frothing, now got up into absolute mountains. A singular change, too, had come over the heavens. Around in every direction it was still as black as pitch, but nearly overhead there burst out, all at once, a circular rift of clear sky—as clear as I ever saw—and of a deep bright blue—and through it there blazed forth the full moon with a lustre that I never before knew her to wear. She lit up every thing about us with the greatest distinctness—but, oh God, what a scene it was to light up!     “I now made one or two attempts to speak to my brother—but, in some manner which I could not understand, the din had so increased that I could not make him hear a single word, although I screamed at the top of my voice in his ear. Presently he shook his head, looking as pale as death, and held up one of his fingers, as if to say ‘listen! ‘     “At first I could not make out what he meant—but soon a hideous thought flashed upon me. I dragged my watch from its fob. It was not going. I glanced at its face by the moonlight, and then burst into tears as I flung it far away into the ocean. It had run down at seven o’clock! We were behind the time of the slack, and the whirl of the Ström was in full fury!     “When a boat is well built, properly trimmed, and not deep laden, the waves in a strong gale, when she is going large, seem always to slip from beneath her—which appears very strange to a landsman—and this is what is called riding, in sea phrase. Well, so far we had ridden the swells very cleverly; but presently a gigantic sea happened to take us right under the counter, and bore us with it as it rose—up—up—as if into the sky. I would not have believed that any wave could rise so high. And then down we came with a sweep, a slide, and a plunge, that made me feel sick and dizzy, as if I was falling from some lofty mountain-top in a dream. But while we were up I had thrown a quick glance around—and that one glance was all sufficient. I saw our exact position in an instant. The Moskoe-Ström whirlpool was about a quarter of a mile dead ahead—but no more like the every-day Moskoe-Ström, than the whirl as you now see it is like a mill-race. If I had not known where we were, and what we had to expect, I should not have recognised the place at all. As it was, I involuntarily closed my eyes in horror. The lids clenched themselves together as if in a spasm.     “It could not have been more than two minutes afterward until we suddenly felt the waves subside, and were enveloped in foam. The boat made a sharp half turn to larboard, and then shot off in its new direction like a thunderbolt. At the same moment the roaring noise of the water was completely drowned in a kind of shrill shriek—such a sound as you might imagine given out by the waste-pipes of many thousand steam-vessels, letting off their steam all together. We were now in the belt of surf that always surrounds the whirl; and I thought, of course, that another moment would plunge us into the abyss—down which we could only see indistinctly on account of the amazing velocity with which we wore borne along. The boat did not seem to sink into the water at all, but to skim like an air-bubble upon the surface of the surge. Her starboard side was next the whirl, and on the larboard arose the world of ocean we had left. It stood like a huge writhing wall between us and the horizon.     “It may appear strange, but now, when we were in the very jaws of the gulf, I felt more composed than when we were only approaching it. Having made up my mind to hope no more, I got rid of a great deal of that terror which unmanned me at first. I suppose it was despair that strung my nerves.     “It may look like boasting—but what I tell you is truth—I began to reflect how magnificent a thing it was to die in such a manner, and how foolish it was in me to think of so paltry a consideration as my own individual life, in view of so wonderful a manifestation of God’s power. I do believe that I blushed with shame when this idea crossed my mind. After a little while I became possessed with the keenest curiosity about the whirl itself. I positively felt a wish to explore its depths, even at the sacrifice I was going to make; and my principal grief was that I should never be able to tell my old companions on shore about the mysteries I should see. These, no doubt, were singular fancies to occupy a man’s mind in such extremity—and I have often thought since, that the revolutions of the boat around the pool might have rendered me a little light-headed.     “There was another circumstance which tended to restore my self-possession; and this was the cessation of the wind, which could not reach us in our present situation—for, as you saw yourself, the belt of surf is considerably lower than the general bed of the ocean, and this latter now towered above us, a high, black, mountainous ridge. If you have never been at sea in a heavy gale, you can form no idea of the confusion of mind occasioned by the wind and spray together. They blind, deafen, and strangle you, and take away all power of action or reflection. But we were now, in a great measure, rid of these annoyances—just as death-condemned felons in prison are allowed petty indulgences, forbidden them while their doom is yet uncertain.     “How often we made the circuit of the belt it is impossible to say. We careered round and round for perhaps an hour, flying rather than floating, getting gradually more and more into the middle of the surge, and then nearer and nearer to its horrible inner edge. All this time I had never let go of the ring-bolt. My brother was at the stern, holding on to a small empty water-cask which had been securely lashed under the coop of the counter, and was the only thing on deck that had not been swept overboard when the gale first took us. As we approached the brink of the pit he let go his hold upon this, and made for the ring, from which, in the agony of his terror, he endeavored to force my hands, as it was not large enough to afford us both a secure grasp. I never felt deeper grief than when I saw him attempt this act—although I knew he was a madman when he did it—a raving maniac through sheer fright. I did not care, however, to contest the point with him. I knew it could make no difference whether either of us held on at all; so I let him have the bolt, and went astern to the cask. This there was no great difficulty in doing; for the smack flew round steadily enough, and upon an even keel—only swaying to and fro, with the immense sweeps and swelters of the whirl. Scarcely had I secured myself in my new position, when we gave a wild lurch to starboard, and rushed headlong into the abyss. I muttered a hurried prayer to God, and thought all was over.     “As I felt the sickening sweep of the descent, I had instinctively tightened my hold upon the barrel, and closed my eyes. For some seconds I dared not open them—while I expected instant destruction, and wondered that I was not already in my death-struggles with the water. But moment after moment elapsed. I still lived. The sense of falling had ceased; and the motion of the vessel seemed much as it had been before, while in the belt of foam, with the exception that she now lay more along. I took courage, and looked once again upon the scene.     “Never shall I forget the sensations of awe, horror, and admiration with which I gazed about me. The boat appeared to be hanging, as if by magic, midway down, upon the interior surface of a funnel vast in circumference, prodigious in depth, and whose perfectly smooth sides might have been mistaken for ebony, but for the bewildering rapidity with which they spun around, and for the gleaming and ghastly radiance they shot forth, as the rays of the full moon, from that circular rift amid the clouds which I have already described, streamed in a flood of golden glory along the black walls, and far away down into the inmost recesses of the abyss.     “At first I was too much confused to observe anything accurately. The general burst of terrific grandeur was all that I beheld. When I recovered myself a little, however, my gaze fell instinctively downward. In this direction I was able to obtain an unobstructed view, from the manner in which the smack hung on the inclined surface of the pool. She was quite upon an even keel—that is to say, her deck lay in a plane parallel with that of the water—but this latter sloped at an angle of more than forty-five degrees, so that we seemed to be lying upon our beam-ends. I could not help observing, nevertheless, that I had scarcely more difficulty in maintaining my hold and footing in this situation, than if we had been upon a dead level; and this, I suppose, was owing to the speed at which we revolved.     “The rays of the moon seemed to search the very bottom of the profound gulf; but still I could make out nothing distinctly, on account of a thick mist in which everything there was enveloped, and over which there hung a magnificent rainbow, like that narrow and tottering bridge which Mussulmen say is the only pathway between Time and Eternity. This mist, or spray, was no doubt occasioned by the clashing of the great walls of the funnel, as they all met together at the bottom—but the yell that went up to the Heavens from out of that mist, I dare not attempt to describe.     “Our first slide into the abyss itself, from the belt of foam above, had carried us a great distance down the slope; but our farther descent was by no means proportionate. Round and round we swept—not with any uniform movement—but in dizzying swings and jerks, that sent us sometimes only a few hundred yards—sometimes nearly the complete circuit of the whirl. Our progress downward, at each revolution, was slow, but very perceptible.     “Looking about me upon the wide waste of liquid ebony on which we were thus borne, I perceived that our boat was not the only object in the embrace of the whirl. Both above and below us were visible fragments of vessels, large masses of building timber and trunks of trees, with many smaller articles, such as pieces of house furniture, broken boxes, barrels and staves. I have already described the unnatural curiosity which had taken the place of my original terrors. It appeared to grow upon me as I drew nearer and nearer to my dreadful doom. I now began to watch, with a strange interest, the numerous things that floated in our company. I must have been delirious—for I even sought amusement in speculating upon the relative velocities of their several descents toward the foam below. ‘This fir tree,’ I found myself at one time saying, ‘will certainly be the next thing that takes the awful plunge and disappears,’—and then I was disappointed to find that the wreck of a Dutch merchant ship overtook it and went down before. At length, after making several guesses of this nature, and being deceived in all—this fact—the fact of my invariable miscalculation—set me upon a train of reflection that made my limbs again tremble, and my heart beat heavily once more.     “It was not a new terror that thus affected me, but the dawn of a more exciting hope. This hope arose partly from memory, and partly from present observation. I called to mind the great variety of buoyant matter that strewed the coast of Lofoden, having been absorbed and then thrown forth by the Moskoe-ström. By far the greater number of the articles were shattered in the most extraordinary way—so chafed and roughened as to have the appearance of being stuck full of splinters—but then I distinctly recollected that there were some of them which were not disfigured at all. Now I could not account for this difference except by supposing that the roughened fragments were the only ones which had been completely absorbed—that the others had entered the whirl at so late a period of the tide, or, for some reason, had descended so slowly after entering, that they did not reach the bottom before the turn of the flood came, or of the ebb, as the case might be. I conceived it possible, in either instance, that they might thus be whirled up again to the level of the ocean, without undergoing the fate of those which had been drawn in more early, or absorbed more rapidly. I made, also, three important observations. The first was, that, as a general rule, the larger the bodies were, the more rapid their descent—the second, that, between two masses of equal extent, the one spherical, and the other of any other shape, the superiority in speed of descent was with the sphere—the third, that, between two masses of equal size, the one cylindrical, and the other of any other shape, the cylinder was absorbed the more slowly. Since my escape, I have had several conversations on this subject with an old school-master of the district; and it was from him that I learned the use of the words ‘cylinder’ and ‘sphere.’ He explained to me—although I have forgotten the explanation—how what I observed was, in fact, the natural consequence of the forms of the floating fragments—and showed me how it happened that a cylinder, swimming in a vortex, offered more resistance to its suction, and was drawn in with greater difficulty than an equally bulky body, of any form whatever. (*1)     “There was one startling circumstance which went a great way in enforcing these observations, and rendering me anxious to turn them to account, and this was that, at every revolution, we passed something like a barrel, or else the yard or the mast of a vessel, while many of these things, which had been on our level when I first opened my eyes upon the wonders of the whirlpool, were now high up above us, and seemed to have moved but little from their original station.     “I no longer hesitated what to do. I resolved to lash myself securely to the water cask upon which I now held, to cut it loose from the counter, and to throw myself with it into the water. I attracted my brother’s attention by signs, pointed to the floating barrels that came near us, and did everything in my power to make him understand what I was about to do. I thought at length that he comprehended my design—but, whether this was the case or not, he shook his head despairingly, and refused to move from his station by the ring-bolt. It was impossible to reach him; the emergency admitted of no delay; and so, with a bitter struggle, I resigned him to his fate, fastened myself to the cask by means of the lashings which secured it to the counter, and precipitated myself with it into the sea, without another moment’s hesitation.     “The result was precisely what I had hoped it might be. As it is myself who now tell you this tale—as you see that I did escape—and as you are already in possession of the mode in which this escape was effected, and must therefore anticipate all that I have farther to say—I will bring my story quickly to conclusion. It might have been an hour, or thereabout, after my quitting the smack, when, having descended to a vast distance beneath me, it made three or four wild gyrations in rapid succession, and, bearing my loved brother with it, plunged headlong, at once and forever, into the chaos of foam below. The barrel to which I was attached sunk very little farther than half the distance between the bottom of the gulf and the spot at which I leaped overboard, before a great change took place in the character of the whirlpool. The slope of the sides of the vast funnel became momently less and less steep. The gyrations of the whirl grew, gradually, less and less violent. By degrees, the froth and the rainbow disappeared, and the bottom of the gulf seemed slowly to uprise. The sky was clear, the winds had gone down, and the full moon was setting radiantly in the west, when I found myself on the surface of the ocean, in full view of the shores of Lofoden, and above the spot where the pool of the Moskoe-ström had been. It was the hour of the slack—but the sea still heaved in mountainous waves from the effects of the hurricane. I was borne violently into the channel of the Ström, and in a few minutes was hurried down the coast into the ‘grounds’ of the fishermen. A boat picked me up—exhausted from fatigue—and (now that the danger was removed) speechless from the memory of its horror. Those who drew me on board were my old mates and daily companions—but they knew me no more than they would have known a traveller from the spirit-land. My hair which had been raven-black the day before, was as white as you see it now. They say too that the whole expression of my countenance had changed. I told them my story—they did not believe it. I now tell it to you—and I can scarcely expect you to put more faith in it than did the merry fishermen of Lofoden.”',\n",
       " 'classification': 'Adventure'}"
      ]
     },
     "execution_count": 51,
     "metadata": {},
     "output_type": "execute_result"
    }
   ],
   "source": [
    "import random as random\n",
    "\n",
    "random.choice(sentences)"
   ]
  },
  {
   "cell_type": "markdown",
   "metadata": {
    "id": "hF3n-nsdbzd7"
   },
   "source": [
    "Note: You can make your own corpus that works with the code in this notebook by exporting your data in TSV format with one line per sentence, with columns for the following:\n",
    "\n",
    "* `title`: the title of the work that the sentence comes from\n",
    "* `index`: the index of the sentence in the work\n",
    "* `total`: the total number of sentences in the work\n",
    "* `text`: the text of the sentence"
   ]
  },
  {
   "cell_type": "markdown",
   "metadata": {
    "id": "2PF1UvDLbzd8"
   },
   "source": [
    "## Natural language processing"
   ]
  },
  {
   "cell_type": "markdown",
   "metadata": {
    "id": "oKwUlurLbzd9"
   },
   "source": [
    "To get an idea of what's happening in the text of the plots, we can do a bit of Natural Language Processing. I cover just the bare essentials in this notebook. [Here's a more in-depth tutorial that I wrote](https://github.com/aparrish/rwet/blob/master/nlp-concepts-with-spacy.ipynb).\n",
    "\n",
    "Most natural language processing is done with the aid of third-party libraries. We're going to use one called spaCy. To use spaCy, you first need to install it (i.e., download the code and put it in a place where Python can find it) and download the language model. (The language model contains statistical information about a particular language that makes it possible for spaCy to do things like parse sentences into their constituent parts.)\n",
    "\n",
    "Run the following cell to load spaCy's model:"
   ]
  },
  {
   "cell_type": "code",
   "execution_count": 142,
   "metadata": {
    "id": "OgTEULYmbzd-"
   },
   "outputs": [
    {
     "name": "stdout",
     "output_type": "stream",
     "text": [
      "\u001b[1m\n",
      "============================== Info about spaCy ==============================\u001b[0m\n",
      "\n",
      "spaCy version    3.3.1                         \n",
      "Location         C:\\Users\\aarya\\anaconda3\\lib\\site-packages\\spacy\n",
      "Platform         Windows-10-10.0.22000-SP0     \n",
      "Python version   3.9.12                        \n",
      "Pipelines        en_core_web_md (3.3.0), en_core_web_sm (3.3.0)\n",
      "\n"
     ]
    }
   ],
   "source": [
    "import os\n",
    "import sys\n",
    "!{sys.executable} -m spacy info \n",
    "import time\n",
    "import spacy\n",
    "\n",
    "nlp = spacy.load('en_core_web_md')\n"
   ]
  },
  {
   "cell_type": "markdown",
   "metadata": {
    "id": "tMm_uQJibzd-"
   },
   "source": [
    "### (This could also take a while–the model is potentially very large and your computer needs to load it from your hard drive and into memory. When you see a `[*]` next to a cell, that means that your computer is still working on executing the code in the cell.)"
   ]
  },
  {
   "cell_type": "markdown",
   "metadata": {
    "id": "0qrZdI4obzd-"
   },
   "source": [
    "Right off the bat, the spaCy library gives us access to a number of interesting units of text:\n",
    "\n",
    "* All of the sentences (`doc.sents`)\n",
    "* All of the words (`doc`)\n",
    "* All of the \"named entities,\" like names of places, people, #brands, etc. (`doc.ents`)\n",
    "* All of the \"noun chunks,\" i.e., nouns in the text plus surrounding matter like adjectives and articles\n",
    "\n",
    "The cell below, we extract these into variables so we can play around with them a little bit. (Parsing sentences is hungry work and the following cell will take a while to execute.)"
   ]
  },
  {
   "cell_type": "code",
   "execution_count": 143,
   "metadata": {
    "id": "-qPkrk9Ubzd-",
    "outputId": "6b87d6a6-2698-4a33-8a07-5171d9fa744e"
   },
   "outputs": [
    {
     "name": "stdout",
     "output_type": "stream",
     "text": [
      "0 3\n"
     ]
    }
   ],
   "source": [
    "words = []\n",
    "noun_chunks = []\n",
    "entities = []\n",
    "# only use 1000 sentences sampled at random by default; comment out this `for...`\n",
    "# uncomment the `for...` beneath to use every sentence in the corpus.\n",
    "for i, sent in enumerate(random.sample(sentences, 1)):\n",
    "#for i, sent in enumerate(sentences):\n",
    "    if i % 100 == 0:\n",
    "        print(i, len(sentences))\n",
    "    doc = nlp(sent['text'])\n",
    "    words.extend([w for w in list(doc) if w.is_alpha])\n",
    "    noun_chunks.extend(list(doc.noun_chunks))\n",
    "    entities.extend(list(doc.ents))"
   ]
  },
  {
   "cell_type": "markdown",
   "metadata": {
    "id": "gjKCslRDbzd_"
   },
   "source": [
    "Just to make sure it worked, print out ten random words:"
   ]
  },
  {
   "cell_type": "code",
   "execution_count": 54,
   "metadata": {
    "id": "ftvfNE2Abzd_",
    "outputId": "d935f3d6-82f0-4fd0-f1fd-23065d23cb3d"
   },
   "outputs": [
    {
     "name": "stdout",
     "output_type": "stream",
     "text": [
      "with\n",
      "passed\n",
      "the\n",
      "was\n",
      "closed\n",
      "astern\n",
      "horror\n",
      "prayer\n",
      "fingers\n",
      "the\n"
     ]
    }
   ],
   "source": [
    "for item in random.sample(words, 10):\n",
    "    print(item.text)"
   ]
  },
  {
   "cell_type": "markdown",
   "metadata": {
    "id": "uAVp25zHbzd_"
   },
   "source": [
    "Ten random noun chunks:"
   ]
  },
  {
   "cell_type": "code",
   "execution_count": 144,
   "metadata": {
    "id": "SkrsMuVdbzeA",
    "outputId": "f9190e87-3787-4467-a63d-9608a0df4943"
   },
   "outputs": [
    {
     "name": "stdout",
     "output_type": "stream",
     "text": [
      "it\n",
      "the king\n",
      "Christ\n",
      "us\n",
      "‘Delight\n",
      "a prominent kind\n",
      "He\n",
      "what\n",
      "need\n",
      "philosophers\n",
      "the country\n",
      "a difficulty\n",
      "all the autocrats\n",
      "his two principal concubines\n",
      "the faith\n",
      "the Greek Simia\n",
      "yonder singular building\n",
      "The greatest portion\n",
      "reputation\n",
      "the interior\n",
      "Epidaphne\n",
      "de\n",
      "nothing\n",
      "hadst thou\n",
      "the wreath\n",
      "Tantum vini habet nemo   Quantum sanguinis effudit!(*1\n",
      "a rope\n",
      "thy legs\n",
      "We\n",
      "a temple\n",
      "us\n",
      "a catapult\n",
      "wind instruments\n",
      "a circumstance\n",
      "whither\n",
      "the year\n",
      "See!—the whole town\n",
      "The air\n",
      "it\n",
      "the East\n",
      "laughter\n",
      "Epidaphne\n",
      "circumstances\n",
      "the dress\n",
      "more   Red gallons\n",
      "such occasions\n",
      "It\n",
      "the East\n",
      "the remarkable city\n",
      "It\n",
      "we\n",
      "Poets\n",
      "fun\n",
      "the footrace\n",
      "a baboon\n",
      "idiots\n",
      "the historians\n",
      "him\n",
      "how superior a dignity\n",
      "our king\n",
      "future ages\n",
      "the town\n",
      "the temple\n",
      "Elline\n",
      "the lesser or timid species\n",
      "Antiochus Epiphanes\n",
      "the pains\n",
      "we\n",
      "that most grotesque habitation\n",
      "what\n",
      "instruments\n",
      "which\n",
      "none\n",
      "the Holy\n",
      "the palace;—therefore\n",
      "celebration\n",
      "you\n",
      "the residence\n",
      "The lion\n",
      "all others\n",
      "wine\n",
      "the tide\n",
      "itself\n",
      "the king\n",
      "His name\n",
      "the wild animals\n",
      "reverence\n",
      "the town\n",
      "the appearance\n",
      "any adventitious embellishment\n",
      "They\n",
      "example\n",
      "it\n",
      "mastication\n",
      "pyramid\n",
      "Epiphanes\n",
      "It\n",
      "the poetic wreath\n",
      "this\n",
      "him\n"
     ]
    }
   ],
   "source": [
    "for item in random.sample(noun_chunks, 100):\n",
    "    print(item.text)"
   ]
  },
  {
   "cell_type": "markdown",
   "metadata": {
    "id": "UvweRgb9bzeA"
   },
   "source": [
    "Ten random entities:"
   ]
  },
  {
   "cell_type": "code",
   "execution_count": 145,
   "metadata": {
    "id": "0Hy7qRSKbzeB",
    "outputId": "0c65b81d-61f9-4514-a940-a2764b985165"
   },
   "outputs": [
    {
     "name": "stdout",
     "output_type": "stream",
     "text": [
      "Syrian\n",
      "Vivat qui mille mille\n",
      "East\n",
      "Roman Emperor\n",
      "Damascus\n",
      "East\n",
      "about twelve miles\n",
      "Syrians\n",
      "Elline\n",
      "the nineteenth century\n"
     ]
    }
   ],
   "source": [
    "for item in random.sample(entities, 10):\n",
    "    print(item.text)"
   ]
  },
  {
   "cell_type": "markdown",
   "metadata": {
    "id": "LF7ZdHZibzeB"
   },
   "source": [
    "### Grammatical roles\n",
    "\n",
    "The parser included with spaCy can also give us information about the grammatical roles in the sentence. For example, the `.root.dep_` attribute of a noun chunk tells us whether that noun chunk is the subject of the sentence (\"nsubj\") or a direct object (\"dobj\") of the sentence. (See the \"Universal Dependency Labels\" of spaCy's [annotation specs](https://spacy.io/api/annotation) for more possible roles.) Using this information, we can make a list of sentence subjects and sentence objects:"
   ]
  },
  {
   "cell_type": "code",
   "execution_count": 146,
   "metadata": {
    "id": "sIRSWjMMbzeC"
   },
   "outputs": [],
   "source": [
    "subjects = [chunk for chunk in noun_chunks if chunk.root.dep_ == 'nsubj']\n",
    "objects = [chunk for chunk in noun_chunks if chunk.root.dep_ == 'dobj']"
   ]
  },
  {
   "cell_type": "code",
   "execution_count": 147,
   "metadata": {
    "id": "qH9eTRx8bzeC",
    "outputId": "c66e183c-345b-4575-ff87-4d136faf6ca2"
   },
   "outputs": [
    {
     "data": {
      "text/plain": [
       "[His name,\n",
       " I,\n",
       " The king,\n",
       " The sea,\n",
       " which,\n",
       " It,\n",
       " they,\n",
       " the monarch,\n",
       " which,\n",
       " see!—see!—yonder]"
      ]
     },
     "execution_count": 147,
     "metadata": {},
     "output_type": "execute_result"
    }
   ],
   "source": [
    "random.sample(subjects, 10)"
   ]
  },
  {
   "cell_type": "code",
   "execution_count": 148,
   "metadata": {
    "id": "-yKYrNWobzeC",
    "outputId": "e0d9d486-bcc8-49dd-a801-aeecc04bad21"
   },
   "outputs": [
    {
     "data": {
      "text/plain": [
       "[his dignity,\n",
       " an example,\n",
       " him,\n",
       " comparison,\n",
       " the populace,\n",
       " us,\n",
       " him,\n",
       " the darkness,\n",
       " a peculiarity,\n",
       " him]"
      ]
     },
     "execution_count": 148,
     "metadata": {},
     "output_type": "execute_result"
    }
   ],
   "source": [
    "random.sample(objects, 10)"
   ]
  },
  {
   "cell_type": "markdown",
   "metadata": {
    "id": "Jz4oEErabzeD"
   },
   "source": [
    "### Parts of speech\n",
    "\n",
    "The spaCy parser allows us to check what part of speech a word belongs to. In the cell below, we create four different lists—`nouns`, `verbs`, `adjs` and `advs`—that contain only words of the specified parts of speech. Using the `.tag_` attribute, we can easily get only particular forms of verbs; in this case, I'm just getting verbs that are in the past tense. ([There's a full list of part of speech tags here](https://spacy.io/docs/usage/pos-tagging#pos-tagging-english).)"
   ]
  },
  {
   "cell_type": "code",
   "execution_count": 149,
   "metadata": {
    "id": "odOZv8RObzeD"
   },
   "outputs": [],
   "source": [
    "nouns = [w for w in words if w.pos_ == \"NOUN\"]\n",
    "verbs = [w for w in words if w.pos_ == \"VERB\"]\n",
    "past_tense_verbs = [w for w in words if w.tag_ == 'VBD']\n",
    "adjs = [w for w in words if w.tag_ == \"JJ\"]\n",
    "advs = [w for w in words if w.pos_ == \"ADV\"]"
   ]
  },
  {
   "cell_type": "markdown",
   "metadata": {
    "id": "_14TV_4YbzeD"
   },
   "source": [
    "And now we can print out a random sample of any of these:"
   ]
  },
  {
   "cell_type": "code",
   "execution_count": 150,
   "metadata": {
    "id": "t_Fuh8gSbzeD",
    "outputId": "2a867a4f-33ed-434c-db6e-d29216b6b76b"
   },
   "outputs": [
    {
     "name": "stdout",
     "output_type": "stream",
     "text": [
      "mob\n",
      "fumes\n",
      "anticipation\n",
      "monarch\n",
      "whither\n",
      "people\n",
      "things\n",
      "help\n",
      "voice\n",
      "city\n",
      "lion\n",
      "pollution\n"
     ]
    }
   ],
   "source": [
    "for item in random.sample(nouns, 12): # change \"nouns\" to \"verbs\" or \"adjs\" or \"advs\" to sample from those lists!\n",
    "    print(item.text)"
   ]
  },
  {
   "cell_type": "markdown",
   "metadata": {
    "id": "ImXK3jc8bzeE"
   },
   "source": [
    "### Entity types\n",
    "\n",
    "The parser in spaCy not only identifies \"entities\" but also assigns them to a particular type. [See a full list of entity types here.](https://spacy.io/docs/usage/entity-recognition#entity-types) Using this information, the following cell builds lists of the people, locations, and times mentioned in the text:"
   ]
  },
  {
   "cell_type": "code",
   "execution_count": 156,
   "metadata": {
    "id": "M9gJGAlQbzeE"
   },
   "outputs": [],
   "source": [
    "people = [e for e in entities if e.label_ == \"PERSON\"]\n",
    "locations = [e for e in entities if e.label_ == \"LOC\"]\n",
    "times = [e for e in entities if e.label_ == \"TIME\"]"
   ]
  },
  {
   "cell_type": "markdown",
   "metadata": {
    "id": "hE-HX81QbzeE"
   },
   "source": [
    "And then you can print out a random sample:"
   ]
  },
  {
   "cell_type": "code",
   "execution_count": 161,
   "metadata": {
    "id": "9qdWIlyYbzeF",
    "outputId": "746bc76f-92a0-445f-b381-262b6351482c"
   },
   "outputs": [
    {
     "name": "stdout",
     "output_type": "stream",
     "text": [
      "a few minutes\n"
     ]
    }
   ],
   "source": [
    "for item in random.sample(times, 1): # change \"times\" to \"people\" or \"locations\" to sample those lists\n",
    "    print(item.text.strip())"
   ]
  },
  {
   "cell_type": "markdown",
   "metadata": {
    "id": "3VGwLAAgbzeF"
   },
   "source": [
    "### Finding the most common\n",
    "\n",
    "We won't go too deep into text analysis in this tutorial, but it's useful to be able to do the most fundamental task in text analysis: finding the things that are most common. The code to do this task looks like the following, which gives us a way to look up how often any word occurs in the text:"
   ]
  },
  {
   "cell_type": "code",
   "execution_count": 163,
   "metadata": {
    "id": "XU_qUW5ebzeF"
   },
   "outputs": [],
   "source": [
    "from collections import Counter\n",
    "word_count = Counter([w.text for w in words])"
   ]
  },
  {
   "cell_type": "code",
   "execution_count": 164,
   "metadata": {
    "id": "sDMbdOeNbzeG",
    "outputId": "d4557f2f-63fa-4abd-bbb3-245f8ba17dde"
   },
   "outputs": [
    {
     "data": {
      "text/plain": [
       "0"
      ]
     },
     "execution_count": 164,
     "metadata": {},
     "output_type": "execute_result"
    }
   ],
   "source": [
    "word_count['Meanwhile']"
   ]
  },
  {
   "cell_type": "markdown",
   "metadata": {
    "id": "IPIN0WV4bzeG"
   },
   "source": [
    "... and also tells us which words are most common:"
   ]
  },
  {
   "cell_type": "code",
   "execution_count": 68,
   "metadata": {
    "id": "OEPStA6CbzeG",
    "outputId": "0cefe319-d3f4-406a-9a95-50950b8e7661"
   },
   "outputs": [
    {
     "data": {
      "text/plain": [
       "[('the', 518),\n",
       " ('of', 266),\n",
       " ('and', 220),\n",
       " ('to', 178),\n",
       " ('a', 156),\n",
       " ('I', 150),\n",
       " ('in', 124),\n",
       " ('was', 98),\n",
       " ('that', 92),\n",
       " ('it', 80),\n",
       " ('as', 76),\n",
       " ('we', 68)]"
      ]
     },
     "execution_count": 68,
     "metadata": {},
     "output_type": "execute_result"
    }
   ],
   "source": [
    "word_count.most_common(12)"
   ]
  },
  {
   "cell_type": "markdown",
   "metadata": {
    "id": "7XaIZpZ4bzeG"
   },
   "source": [
    "You can make a counter for any of the other lists we've worked with using the same syntax. Just make up a unique variable name on the left of the `=` sign and put the name of the list you want to count in the brackets to the right (replacing `words`). E.g., to find the most common people:"
   ]
  },
  {
   "cell_type": "code",
   "execution_count": 165,
   "metadata": {
    "id": "g2PhznW6bzeG"
   },
   "outputs": [],
   "source": [
    "people_count = Counter([w.text for w in people])"
   ]
  },
  {
   "cell_type": "code",
   "execution_count": 167,
   "metadata": {
    "id": "ZOfpAn1XbzeH",
    "outputId": "539a59f7-b6b2-451d-f1f9-0e41c3591b15",
    "scrolled": true
   },
   "outputs": [
    {
     "data": {
      "text/plain": [
       "[('Epiphanes', 3),\n",
       " ('mille', 2),\n",
       " ('Antiochus Epiphanes', 2),\n",
       " ('Cambyses', 1),\n",
       " ('Daphne', 1),\n",
       " ('Seleucus Nicanor', 1),\n",
       " ('Alexander the Great', 1),\n",
       " ('Shakespeare', 1),\n",
       " ('Elah Gabalah', 1),\n",
       " ('Vivat qui mille mille', 1),\n",
       " ('Tantum vini habet nemo   ', 1),\n",
       " ('cameleopard', 1)]"
      ]
     },
     "execution_count": 167,
     "metadata": {},
     "output_type": "execute_result"
    }
   ],
   "source": [
    "people_count.most_common(12)"
   ]
  },
  {
   "cell_type": "markdown",
   "metadata": {
    "id": "VMfbC3v7bzeH"
   },
   "source": [
    "The most common past-tense verbs:"
   ]
  },
  {
   "cell_type": "code",
   "execution_count": 71,
   "metadata": {
    "id": "8_jlchwMbzeH"
   },
   "outputs": [],
   "source": [
    "vbd_count = Counter([w.text for w in past_tense_verbs])"
   ]
  },
  {
   "cell_type": "code",
   "execution_count": 168,
   "metadata": {
    "id": "IziDh6F1bzeH",
    "outputId": "50b4cab0-f17e-4882-edfe-ea5ba8b56331"
   },
   "outputs": [
    {
     "data": {
      "text/plain": [
       "[('was', 98),\n",
       " ('had', 62),\n",
       " ('were', 32),\n",
       " ('made', 15),\n",
       " ('did', 10),\n",
       " ('seemed', 8),\n",
       " ('knew', 8),\n",
       " ('saw', 7),\n",
       " ('felt', 7),\n",
       " ('took', 6),\n",
       " ('went', 6),\n",
       " ('said', 5)]"
      ]
     },
     "execution_count": 168,
     "metadata": {},
     "output_type": "execute_result"
    }
   ],
   "source": [
    "vbd_count.most_common(12)"
   ]
  },
  {
   "cell_type": "markdown",
   "metadata": {
    "id": "52K5LODebzeI"
   },
   "source": [
    "### Writing to a file\n",
    "\n",
    "The following cell defines a function for writing data from a `Counter` object to a file. The file is in \"tab-separated values\" format, which you can open using most spreadsheet programs. Execute it before you continue:"
   ]
  },
  {
   "cell_type": "code",
   "execution_count": 169,
   "metadata": {
    "id": "aRIEc4nabzeI"
   },
   "outputs": [],
   "source": [
    "def save_counter_tsv(filename, counter, limit=1000):\n",
    "    with open(filename, \"w\", encoding=\"utf-8\") as outfile:\n",
    "        outfile.write(\"key\\tvalue\\n\")\n",
    "        for item, count in counter.most_common():\n",
    "            outfile.write(item.strip() + \"\\t\" + str(count) + \"\\n\")    "
   ]
  },
  {
   "cell_type": "markdown",
   "metadata": {
    "id": "QhWiflu7bzeI"
   },
   "source": [
    "Now, run the following cell. You'll end up with a file in the same directory as this notebook called `100_common_words.tsv` that has two columns, one for the words and one for their associated counts:"
   ]
  },
  {
   "cell_type": "code",
   "execution_count": 170,
   "metadata": {
    "id": "btietQWIbzeI"
   },
   "outputs": [],
   "source": [
    "save_counter_tsv(\"100_common_words.tsv\", word_count, 100)"
   ]
  },
  {
   "cell_type": "markdown",
   "metadata": {
    "id": "v44wvNmLbzeJ"
   },
   "source": [
    "Try opening this file in Excel or Google Docs or Numbers!\n",
    "\n",
    "If you want to write the data from another `Counter` object to a file:\n",
    "\n",
    "* Change the filename to whatever you want (though you should probably keep the `.tsv` extension)\n",
    "* Replace `word_count` with the name of any of the `Counter` objects we've made in this sheet and use it in place of `word_count`\n",
    "* Change the number to the number of rows you want to include in your spreadsheet."
   ]
  },
  {
   "cell_type": "markdown",
   "metadata": {
    "id": "3Z4FBEQUbzeJ"
   },
   "source": [
    "### When do things happen in this text?\n",
    "\n",
    "Here's another example. Using the `times` entities, we can make a spreadsheet of how often particular \"times\" (durations, times of day, etc.) are mentioned in the text."
   ]
  },
  {
   "cell_type": "code",
   "execution_count": 171,
   "metadata": {
    "id": "1MexULpRbzeJ"
   },
   "outputs": [],
   "source": [
    "time_counter = Counter([e.text.lower().strip() for e in times])\n",
    "save_counter_tsv(\"time_count.tsv\", time_counter, 100)"
   ]
  },
  {
   "cell_type": "markdown",
   "metadata": {
    "id": "qF6zM-v_bzeK"
   },
   "source": [
    "Do the same thing, but with people:"
   ]
  },
  {
   "cell_type": "code",
   "execution_count": 76,
   "metadata": {
    "id": "3zmS3ADSbzeK"
   },
   "outputs": [],
   "source": [
    "people_counter = Counter([e.text.lower() for e in people])\n",
    "save_counter_tsv(\"people_count.tsv\", people_counter, 100)"
   ]
  },
  {
   "cell_type": "markdown",
   "metadata": {
    "id": "4fJ_vwUQbzeK"
   },
   "source": [
    "### Generating stories from a corpus and Tracery grammars\n",
    "\n",
    "Once you've isolated entities and parts of speech, you can recombine them in interesting ways. One is to use a Tracery grammar to write sentences that include the isolated parts. Because the parts have been labelled using spaCy, you can be reasonbly sure that they'll fit into particular slots in the sentence. (I used a similar technique for my [Cheap Space Nine](https://twitter.com/cheapspacenine) bot.)"
   ]
  },
  {
   "cell_type": "code",
   "execution_count": 172,
   "metadata": {
    "id": "86LHCp94bzeK"
   },
   "outputs": [],
   "source": [
    "import tracery\n",
    "from tracery.modifiers import base_english"
   ]
  },
  {
   "cell_type": "code",
   "execution_count": 173,
   "metadata": {
    "id": "vEN6VX-LbzeK"
   },
   "outputs": [],
   "source": [
    "rules = {\n",
    "    \"subject\": [w.text for w in subjects],\n",
    "    \"object\": [w.text for w in objects],\n",
    "    \"verb\": [w.text for w in past_tense_verbs if w.text not in ('was', 'were', 'went')], # exclude common irregular verbs\n",
    "    \"adj\": [w.text for w in adjs],\n",
    "    \"people\": [w.text for w in people],\n",
    "    \"loc\": [w.text for w in locations],\n",
    "    \"time\": [w.text for w in times],\n",
    "    \"origin\": \"#scene#\\n\\n[charA:#subject#][charB:#subject#][prop:#object#]#sentences#\",\n",
    "    \"scene\": \"SCENE: #loc#, #time.lowercase#\",\n",
    "    \"sentences\": [\n",
    "        \"#sentence#\\n#sentence#\",\n",
    "        \"#sentence#\\n#sentence#\\n#sentence#\",\n",
    "        \"#sentence#\\n#sentence#\\n#sentence#\\n#sentence#\"\n",
    "    ],\n",
    "    \"sentence\": [\n",
    "        \"#charA.capitalize# #verb# #prop#.\",\n",
    "        \"#charB.capitalize# #verb# #prop#.\",\n",
    "        \"#prop.capitalize# became #adj#.\",\n",
    "        \"#charA.capitalize# and #charB# greeted each other.\",\n",
    "        \"'Did you hear about #object.lowercase#?' said #charA#.\",\n",
    "        \"'#subject.capitalize# is #adj#,' said #charB#.\",\n",
    "        \"#charA.capitalize# and #charB# #verb# #object#.\",\n",
    "        \"#charA.capitalize# and #charB# looked at each other.\",\n",
    "        \"#sentence#\\n#sentence#\"\n",
    "    ]\n",
    "}"
   ]
  },
  {
   "cell_type": "code",
   "execution_count": 174,
   "metadata": {
    "id": "f2Ke1MYkbzeL"
   },
   "outputs": [],
   "source": [
    "grammar = tracery.Grammar(rules)\n",
    "grammar.add_modifiers(base_english)"
   ]
  },
  {
   "cell_type": "code",
   "execution_count": 82,
   "metadata": {
    "id": "s67UhKUMbzeL",
    "outputId": "8f55ab33-577d-44a5-ef5b-c905063bbd81"
   },
   "outputs": [
    {
     "name": "stdout",
     "output_type": "stream",
     "text": [
      "SCENE: Ferroe, every six hours\n",
      "\n",
      "'She is present,' said I.\n",
      "I and I looked at each other.\n",
      "\n",
      "SCENE: Ferroe, more than two minutes\n",
      "\n",
      "You saw the old man.\n",
      "It and you looked at each other.\n",
      "The old man became violent.\n",
      "\n",
      "SCENE: the Gulf of Bothnia, the fifteen minutes\n",
      "\n",
      "A gigantic sea and I greeted each other.\n",
      "'The largest ship is high,' said I.\n",
      "A gigantic sea and I greeted each other.\n",
      "A gigantic sea and I saw myself.\n",
      "\n"
     ]
    }
   ],
   "source": [
    "for i in range(3):\n",
    "    print(grammar.flatten(\"#origin#\"))\n",
    "    print()"
   ]
  },
  {
   "cell_type": "markdown",
   "metadata": {
    "id": "4M8g2y2ubzeL"
   },
   "source": [
    "## Markov chain text generation\n",
    "\n",
    "Another way to produce new narratives from existing narrative text is to find statistical patterns in the text itself and then make the computer create new text that follows those statistical patterns. Markov chain text generation has been a pastime of poets and programmers going back [all the way to 1983](https://www.jstor.org/stable/24969024), so it should be no surprise that there are many implementations of the idea in Python that you can download and install. The one we're going to use is [Markovify](https://github.com/jsvine/markovify), a Markov chain text generation library originally developed for BuzzFeed, apparently. Writing [code to implement a Markov chain generator](https://github.com/aparrish/rwet/blob/master/ngrams-and-markov-chains.ipynb) on your own is certainly possible, but Markovify comes with a lot of extra niceties that will make our lives easier."
   ]
  },
  {
   "cell_type": "markdown",
   "metadata": {
    "id": "3zbobhYnbzeL"
   },
   "source": [
    "To install Markovify on your computer, run the cell below. (You can skip this step if you're using this notebook in Binder.)"
   ]
  },
  {
   "cell_type": "code",
   "execution_count": 175,
   "metadata": {
    "id": "7mPWVkkdbzeM",
    "outputId": "a90b15a2-ebad-464d-bac6-d2547de228d6",
    "scrolled": true
   },
   "outputs": [
    {
     "name": "stdout",
     "output_type": "stream",
     "text": [
      "Requirement already satisfied: markovify in c:\\users\\aarya\\anaconda3\\lib\\site-packages (0.9.4)\n",
      "Requirement already satisfied: unidecode in c:\\users\\aarya\\anaconda3\\lib\\site-packages (from markovify) (1.2.0)\n"
     ]
    }
   ],
   "source": [
    "!pip install markovify"
   ]
  },
  {
   "cell_type": "markdown",
   "metadata": {
    "id": "vxub7HMMbzeM"
   },
   "source": [
    "And then run this cell to make the library available in your notebook:"
   ]
  },
  {
   "cell_type": "code",
   "execution_count": 178,
   "metadata": {
    "id": "e8fSTipKbzeM",
    "scrolled": true
   },
   "outputs": [],
   "source": [
    "import markovify"
   ]
  },
  {
   "cell_type": "markdown",
   "metadata": {
    "id": "EPFNqMPgbzeM"
   },
   "source": [
    "We need a list of strings to train the Markov generator. For now, let's just get all of the sentences from any movie in the corpus:"
   ]
  },
  {
   "cell_type": "code",
   "execution_count": 181,
   "metadata": {
    "id": "3QtPE1VAbzeM"
   },
   "outputs": [],
   "source": [
    "all_text = [item['text'] for item in sentences]"
   ]
  },
  {
   "cell_type": "markdown",
   "metadata": {
    "id": "wGj22AvVbzeN"
   },
   "source": [
    "The code in the following cell creates a new text generator, using the text in the variable specified to build the Markov model, which is then assigned to the variable `all_text_gen`."
   ]
  },
  {
   "cell_type": "code",
   "execution_count": 186,
   "metadata": {
    "id": "I7BFTQVlbzeN",
    "scrolled": true
   },
   "outputs": [],
   "source": [
    "all_text_gen = markovify.Text(all_text)"
   ]
  },
  {
   "cell_type": "markdown",
   "metadata": {
    "id": "7thjhqxebzeN"
   },
   "source": [
    "You can then call the `.make_sentence()` method to generate a sentence from the model:"
   ]
  },
  {
   "cell_type": "code",
   "execution_count": 187,
   "metadata": {
    "id": "PTWjeh7VbzeO",
    "outputId": "6f530aea-4615-4a6a-ff3c-4d1f0855e80e",
    "scrolled": true
   },
   "outputs": [
    {
     "name": "stdout",
     "output_type": "stream",
     "text": [
      "Of foam there was no doubt we should be deprived of this vortex had by no means prepared me for what I shall tell of the ethereal Ermengarde?—Oh, bright was the angel Ermengarde! and as I pass the barrier in Time’s path, formed by the Moskoe-ström.\n"
     ]
    }
   ],
   "source": [
    "print(all_text_gen.make_sentence())"
   ]
  },
  {
   "cell_type": "markdown",
   "metadata": {
    "id": "W92FrZnRbzeO"
   },
   "source": [
    "The `.make_short_sentence()` method allows you to specify a maximum length for the generated sentence:"
   ]
  },
  {
   "cell_type": "code",
   "execution_count": 188,
   "metadata": {
    "id": "C8dkqPaEbzeP",
    "outputId": "c2b70fcc-c3d8-4272-c14b-24eb395fb7ea",
    "scrolled": true
   },
   "outputs": [
    {
     "name": "stdout",
     "output_type": "stream",
     "text": [
      "None\n"
     ]
    }
   ],
   "source": [
    "print(all_text_gen.make_short_sentence(10))"
   ]
  },
  {
   "cell_type": "markdown",
   "metadata": {
    "id": "1gMvFjImbzeP"
   },
   "source": [
    "By default, Markovify tries to generate a sentence that is significantly different from any existing sentence in the input text. As a consequence, sometimes the `.make_sentence()` or `.make_short_sentence()` methods will return `None`, which means that in ten tries it wasn't able to generate such a sentence. You can work around this by increasing the number of times it tries to generate a sufficiently unique sentence using the `tries` parameter:"
   ]
  },
  {
   "cell_type": "code",
   "execution_count": 189,
   "metadata": {
    "id": "1aYjFKdcbzeP",
    "outputId": "151538f8-4a2f-4cfc-c89a-9a8b89a45f98",
    "scrolled": true
   },
   "outputs": [
    {
     "name": "stdout",
     "output_type": "stream",
     "text": [
      "The tints of the surge.\n"
     ]
    }
   ],
   "source": [
    "print(all_text_gen.make_short_sentence(40, tries=100))"
   ]
  },
  {
   "cell_type": "markdown",
   "metadata": {
    "id": "oiJPKn_hbzeQ"
   },
   "source": [
    "Or by disabling the check altogether with `test_output=False`:"
   ]
  },
  {
   "cell_type": "code",
   "execution_count": 193,
   "metadata": {
    "id": "YOW0oY_5bzeQ",
    "outputId": "99c4e9fa-9997-4d29-91fb-60b4e7194d43",
    "scrolled": true
   },
   "outputs": [
    {
     "name": "stdout",
     "output_type": "stream",
     "text": [
      "They who dream only by night.\n"
     ]
    }
   ],
   "source": [
    "print(all_text_gen.make_short_sentence(40, test_output=False))"
   ]
  },
  {
   "cell_type": "markdown",
   "metadata": {
    "id": "VBFBG5R1bzeR"
   },
   "source": [
    "### Changing the order\n",
    "\n",
    "When you create the model, you can specify the order of the model using the `state_size` parameter. It defaults to 2. Let's make two model with different orders and compare:"
   ]
  },
  {
   "cell_type": "code",
   "execution_count": 194,
   "metadata": {
    "id": "v2Y3-SiqbzeR",
    "scrolled": true
   },
   "outputs": [],
   "source": [
    "gen_1 = markovify.Text(all_text, state_size=1)\n",
    "gen_4 = markovify.Text(all_text, state_size=4)"
   ]
  },
  {
   "cell_type": "code",
   "execution_count": 196,
   "metadata": {
    "id": "phV1aO0fbzeR",
    "outputId": "b0853aad-fa4a-48ed-830e-a7e0bdd9359c",
    "scrolled": true
   },
   "outputs": [
    {
     "name": "stdout",
     "output_type": "stream",
     "text": [
      "order 1\n",
      "Yonder are circumstances of women, bewildered and the Zephyrs, one spherical, and in anticipation of giant hills still given us on, we had scarcely more Red gallons of speed of labor, and thus be found in more generally looked down into sufficient courage answering for seventeen hundred yards—sometimes nearly overhead there burst upon a capacity to make the skies.\n",
      "\n",
      "order 4\n",
      "He comes;—he is coming;—there he is!\n"
     ]
    }
   ],
   "source": [
    "print(\"order 1\")\n",
    "print(gen_1.make_sentence(test_output=False))\n",
    "print()\n",
    "print(\"order 4\")\n",
    "print(gen_4.make_sentence(test_output=False))"
   ]
  },
  {
   "cell_type": "markdown",
   "metadata": {
    "id": "EIjB-yIDbzeS"
   },
   "source": [
    "In general, the higher the order, the more the sentences will seem \"coherent\" (i.e., more closely resembling the source text). Lower order models will produce more variation. Deciding on the order is usually a matter of taste and trial-and-error."
   ]
  },
  {
   "cell_type": "markdown",
   "metadata": {
    "id": "_KHGerQUbzeS"
   },
   "source": [
    "### Changing the level\n",
    "\n",
    "Markovify, by default, works with *words* as the individual unit. It doesn't come out-of-the-box with support for character-level models. The following code defines a new kind of Markovify generator that implements character-level models. Execute it before continuing:"
   ]
  },
  {
   "cell_type": "code",
   "execution_count": 198,
   "metadata": {
    "id": "SdziITGabzeS",
    "scrolled": true
   },
   "outputs": [],
   "source": [
    "class SentencesByChar(markovify.Text):\n",
    "    def word_split(self, sentence):\n",
    "        return list(sentence)\n",
    "    def word_join(self, words):\n",
    "        return \"\".join(words)"
   ]
  },
  {
   "cell_type": "markdown",
   "metadata": {
    "id": "3-6BJ12wbzeS"
   },
   "source": [
    "Any of the parameters you passed to `markovify.Text` you can also pass to `SentencesByChar`. The `state_size` parameter still controls the order of the model, but now the n-grams are characters, not words.\n",
    "\n",
    "The following cell implements a character-level Markov text generator for the word \"condescendences\":"
   ]
  },
  {
   "cell_type": "code",
   "execution_count": 199,
   "metadata": {
    "id": "Qy9CjgsIbzeS",
    "scrolled": true
   },
   "outputs": [],
   "source": [
    "con_model = SentencesByChar(\"condescendences\", state_size=2)"
   ]
  },
  {
   "cell_type": "markdown",
   "metadata": {
    "id": "YhV1p4dGbzeS"
   },
   "source": [
    "Execute the cell below to see the output—it'll be a lot like what we implemented by hand earlier!"
   ]
  },
  {
   "cell_type": "code",
   "execution_count": 200,
   "metadata": {
    "id": "yABpG8YIbzeT",
    "outputId": "13395784-f724-4c22-f591-7fccd632a1c9",
    "scrolled": true
   },
   "outputs": [
    {
     "data": {
      "text/plain": [
       "'condescescendescesces'"
      ]
     },
     "execution_count": 200,
     "metadata": {},
     "output_type": "execute_result"
    }
   ],
   "source": [
    "con_model.make_sentence()"
   ]
  },
  {
   "cell_type": "markdown",
   "metadata": {
    "id": "PrTWftl0bzeT"
   },
   "source": [
    "Of course, you can use a character-level model on any text of your choice. So, for example, the following cell creates a character-level order-7 Markov chain text generator from text A:"
   ]
  },
  {
   "cell_type": "code",
   "execution_count": 201,
   "metadata": {
    "id": "rqWqM0a0bzeT",
    "scrolled": true
   },
   "outputs": [],
   "source": [
    "gen_char = SentencesByChar(all_text, state_size=7)"
   ]
  },
  {
   "cell_type": "markdown",
   "metadata": {
    "id": "ICRQwWS1bzeU"
   },
   "source": [
    "And the cell below prints out a random sentence from this generator. (The `.replace()` is to get rid of any newline characters in the output.)"
   ]
  },
  {
   "cell_type": "code",
   "execution_count": 202,
   "metadata": {
    "id": "VNrMKfE4bzeU",
    "outputId": "9a2490dc-0ebd-47a4-f78d-3a17ca161c36",
    "scrolled": false
   },
   "outputs": [
    {
     "name": "stdout",
     "output_type": "stream",
     "text": [
      "But these annoyances—just as a dog does in coming!\n"
     ]
    }
   ],
   "source": [
    "print(gen_char.make_sentence(test_output=False))"
   ]
  },
  {
   "cell_type": "markdown",
   "metadata": {
    "id": "ZQHOorXIbzeU"
   },
   "source": [
    "### Thinking about structure\n",
    "\n",
    "It's one thing to be able to produce one plausible sentence of a plot summary using Markov chains, but another to create a sense of overall structure between sentences, and generating narratives with these kinds of long-term dependencies is still an open problem in computational creativity. The approach I'm going to suggest below relies on the intuition that sentences in a plot summary share characteristics based on their position in the summary. First sentences will generally introduce characters and present an initial situation; last sentences will generally describe how the situation was resolved; and sentences in between will describe developing action.\n",
    "\n",
    "Following this intuition, let's create *three different Markov chains*: one for beginning sentences, one for middle sentences, and one for final sentences. We can use the `index` of each sentence in our corpus to give us this information.\n",
    "\n",
    "First, the beginnings are lines whose index is zero (i.e., they're the first sentence for this plot):"
   ]
  },
  {
   "cell_type": "code",
   "execution_count": 203,
   "metadata": {
    "id": "CXkkQYWxbzeU"
   },
   "outputs": [],
   "source": [
    "#beginnings = [line['text'] for line in sentences if line['index'] == 0]\n",
    "beginnings = [line['text'] for line in sentences]"
   ]
  },
  {
   "cell_type": "code",
   "execution_count": 204,
   "metadata": {
    "id": "-189QYC9bzeV",
    "outputId": "84226b8e-9a5e-4cd4-b06d-822e27cdab8c"
   },
   "outputs": [
    {
     "data": {
      "text/plain": [
       "['\"The ways of God in Nature, as in Providence, are not as our ways; nor are the models that we frame any way commensurate to the vastness, profundity, and unsearchableness of His works, which have a depth in them greater than the well of Democritus. Joseph Glanville.    WE had now reached the summit of the loftiest crag. For some minutes the old man seemed too much exhausted to speak.     “Not long ago,” said he at length, “and I could have guided you on this route as well as the youngest of my sons; but, about three years past, there happened to me an event such as never happened to mortal man—or at least such as no man ever survived to tell of—and the six hours of deadly terror which I then endured have broken me up body and soul. You suppose me a very old man—but I am not. It took less than a single day to change these hairs from a jetty black to white, to weaken my limbs, and to unstring my nerves, so that I tremble at the least exertion, and am frightened at a shadow. Do you know I can scarcely look over this little cliff without getting giddy?”     The “little cliff,” upon whose edge he had so carelessly thrown himself down to rest that the weightier portion of his body hung over it, while he was only kept from falling by the tenure of his elbow on its extreme and slippery edge—this “little cliff” arose, a sheer unobstructed precipice of black shining rock, some fifteen or sixteen hundred feet from the world of crags beneath us. Nothing would have tempted me to within half a dozen yards of its brink. In truth so deeply was I excited by the perilous position of my companion, that I fell at full length upon the ground, clung to the shrubs around me, and dared not even glance upward at the sky—while I struggled in vain to divest myself of the idea that the very foundations of the mountain were in danger from the fury of the winds. It was long before I could reason myself into sufficient courage to sit up and look out into the distance.     “You must get over these fancies,” said the guide, “for I have brought you here that you might have the best possible view of the scene of that event I mentioned—and to tell you the whole story with the spot just under your eye.”     “We are now,” he continued, in that particularizing manner which distinguished him—“we are now close upon the Norwegian coast—in the sixty-eighth degree of latitude—in the great province of Nordland—and in the dreary district of Lofoden. The mountain upon whose top we sit is Helseggen, the Cloudy. Now raise yourself up a little higher—hold on to the grass if you feel giddy—so—and look out, beyond the belt of vapor beneath us, into the sea.”     I looked dizzily, and beheld a wide expanse of ocean, whose waters wore so inky a hue as to bring at once to my mind the Nubian geographer’s account of the Mare Tenebrarum. A panorama more deplorably desolate no human imagination can conceive. To the right and left, as far as the eye could reach, there lay outstretched, like ramparts of the world, lines of horridly black and beetling cliff, whose character of gloom was but the more forcibly illustrated by the surf which reared high up against its white and ghastly crest, howling and shrieking forever. Just opposite the promontory upon whose apex we were placed, and at a distance of some five or six miles out at sea, there was visible a small, bleak-looking island; or, more properly, its position was discernible through the wilderness of surge in which it was enveloped. About two miles nearer the land, arose another of smaller size, hideously craggy and barren, and encompassed at various intervals by a cluster of dark rocks.     The appearance of the ocean, in the space between the more distant island and the shore, had something very unusual about it. Although, at the time, so strong a gale was blowing landward that a brig in the remote offing lay to under a double-reefed trysail, and constantly plunged her whole hull out of sight, still there was here nothing like a regular swell, but only a short, quick, angry cross dashing of water in every direction—as well in the teeth of the wind as otherwise. Of foam there was little except in the immediate vicinity of the rocks.     “The island in the distance,” resumed the old man, “is called by the Norwegians Vurrgh. The one midway is Moskoe. That a mile to the northward is Ambaaren. Yonder are Islesen, Hotholm, Keildhelm, Suarven, and Buckholm. Farther off—between Moskoe and Vurrgh—are Otterholm, Flimen, Sandflesen, and Stockholm. These are the true names of the places—but why it has been thought necessary to name them at all, is more than either you or I can understand. Do you hear anything? Do you see any change in the water?”     We had now been about ten minutes upon the top of Helseggen, to which we had ascended from the interior of Lofoden, so that we had caught no glimpse of the sea until it had burst upon us from the summit. As the old man spoke, I became aware of a loud and gradually increasing sound, like the moaning of a vast herd of buffaloes upon an American prairie; and at the same moment I perceived that what seamen term the chopping character of the ocean beneath us, was rapidly changing into a current which set to the eastward. Even while I gazed, this current acquired a monstrous velocity. Each moment added to its speed—to its headlong impetuosity. In five minutes the whole sea, as far as Vurrgh, was lashed into ungovernable fury; but it was between Moskoe and the coast that the main uproar held its sway. Here the vast bed of the waters, seamed and scarred into a thousand conflicting channels, burst suddenly into phrensied convulsion—heaving, boiling, hissing—gyrating in gigantic and innumerable vortices, and all whirling and plunging on to the eastward with a rapidity which water never elsewhere assumes except in precipitous descents.     In a few minutes more, there came over the scene another radical alteration. The general surface grew somewhat more smooth, and the whirlpools, one by one, disappeared, while prodigious streaks of foam became apparent where none had been seen before. These streaks, at length, spreading out to a great distance, and entering into combination, took unto themselves the gyratory motion of the subsided vortices, and seemed to form the germ of another more vast. Suddenly—very suddenly—this assumed a distinct and definite existence, in a circle of more than a mile in diameter. The edge of the whirl was represented by a broad belt of gleaming spray; but no particle of this slipped into the mouth of the terrific funnel, whose interior, as far as the eye could fathom it, was a smooth, shining, and jet-black wall of water, inclined to the horizon at an angle of some forty-five degrees, speeding dizzily round and round with a swaying and sweltering motion, and sending forth to the winds an appalling voice, half shriek, half roar, such as not even the mighty cataract of Niagara ever lifts up in its agony to Heaven.     The mountain trembled to its very base, and the rock rocked. I threw myself upon my face, and clung to the scant herbage in an excess of nervous agitation.     “This,” said I at length, to the old man—“this can be nothing else than the great whirlpool of the Maelström.”     “So it is sometimes termed,” said he. “We Norwegians call it the Moskoe-ström, from the island of Moskoe in the midway.”     The ordinary accounts of this vortex had by no means prepared me for what I saw. That of Jonas Ramus, which is perhaps the most circumstantial of any, cannot impart the faintest conception either of the magnificence, or of the horror of the scene—or of the wild bewildering sense of the novel which confounds the beholder. I am not sure from what point of view the writer in question surveyed it, nor at what time; but it could neither have been from the summit of Helseggen, nor during a storm. There are some passages of his description, nevertheless, which may be quoted for their details, although their effect is exceedingly feeble in conveying an impression of the spectacle.     “Between Lofoden and Moskoe,” he says, “the depth of the water is between thirty-six and forty fathoms; but on the other side, toward Ver (Vurrgh) this depth decreases so as not to afford a convenient passage for a vessel, without the risk of splitting on the rocks, which happens even in the calmest weather. When it is flood, the stream runs up the country between Lofoden and Moskoe with a boisterous rapidity; but the roar of its impetuous ebb to the sea is scarce equalled by the loudest and most dreadful cataracts; the noise being heard several leagues off, and the vortices or pits are of such an extent and depth, that if a ship comes within its attraction, it is inevitably absorbed and carried down to the bottom, and there beat to pieces against the rocks; and when the water relaxes, the fragments thereof are thrown up again. But these intervals of tranquility are only at the turn of the ebb and flood, and in calm weather, and last but a quarter of an hour, its violence gradually returning. When the stream is most boisterous, and its fury heightened by a storm, it is dangerous to come within a Norway mile of it. Boats, yachts, and ships have been carried away by not guarding against it before they were within its reach. It likewise happens frequently, that whales come too near the stream, and are overpowered by its violence; and then it is impossible to describe their howlings and bellowings in their fruitless struggles to disengage themselves. A bear once, attempting to swim from Lofoden to Moskoe, was caught by the stream and borne down, while he roared terribly, so as to be heard on shore. Large stocks of firs and pine trees, after being absorbed by the current, rise again broken and torn to such a degree as if bristles grew upon them. This plainly shows the bottom to consist of craggy rocks, among which they are whirled to and fro. This stream is regulated by the flux and reflux of the sea—it being constantly high and low water every six hours. In the year 1645, early in the morning of Sexagesima Sunday, it raged with such noise and impetuosity that the very stones of the houses on the coast fell to the ground.”     In regard to the depth of the water, I could not see how this could have been ascertained at all in the immediate vicinity of the vortex. The “forty fathoms” must have reference only to portions of the channel close upon the shore either of Moskoe or Lofoden. The depth in the centre of the Moskoe-ström must be immeasurably greater; and no better proof of this fact is necessary than can be obtained from even the sidelong glance into the abyss of the whirl which may be had from the highest crag of Helseggen. Looking down from this pinnacle upon the howling Phlegethon below, I could not help smiling at the simplicity with which the honest Jonas Ramus records, as a matter difficult of belief, the anecdotes of the whales and the bears; for it appeared to me, in fact, a self-evident thing, that the largest ship of the line in existence, coming within the influence of that deadly attraction, could resist it as little as a feather the hurricane, and must disappear bodily and at once.     The attempts to account for the phenomenon—some of which, I remember, seemed to me sufficiently plausible in perusal—now wore a very different and unsatisfactory aspect. The idea generally received is that this, as well as three smaller vortices among the Ferroe islands, “have no other cause than the collision of waves rising and falling, at flux and reflux, against a ridge of rocks and shelves, which confines the water so that it precipitates itself like a cataract; and thus the higher the flood rises, the deeper must the fall be, and the natural result of all is a whirlpool or vortex, the prodigious suction of which is sufficiently known by lesser experiments.”—These are the words of the Encyclopædia Britannica. Kircher and others imagine that in the centre of the channel of the Maelström is an abyss penetrating the globe, and issuing in some very remote part—the Gulf of Bothnia being somewhat decidedly named in one instance. This opinion, idle in itself, was the one to which, as I gazed, my imagination most readily assented; and, mentioning it to the guide, I was rather surprised to hear him say that, although it was the view almost universally entertained of the subject by the Norwegians, it nevertheless was not his own. As to the former notion he confessed his inability to comprehend it; and here I agreed with him—for, however conclusive on paper, it becomes altogether unintelligible, and even absurd, amid the thunder of the abyss.     “You have had a good look at the whirl now,” said the old man, “and if you will creep round this crag, so as to get in its lee, and deaden the roar of the water, I will tell you a story that will convince you I ought to know something of the Moskoe-ström.”     I placed myself as desired, and he proceeded.     “Myself and my two brothers once owned a schooner-rigged smack of about seventy tons burthen, with which we were in the habit of fishing among the islands beyond Moskoe, nearly to Vurrgh. In all violent eddies at sea there is good fishing, at proper opportunities, if one has only the courage to attempt it; but among the whole of the Lofoden coastmen, we three were the only ones who made a regular business of going out to the islands, as I tell you. The usual grounds are a great way lower down to the southward. There fish can be got at all hours, without much risk, and therefore these places are preferred. The choice spots over here among the rocks, however, not only yield the finest variety, but in far greater abundance; so that we often got in a single day, what the more timid of the craft could not scrape together in a week. In fact, we made it a matter of desperate speculation—the risk of life standing instead of labor, and courage answering for capital.     “We kept the smack in a cove about five miles higher up the coast than this; and it was our practice, in fine weather, to take advantage of the fifteen minutes’ slack to push across the main channel of the Moskoe-ström, far above the pool, and then drop down upon anchorage somewhere near Otterholm, or Sandflesen, where the eddies are not so violent as elsewhere. Here we used to remain until nearly time for slack-water again, when we weighed and made for home. We never set out upon this expedition without a steady side wind for going and coming—one that we felt sure would not fail us before our return—and we seldom made a mis-calculation upon this point. Twice, during six years, we were forced to stay all night at anchor on account of a dead calm, which is a rare thing indeed just about here; and once we had to remain on the grounds nearly a week, starving to death, owing to a gale which blew up shortly after our arrival, and made the channel too boisterous to be thought of. Upon this occasion we should have been driven out to sea in spite of everything, (for the whirlpools threw us round and round so violently, that, at length, we fouled our anchor and dragged it) if it had not been that we drifted into one of the innumerable cross currents—here to-day and gone to-morrow—which drove us under the lee of Flimen, where, by good luck, we brought up.     “I could not tell you the twentieth part of the difficulties we encountered ‘on the grounds’—it is a bad spot to be in, even in good weather—but we made shift always to run the gauntlet of the Moskoe-ström itself without accident; although at times my heart has been in my mouth when we happened to be a minute or so behind or before the slack. The wind sometimes was not as strong as we thought it at starting, and then we made rather less way than we could wish, while the current rendered the smack unmanageable. My eldest brother had a son eighteen years old, and I had two stout boys of my own. These would have been of great assistance at such times, in using the sweeps, as well as afterward in fishing—but, somehow, although we ran the risk ourselves, we had not the heart to let the young ones get into the danger—for, after all is said and done, it was a horrible danger, and that is the truth.     “It is now within a few days of three years since what I am going to tell you occurred. It was on the tenth day of July, 18-, a day which the people of this part of the world will never forget—for it was one in which blew the most terrible hurricane that ever came out of the heavens. And yet all the morning, and indeed until late in the afternoon, there was a gentle and steady breeze from the south-west, while the sun shone brightly, so that the oldest seaman among us could not have foreseen what was to follow.     “The three of us—my two brothers and myself—had crossed over to the islands about two o’clock P. M., and had soon nearly loaded the smack with fine fish, which, we all remarked, were more plenty that day than we had ever known them. It was just seven, by my watch, when we weighed and started for home, so as to make the worst of the Ström at slack water, which we knew would be at eight.     “We set out with a fresh wind on our starboard quarter, and for some time spanked along at a great rate, never dreaming of danger, for indeed we saw not the slightest reason to apprehend it. All at once we were taken aback by a breeze from over Helseggen. This was most unusual—something that had never happened to us before—and I began to feel a little uneasy, without exactly knowing why. We put the boat on the wind, but could make no headway at all for the eddies, and I was upon the point of proposing to return to the anchorage, when, looking astern, we saw the whole horizon covered with a singular copper-colored cloud that rose with the most amazing velocity.     “In the meantime the breeze that had headed us off fell away, and we were dead becalmed, drifting about in every direction. This state of things, however, did not last long enough to give us time to think about it. In less than a minute the storm was upon us—in less than two the sky was entirely overcast—and what with this and the driving spray, it became suddenly so dark that we could not see each other in the smack.     “Such a hurricane as then blew it is folly to attempt describing. The oldest seaman in Norway never experienced any thing like it. We had let our sails go by the run before it cleverly took us; but, at the first puff, both our masts went by the board as if they had been sawed off—the mainmast taking with it my youngest brother, who had lashed himself to it for safety.     “Our boat was the lightest feather of a thing that ever sat upon water. It had a complete flush deck, with only a small hatch near the bow, and this hatch it had always been our custom to batten down when about to cross the Ström, by way of precaution against the chopping seas. But for this circumstance we should have foundered at once—for we lay entirely buried for some moments. How my elder brother escaped destruction I cannot say, for I never had an opportunity of ascertaining. For my part, as soon as I had let the foresail run, I threw myself flat on deck, with my feet against the narrow gunwale of the bow, and with my hands grasping a ring-bolt near the foot of the fore-mast. It was mere instinct that prompted me to do this—which was undoubtedly the very best thing I could have done—for I was too much flurried to think.     “For some moments we were completely deluged, as I say, and all this time I held my breath, and clung to the bolt. When I could stand it no longer I raised myself upon my knees, still keeping hold with my hands, and thus got my head clear. Presently our little boat gave herself a shake, just as a dog does in coming out of the water, and thus rid herself, in some measure, of the seas. I was now trying to get the better of the stupor that had come over me, and to collect my senses so as to see what was to be done, when I felt somebody grasp my arm. It was my elder brother, and my heart leaped for joy, for I had made sure that he was overboard—but the next moment all this joy was turned into horror—for he put his mouth close to my ear, and screamed out the word ‘Moskoe-ström!’     “No one ever will know what my feelings were at that moment. I shook from head to foot as if I had had the most violent fit of the ague. I knew what he meant by that one word well enough—I knew what he wished to make me understand. With the wind that now drove us on, we were bound for the whirl of the Ström, and nothing could save us!     “You perceive that in crossing the Ström channel, we always went a long way up above the whirl, even in the calmest weather, and then had to wait and watch carefully for the slack—but now we were driving right upon the pool itself, and in such a hurricane as this! ‘To be sure,’ I thought, ‘we shall get there just about the slack—there is some little hope in that’—but in the next moment I cursed myself for being so great a fool as to dream of hope at all. I knew very well that we were doomed, had we been ten times a ninety-gun ship.     “By this time the first fury of the tempest had spent itself, or perhaps we did not feel it so much, as we scudded before it, but at all events the seas, which at first had been kept down by the wind, and lay flat and frothing, now got up into absolute mountains. A singular change, too, had come over the heavens. Around in every direction it was still as black as pitch, but nearly overhead there burst out, all at once, a circular rift of clear sky—as clear as I ever saw—and of a deep bright blue—and through it there blazed forth the full moon with a lustre that I never before knew her to wear. She lit up every thing about us with the greatest distinctness—but, oh God, what a scene it was to light up!     “I now made one or two attempts to speak to my brother—but, in some manner which I could not understand, the din had so increased that I could not make him hear a single word, although I screamed at the top of my voice in his ear. Presently he shook his head, looking as pale as death, and held up one of his fingers, as if to say ‘listen! ‘     “At first I could not make out what he meant—but soon a hideous thought flashed upon me. I dragged my watch from its fob. It was not going. I glanced at its face by the moonlight, and then burst into tears as I flung it far away into the ocean. It had run down at seven o’clock! We were behind the time of the slack, and the whirl of the Ström was in full fury!     “When a boat is well built, properly trimmed, and not deep laden, the waves in a strong gale, when she is going large, seem always to slip from beneath her—which appears very strange to a landsman—and this is what is called riding, in sea phrase. Well, so far we had ridden the swells very cleverly; but presently a gigantic sea happened to take us right under the counter, and bore us with it as it rose—up—up—as if into the sky. I would not have believed that any wave could rise so high. And then down we came with a sweep, a slide, and a plunge, that made me feel sick and dizzy, as if I was falling from some lofty mountain-top in a dream. But while we were up I had thrown a quick glance around—and that one glance was all sufficient. I saw our exact position in an instant. The Moskoe-Ström whirlpool was about a quarter of a mile dead ahead—but no more like the every-day Moskoe-Ström, than the whirl as you now see it is like a mill-race. If I had not known where we were, and what we had to expect, I should not have recognised the place at all. As it was, I involuntarily closed my eyes in horror. The lids clenched themselves together as if in a spasm.     “It could not have been more than two minutes afterward until we suddenly felt the waves subside, and were enveloped in foam. The boat made a sharp half turn to larboard, and then shot off in its new direction like a thunderbolt. At the same moment the roaring noise of the water was completely drowned in a kind of shrill shriek—such a sound as you might imagine given out by the waste-pipes of many thousand steam-vessels, letting off their steam all together. We were now in the belt of surf that always surrounds the whirl; and I thought, of course, that another moment would plunge us into the abyss—down which we could only see indistinctly on account of the amazing velocity with which we wore borne along. The boat did not seem to sink into the water at all, but to skim like an air-bubble upon the surface of the surge. Her starboard side was next the whirl, and on the larboard arose the world of ocean we had left. It stood like a huge writhing wall between us and the horizon.     “It may appear strange, but now, when we were in the very jaws of the gulf, I felt more composed than when we were only approaching it. Having made up my mind to hope no more, I got rid of a great deal of that terror which unmanned me at first. I suppose it was despair that strung my nerves.     “It may look like boasting—but what I tell you is truth—I began to reflect how magnificent a thing it was to die in such a manner, and how foolish it was in me to think of so paltry a consideration as my own individual life, in view of so wonderful a manifestation of God’s power. I do believe that I blushed with shame when this idea crossed my mind. After a little while I became possessed with the keenest curiosity about the whirl itself. I positively felt a wish to explore its depths, even at the sacrifice I was going to make; and my principal grief was that I should never be able to tell my old companions on shore about the mysteries I should see. These, no doubt, were singular fancies to occupy a man’s mind in such extremity—and I have often thought since, that the revolutions of the boat around the pool might have rendered me a little light-headed.     “There was another circumstance which tended to restore my self-possession; and this was the cessation of the wind, which could not reach us in our present situation—for, as you saw yourself, the belt of surf is considerably lower than the general bed of the ocean, and this latter now towered above us, a high, black, mountainous ridge. If you have never been at sea in a heavy gale, you can form no idea of the confusion of mind occasioned by the wind and spray together. They blind, deafen, and strangle you, and take away all power of action or reflection. But we were now, in a great measure, rid of these annoyances—just as death-condemned felons in prison are allowed petty indulgences, forbidden them while their doom is yet uncertain.     “How often we made the circuit of the belt it is impossible to say. We careered round and round for perhaps an hour, flying rather than floating, getting gradually more and more into the middle of the surge, and then nearer and nearer to its horrible inner edge. All this time I had never let go of the ring-bolt. My brother was at the stern, holding on to a small empty water-cask which had been securely lashed under the coop of the counter, and was the only thing on deck that had not been swept overboard when the gale first took us. As we approached the brink of the pit he let go his hold upon this, and made for the ring, from which, in the agony of his terror, he endeavored to force my hands, as it was not large enough to afford us both a secure grasp. I never felt deeper grief than when I saw him attempt this act—although I knew he was a madman when he did it—a raving maniac through sheer fright. I did not care, however, to contest the point with him. I knew it could make no difference whether either of us held on at all; so I let him have the bolt, and went astern to the cask. This there was no great difficulty in doing; for the smack flew round steadily enough, and upon an even keel—only swaying to and fro, with the immense sweeps and swelters of the whirl. Scarcely had I secured myself in my new position, when we gave a wild lurch to starboard, and rushed headlong into the abyss. I muttered a hurried prayer to God, and thought all was over.     “As I felt the sickening sweep of the descent, I had instinctively tightened my hold upon the barrel, and closed my eyes. For some seconds I dared not open them—while I expected instant destruction, and wondered that I was not already in my death-struggles with the water. But moment after moment elapsed. I still lived. The sense of falling had ceased; and the motion of the vessel seemed much as it had been before, while in the belt of foam, with the exception that she now lay more along. I took courage, and looked once again upon the scene.     “Never shall I forget the sensations of awe, horror, and admiration with which I gazed about me. The boat appeared to be hanging, as if by magic, midway down, upon the interior surface of a funnel vast in circumference, prodigious in depth, and whose perfectly smooth sides might have been mistaken for ebony, but for the bewildering rapidity with which they spun around, and for the gleaming and ghastly radiance they shot forth, as the rays of the full moon, from that circular rift amid the clouds which I have already described, streamed in a flood of golden glory along the black walls, and far away down into the inmost recesses of the abyss.     “At first I was too much confused to observe anything accurately. The general burst of terrific grandeur was all that I beheld. When I recovered myself a little, however, my gaze fell instinctively downward. In this direction I was able to obtain an unobstructed view, from the manner in which the smack hung on the inclined surface of the pool. She was quite upon an even keel—that is to say, her deck lay in a plane parallel with that of the water—but this latter sloped at an angle of more than forty-five degrees, so that we seemed to be lying upon our beam-ends. I could not help observing, nevertheless, that I had scarcely more difficulty in maintaining my hold and footing in this situation, than if we had been upon a dead level; and this, I suppose, was owing to the speed at which we revolved.     “The rays of the moon seemed to search the very bottom of the profound gulf; but still I could make out nothing distinctly, on account of a thick mist in which everything there was enveloped, and over which there hung a magnificent rainbow, like that narrow and tottering bridge which Mussulmen say is the only pathway between Time and Eternity. This mist, or spray, was no doubt occasioned by the clashing of the great walls of the funnel, as they all met together at the bottom—but the yell that went up to the Heavens from out of that mist, I dare not attempt to describe.     “Our first slide into the abyss itself, from the belt of foam above, had carried us a great distance down the slope; but our farther descent was by no means proportionate. Round and round we swept—not with any uniform movement—but in dizzying swings and jerks, that sent us sometimes only a few hundred yards—sometimes nearly the complete circuit of the whirl. Our progress downward, at each revolution, was slow, but very perceptible.     “Looking about me upon the wide waste of liquid ebony on which we were thus borne, I perceived that our boat was not the only object in the embrace of the whirl. Both above and below us were visible fragments of vessels, large masses of building timber and trunks of trees, with many smaller articles, such as pieces of house furniture, broken boxes, barrels and staves. I have already described the unnatural curiosity which had taken the place of my original terrors. It appeared to grow upon me as I drew nearer and nearer to my dreadful doom. I now began to watch, with a strange interest, the numerous things that floated in our company. I must have been delirious—for I even sought amusement in speculating upon the relative velocities of their several descents toward the foam below. ‘This fir tree,’ I found myself at one time saying, ‘will certainly be the next thing that takes the awful plunge and disappears,’—and then I was disappointed to find that the wreck of a Dutch merchant ship overtook it and went down before. At length, after making several guesses of this nature, and being deceived in all—this fact—the fact of my invariable miscalculation—set me upon a train of reflection that made my limbs again tremble, and my heart beat heavily once more.     “It was not a new terror that thus affected me, but the dawn of a more exciting hope. This hope arose partly from memory, and partly from present observation. I called to mind the great variety of buoyant matter that strewed the coast of Lofoden, having been absorbed and then thrown forth by the Moskoe-ström. By far the greater number of the articles were shattered in the most extraordinary way—so chafed and roughened as to have the appearance of being stuck full of splinters—but then I distinctly recollected that there were some of them which were not disfigured at all. Now I could not account for this difference except by supposing that the roughened fragments were the only ones which had been completely absorbed—that the others had entered the whirl at so late a period of the tide, or, for some reason, had descended so slowly after entering, that they did not reach the bottom before the turn of the flood came, or of the ebb, as the case might be. I conceived it possible, in either instance, that they might thus be whirled up again to the level of the ocean, without undergoing the fate of those which had been drawn in more early, or absorbed more rapidly. I made, also, three important observations. The first was, that, as a general rule, the larger the bodies were, the more rapid their descent—the second, that, between two masses of equal extent, the one spherical, and the other of any other shape, the superiority in speed of descent was with the sphere—the third, that, between two masses of equal size, the one cylindrical, and the other of any other shape, the cylinder was absorbed the more slowly. Since my escape, I have had several conversations on this subject with an old school-master of the district; and it was from him that I learned the use of the words ‘cylinder’ and ‘sphere.’ He explained to me—although I have forgotten the explanation—how what I observed was, in fact, the natural consequence of the forms of the floating fragments—and showed me how it happened that a cylinder, swimming in a vortex, offered more resistance to its suction, and was drawn in with greater difficulty than an equally bulky body, of any form whatever. (*1)     “There was one startling circumstance which went a great way in enforcing these observations, and rendering me anxious to turn them to account, and this was that, at every revolution, we passed something like a barrel, or else the yard or the mast of a vessel, while many of these things, which had been on our level when I first opened my eyes upon the wonders of the whirlpool, were now high up above us, and seemed to have moved but little from their original station.     “I no longer hesitated what to do. I resolved to lash myself securely to the water cask upon which I now held, to cut it loose from the counter, and to throw myself with it into the water. I attracted my brother’s attention by signs, pointed to the floating barrels that came near us, and did everything in my power to make him understand what I was about to do. I thought at length that he comprehended my design—but, whether this was the case or not, he shook his head despairingly, and refused to move from his station by the ring-bolt. It was impossible to reach him; the emergency admitted of no delay; and so, with a bitter struggle, I resigned him to his fate, fastened myself to the cask by means of the lashings which secured it to the counter, and precipitated myself with it into the sea, without another moment’s hesitation.     “The result was precisely what I had hoped it might be. As it is myself who now tell you this tale—as you see that I did escape—and as you are already in possession of the mode in which this escape was effected, and must therefore anticipate all that I have farther to say—I will bring my story quickly to conclusion. It might have been an hour, or thereabout, after my quitting the smack, when, having descended to a vast distance beneath me, it made three or four wild gyrations in rapid succession, and, bearing my loved brother with it, plunged headlong, at once and forever, into the chaos of foam below. The barrel to which I was attached sunk very little farther than half the distance between the bottom of the gulf and the spot at which I leaped overboard, before a great change took place in the character of the whirlpool. The slope of the sides of the vast funnel became momently less and less steep. The gyrations of the whirl grew, gradually, less and less violent. By degrees, the froth and the rainbow disappeared, and the bottom of the gulf seemed slowly to uprise. The sky was clear, the winds had gone down, and the full moon was setting radiantly in the west, when I found myself on the surface of the ocean, in full view of the shores of Lofoden, and above the spot where the pool of the Moskoe-ström had been. It was the hour of the slack—but the sea still heaved in mountainous waves from the effects of the hurricane. I was borne violently into the channel of the Ström, and in a few minutes was hurried down the coast into the ‘grounds’ of the fishermen. A boat picked me up—exhausted from fatigue—and (now that the danger was removed) speechless from the memory of its horror. Those who drew me on board were my old mates and daily companions—but they knew me no more than they would have known a traveller from the spirit-land. My hair which had been raven-black the day before, was as white as you see it now. They say too that the whole expression of my countenance had changed. I told them my story—they did not believe it. I now tell it to you—and I can scarcely expect you to put more faith in it than did the merry fishermen of Lofoden.”']"
      ]
     },
     "execution_count": 204,
     "metadata": {},
     "output_type": "execute_result"
    }
   ],
   "source": [
    "random.sample(beginnings, 1)"
   ]
  },
  {
   "cell_type": "markdown",
   "metadata": {
    "id": "WyrsTvK_bzeV"
   },
   "source": [
    "And endings are sentences that come last in the plot (i.e., their index is one less than the total number of sentences):"
   ]
  },
  {
   "cell_type": "code",
   "execution_count": 205,
   "metadata": {
    "id": "sQSAQ7eXbzeV"
   },
   "outputs": [],
   "source": [
    "#endings = [line['text'] for line in sentences if line['index'] == line['total'] - 1]\n",
    "endings = [line['text'] for line in sentences ]"
   ]
  },
  {
   "cell_type": "code",
   "execution_count": 207,
   "metadata": {
    "id": "mCATvHDQbzeV",
    "outputId": "4515629d-bf2e-40a1-8d29-3020fb32100c",
    "scrolled": true
   },
   "outputs": [
    {
     "data": {
      "text/plain": [
       "['\"Sub conservatione formae specificae salva anima.  Raymond Lully.    I AM come of a race noted for vigor of fancy and ardor of passion. Men have called me mad; but the question is not yet settled, whether madness is or is not the loftiest intelligence—whether much that is glorious—whether all that is profound—does not spring from disease of thought—from moods of mind exalted at the expense of the general intellect. They who dream by day are cognizant of many things which escape those who dream only by night. In their gray visions they obtain glimpses of eternity, and thrill, in awakening, to find that they have been upon the verge of the great secret. In snatches, they learn something of the wisdom which is of good, and more of the mere knowledge which is of evil. They penetrate, however, rudderless or compassless into the vast ocean of the “light ineffable,” and again, like the adventures of the Nubian geographer, “agressi sunt mare tenebrarum, quid in eo esset exploraturi.”     We will say, then, that I am mad. I grant, at least, that there are two distinct conditions of my mental existence—the condition of a lucid reason, not to be disputed, and belonging to the memory of events forming the first epoch of my life—and a condition of shadow and doubt, appertaining to the present, and to the recollection of what constitutes the second great era of my being. Therefore, what I shall tell of the earlier period, believe; and to what I may relate of the later time, give only such credit as may seem due, or doubt it altogether, or, if doubt it ye cannot, then play unto its riddle the Oedipus.     She whom I loved in youth, and of whom I now pen calmly and distinctly these remembrances, was the sole daughter of the only sister of my mother long departed. Eleonora was the name of my cousin. We had always dwelled together, beneath a tropical sun, in the Valley of the Many-Colored Grass. No unguided footstep ever came upon that vale; for it lay away up among a range of giant hills that hung beetling around about it, shutting out the sunlight from its sweetest recesses. No path was trodden in its vicinity; and, to reach our happy home, there was need of putting back, with force, the foliage of many thousands of forest trees, and of crushing to death the glories of many millions of fragrant flowers. Thus it was that we lived all alone, knowing nothing of the world without the valley—I, and my cousin, and her mother.     From the dim regions beyond the mountains at the upper end of our encircled domain, there crept out a narrow and deep river, brighter than all save the eyes of Eleonora; and, winding stealthily about in mazy courses, it passed away, at length, through a shadowy gorge, among hills still dimmer than those whence it had issued. We called it the “River of Silence”; for there seemed to be a hushing influence in its flow. No murmur arose from its bed, and so gently it wandered along, that the pearly pebbles upon which we loved to gaze, far down within its bosom, stirred not at all, but lay in a motionless content, each in its own old station, shining on gloriously forever.     The margin of the river, and of the many dazzling rivulets that glided through devious ways into its channel, as well as the spaces that extended from the margins away down into the depths of the streams until they reached the bed of pebbles at the bottom,—these spots, not less than the whole surface of the valley, from the river to the mountains that girdled it in, were carpeted all by a soft green grass, thick, short, perfectly even, and vanilla-perfumed, but so besprinkled throughout with the yellow buttercup, the white daisy, the purple violet, and the ruby-red asphodel, that its exceeding beauty spoke to our hearts in loud tones, of the love and of the glory of God.     And, here and there, in groves about this grass, like wildernesses of dreams, sprang up fantastic trees, whose tall slender stems stood not upright, but slanted gracefully toward the light that peered at noon-day into the centre of the valley. Their mark was speckled with the vivid alternate splendor of ebony and silver, and was smoother than all save the cheeks of Eleonora; so that, but for the brilliant green of the huge leaves that spread from their summits in long, tremulous lines, dallying with the Zephyrs, one might have fancied them giant serpents of Syria doing homage to their sovereign the Sun.     Hand in hand about this valley, for fifteen years, roamed I with Eleonora before Love entered within our hearts. It was one evening at the close of the third lustrum of her life, and of the fourth of my own, that we sat, locked in each other’s embrace, beneath the serpent-like trees, and looked down within the water of the River of Silence at our images therein. We spoke no words during the rest of that sweet day, and our words even upon the morrow were tremulous and few. We had drawn the God Eros from that wave, and now we felt that he had enkindled within us the fiery souls of our forefathers. The passions which had for centuries distinguished our race, came thronging with the fancies for which they had been equally noted, and together breathed a delirious bliss over the Valley of the Many-Colored Grass. A change fell upon all things. Strange, brilliant flowers, star-shaped, burn out upon the trees where no flowers had been known before. The tints of the green carpet deepened; and when, one by one, the white daisies shrank away, there sprang up in place of them, ten by ten of the ruby-red asphodel. And life arose in our paths; for the tall flamingo, hitherto unseen, with all gay glowing birds, flaunted his scarlet plumage before us. The golden and silver fish haunted the river, out of the bosom of which issued, little by little, a murmur that swelled, at length, into a lulling melody more divine than that of the harp of Aeolus-sweeter than all save the voice of Eleonora. And now, too, a voluminous cloud, which we had long watched in the regions of Hesper, floated out thence, all gorgeous in crimson and gold, and settling in peace above us, sank, day by day, lower and lower, until its edges rested upon the tops of the mountains, turning all their dimness into magnificence, and shutting us up, as if forever, within a magic prison-house of grandeur and of glory.     The loveliness of Eleonora was that of the Seraphim; but she was a maiden artless and innocent as the brief life she had led among the flowers. No guile disguised the fervor of love which animated her heart, and she examined with me its inmost recesses as we walked together in the Valley of the Many-Colored Grass, and discoursed of the mighty changes which had lately taken place therein.     At length, having spoken one day, in tears, of the last sad change which must befall Humanity, she thenceforward dwelt only upon this one sorrowful theme, interweaving it into all our converse, as, in the songs of the bard of Schiraz, the same images are found occurring, again and again, in every impressive variation of phrase.     She had seen that the finger of Death was upon her bosom—that, like the ephemeron, she had been made perfect in loveliness only to die; but the terrors of the grave to her lay solely in a consideration which she revealed to me, one evening at twilight, by the banks of the River of Silence. She grieved to think that, having entombed her in the Valley of the Many-Colored Grass, I would quit forever its happy recesses, transferring the love which now was so passionately her own to some maiden of the outer and everyday world. And, then and there, I threw myself hurriedly at the feet of Eleonora, and offered up a vow, to herself and to Heaven, that I would never bind myself in marriage to any daughter of Earth—that I would in no manner prove recreant to her dear memory, or to the memory of the devout affection with which she had blessed me. And I called the Mighty Ruler of the Universe to witness the pious solemnity of my vow. And the curse which I invoked of Him and of her, a saint in Helusion should I prove traitorous to that promise, involved a penalty the exceeding great horror of which will not permit me to make record of it here. And the bright eyes of Eleonora grew brighter at my words; and she sighed as if a deadly burthen had been taken from her breast; and she trembled and very bitterly wept; but she made acceptance of the vow, (for what was she but a child?) and it made easy to her the bed of her death. And she said to me, not many days afterward, tranquilly dying, that, because of what I had done for the comfort of her spirit she would watch over me in that spirit when departed, and, if so it were permitted her return to me visibly in the watches of the night; but, if this thing were, indeed, beyond the power of the souls in Paradise, that she would, at least, give me frequent indications of her presence, sighing upon me in the evening winds, or filling the air which I breathed with perfume from the censers of the angels. And, with these words upon her lips, she yielded up her innocent life, putting an end to the first epoch of my own.     Thus far I have faithfully said. But as I pass the barrier in Time’s path, formed by the death of my beloved, and proceed with the second era of my existence, I feel that a shadow gathers over my brain, and I mistrust the perfect sanity of the record. But let me on.—Years dragged themselves along heavily, and still I dwelled within the Valley of the Many-Colored Grass; but a second change had come upon all things. The star-shaped flowers shrank into the stems of the trees, and appeared no more. The tints of the green carpet faded; and, one by one, the ruby-red asphodels withered away; and there sprang up, in place of them, ten by ten, dark, eye-like violets, that writhed uneasily and were ever encumbered with dew. And Life departed from our paths; for the tall flamingo flaunted no longer his scarlet plumage before us, but flew sadly from the vale into the hills, with all the gay glowing birds that had arrived in his company. And the golden and silver fish swam down through the gorge at the lower end of our domain and bedecked the sweet river never again. And the lulling melody that had been softer than the wind-harp of Aeolus, and more divine than all save the voice of Eleonora, it died little by little away, in murmurs growing lower and lower, until the stream returned, at length, utterly, into the solemnity of its original silence. And then, lastly, the voluminous cloud uprose, and, abandoning the tops of the mountains to the dimness of old, fell back into the regions of Hesper, and took away all its manifold golden and gorgeous glories from the Valley of the Many-Colored Grass.     Yet the promises of Eleonora were not forgotten; for I heard the sounds of the swinging of the censers of the angels; and streams of a holy perfume floated ever and ever about the valley; and at lone hours, when my heart beat heavily, the winds that bathed my brow came unto me laden with soft sighs; and indistinct murmurs filled often the night air, and once—oh, but once only! I was awakened from a slumber, like the slumber of death, by the pressing of spiritual lips upon my own.     But the void within my heart refused, even thus, to be filled. I longed for the love which had before filled it to overflowing. At length the valley pained me through its memories of Eleonora, and I left it for ever for the vanities and the turbulent triumphs of the world.     I found myself within a strange city, where all things might have served to blot from recollection the sweet dreams I had dreamed so long in the Valley of the Many-Colored Grass. The pomps and pageantries of a stately court, and the mad clangor of arms, and the radiant loveliness of women, bewildered and intoxicated my brain. But as yet my soul had proved true to its vows, and the indications of the presence of Eleonora were still given me in the silent hours of the night. Suddenly these manifestations they ceased, and the world grew dark before mine eyes, and I stood aghast at the burning thoughts which possessed, at the terrible temptations which beset me; for there came from some far, far distant and unknown land, into the gay court of the king I served, a maiden to whose beauty my whole recreant heart yielded at once—at whose footstool I bowed down without a struggle, in the most ardent, in the most abject worship of love. What, indeed, was my passion for the young girl of the valley in comparison with the fervor, and the delirium, and the spirit-lifting ecstasy of adoration with which I poured out my whole soul in tears at the feet of the ethereal Ermengarde?—Oh, bright was the seraph Ermengarde! and in that knowledge I had room for none other.—Oh, divine was the angel Ermengarde! and as I looked down into the depths of her memorial eyes, I thought only of them—and of her.     I wedded;—nor dreaded the curse I had invoked; and its bitterness was not visited upon me. And once—but once again in the silence of the night; there came through my lattice the soft sighs which had forsaken me; and they modelled themselves into familiar and sweet voice, saying:     “Sleep in peace!—for the Spirit of Love reigneth and ruleth, and, in taking to thy passionate heart her who is Ermengarde, thou art absolved, for reasons which shall be made known to thee in Heaven, of thy vows unto Eleonora.”\"']"
      ]
     },
     "execution_count": 207,
     "metadata": {},
     "output_type": "execute_result"
    }
   ],
   "source": [
    "random.sample(endings, 1)"
   ]
  },
  {
   "cell_type": "markdown",
   "metadata": {
    "id": "JcbBGL2sbzeW"
   },
   "source": [
    "And \"middles\" are anything in between:"
   ]
  },
  {
   "cell_type": "code",
   "execution_count": 208,
   "metadata": {
    "id": "u8zamV3NbzeW"
   },
   "outputs": [],
   "source": [
    "middles = [line['text'] for line in sentences ]"
   ]
  },
  {
   "cell_type": "code",
   "execution_count": 210,
   "metadata": {
    "id": "Ca9K3gIwbzeW",
    "outputId": "27a10654-45b8-46f5-a292-4798f0b0a151"
   },
   "outputs": [
    {
     "data": {
      "text/plain": [
       "['\"The ways of God in Nature, as in Providence, are not as our ways; nor are the models that we frame any way commensurate to the vastness, profundity, and unsearchableness of His works, which have a depth in them greater than the well of Democritus. Joseph Glanville.    WE had now reached the summit of the loftiest crag. For some minutes the old man seemed too much exhausted to speak.     “Not long ago,” said he at length, “and I could have guided you on this route as well as the youngest of my sons; but, about three years past, there happened to me an event such as never happened to mortal man—or at least such as no man ever survived to tell of—and the six hours of deadly terror which I then endured have broken me up body and soul. You suppose me a very old man—but I am not. It took less than a single day to change these hairs from a jetty black to white, to weaken my limbs, and to unstring my nerves, so that I tremble at the least exertion, and am frightened at a shadow. Do you know I can scarcely look over this little cliff without getting giddy?”     The “little cliff,” upon whose edge he had so carelessly thrown himself down to rest that the weightier portion of his body hung over it, while he was only kept from falling by the tenure of his elbow on its extreme and slippery edge—this “little cliff” arose, a sheer unobstructed precipice of black shining rock, some fifteen or sixteen hundred feet from the world of crags beneath us. Nothing would have tempted me to within half a dozen yards of its brink. In truth so deeply was I excited by the perilous position of my companion, that I fell at full length upon the ground, clung to the shrubs around me, and dared not even glance upward at the sky—while I struggled in vain to divest myself of the idea that the very foundations of the mountain were in danger from the fury of the winds. It was long before I could reason myself into sufficient courage to sit up and look out into the distance.     “You must get over these fancies,” said the guide, “for I have brought you here that you might have the best possible view of the scene of that event I mentioned—and to tell you the whole story with the spot just under your eye.”     “We are now,” he continued, in that particularizing manner which distinguished him—“we are now close upon the Norwegian coast—in the sixty-eighth degree of latitude—in the great province of Nordland—and in the dreary district of Lofoden. The mountain upon whose top we sit is Helseggen, the Cloudy. Now raise yourself up a little higher—hold on to the grass if you feel giddy—so—and look out, beyond the belt of vapor beneath us, into the sea.”     I looked dizzily, and beheld a wide expanse of ocean, whose waters wore so inky a hue as to bring at once to my mind the Nubian geographer’s account of the Mare Tenebrarum. A panorama more deplorably desolate no human imagination can conceive. To the right and left, as far as the eye could reach, there lay outstretched, like ramparts of the world, lines of horridly black and beetling cliff, whose character of gloom was but the more forcibly illustrated by the surf which reared high up against its white and ghastly crest, howling and shrieking forever. Just opposite the promontory upon whose apex we were placed, and at a distance of some five or six miles out at sea, there was visible a small, bleak-looking island; or, more properly, its position was discernible through the wilderness of surge in which it was enveloped. About two miles nearer the land, arose another of smaller size, hideously craggy and barren, and encompassed at various intervals by a cluster of dark rocks.     The appearance of the ocean, in the space between the more distant island and the shore, had something very unusual about it. Although, at the time, so strong a gale was blowing landward that a brig in the remote offing lay to under a double-reefed trysail, and constantly plunged her whole hull out of sight, still there was here nothing like a regular swell, but only a short, quick, angry cross dashing of water in every direction—as well in the teeth of the wind as otherwise. Of foam there was little except in the immediate vicinity of the rocks.     “The island in the distance,” resumed the old man, “is called by the Norwegians Vurrgh. The one midway is Moskoe. That a mile to the northward is Ambaaren. Yonder are Islesen, Hotholm, Keildhelm, Suarven, and Buckholm. Farther off—between Moskoe and Vurrgh—are Otterholm, Flimen, Sandflesen, and Stockholm. These are the true names of the places—but why it has been thought necessary to name them at all, is more than either you or I can understand. Do you hear anything? Do you see any change in the water?”     We had now been about ten minutes upon the top of Helseggen, to which we had ascended from the interior of Lofoden, so that we had caught no glimpse of the sea until it had burst upon us from the summit. As the old man spoke, I became aware of a loud and gradually increasing sound, like the moaning of a vast herd of buffaloes upon an American prairie; and at the same moment I perceived that what seamen term the chopping character of the ocean beneath us, was rapidly changing into a current which set to the eastward. Even while I gazed, this current acquired a monstrous velocity. Each moment added to its speed—to its headlong impetuosity. In five minutes the whole sea, as far as Vurrgh, was lashed into ungovernable fury; but it was between Moskoe and the coast that the main uproar held its sway. Here the vast bed of the waters, seamed and scarred into a thousand conflicting channels, burst suddenly into phrensied convulsion—heaving, boiling, hissing—gyrating in gigantic and innumerable vortices, and all whirling and plunging on to the eastward with a rapidity which water never elsewhere assumes except in precipitous descents.     In a few minutes more, there came over the scene another radical alteration. The general surface grew somewhat more smooth, and the whirlpools, one by one, disappeared, while prodigious streaks of foam became apparent where none had been seen before. These streaks, at length, spreading out to a great distance, and entering into combination, took unto themselves the gyratory motion of the subsided vortices, and seemed to form the germ of another more vast. Suddenly—very suddenly—this assumed a distinct and definite existence, in a circle of more than a mile in diameter. The edge of the whirl was represented by a broad belt of gleaming spray; but no particle of this slipped into the mouth of the terrific funnel, whose interior, as far as the eye could fathom it, was a smooth, shining, and jet-black wall of water, inclined to the horizon at an angle of some forty-five degrees, speeding dizzily round and round with a swaying and sweltering motion, and sending forth to the winds an appalling voice, half shriek, half roar, such as not even the mighty cataract of Niagara ever lifts up in its agony to Heaven.     The mountain trembled to its very base, and the rock rocked. I threw myself upon my face, and clung to the scant herbage in an excess of nervous agitation.     “This,” said I at length, to the old man—“this can be nothing else than the great whirlpool of the Maelström.”     “So it is sometimes termed,” said he. “We Norwegians call it the Moskoe-ström, from the island of Moskoe in the midway.”     The ordinary accounts of this vortex had by no means prepared me for what I saw. That of Jonas Ramus, which is perhaps the most circumstantial of any, cannot impart the faintest conception either of the magnificence, or of the horror of the scene—or of the wild bewildering sense of the novel which confounds the beholder. I am not sure from what point of view the writer in question surveyed it, nor at what time; but it could neither have been from the summit of Helseggen, nor during a storm. There are some passages of his description, nevertheless, which may be quoted for their details, although their effect is exceedingly feeble in conveying an impression of the spectacle.     “Between Lofoden and Moskoe,” he says, “the depth of the water is between thirty-six and forty fathoms; but on the other side, toward Ver (Vurrgh) this depth decreases so as not to afford a convenient passage for a vessel, without the risk of splitting on the rocks, which happens even in the calmest weather. When it is flood, the stream runs up the country between Lofoden and Moskoe with a boisterous rapidity; but the roar of its impetuous ebb to the sea is scarce equalled by the loudest and most dreadful cataracts; the noise being heard several leagues off, and the vortices or pits are of such an extent and depth, that if a ship comes within its attraction, it is inevitably absorbed and carried down to the bottom, and there beat to pieces against the rocks; and when the water relaxes, the fragments thereof are thrown up again. But these intervals of tranquility are only at the turn of the ebb and flood, and in calm weather, and last but a quarter of an hour, its violence gradually returning. When the stream is most boisterous, and its fury heightened by a storm, it is dangerous to come within a Norway mile of it. Boats, yachts, and ships have been carried away by not guarding against it before they were within its reach. It likewise happens frequently, that whales come too near the stream, and are overpowered by its violence; and then it is impossible to describe their howlings and bellowings in their fruitless struggles to disengage themselves. A bear once, attempting to swim from Lofoden to Moskoe, was caught by the stream and borne down, while he roared terribly, so as to be heard on shore. Large stocks of firs and pine trees, after being absorbed by the current, rise again broken and torn to such a degree as if bristles grew upon them. This plainly shows the bottom to consist of craggy rocks, among which they are whirled to and fro. This stream is regulated by the flux and reflux of the sea—it being constantly high and low water every six hours. In the year 1645, early in the morning of Sexagesima Sunday, it raged with such noise and impetuosity that the very stones of the houses on the coast fell to the ground.”     In regard to the depth of the water, I could not see how this could have been ascertained at all in the immediate vicinity of the vortex. The “forty fathoms” must have reference only to portions of the channel close upon the shore either of Moskoe or Lofoden. The depth in the centre of the Moskoe-ström must be immeasurably greater; and no better proof of this fact is necessary than can be obtained from even the sidelong glance into the abyss of the whirl which may be had from the highest crag of Helseggen. Looking down from this pinnacle upon the howling Phlegethon below, I could not help smiling at the simplicity with which the honest Jonas Ramus records, as a matter difficult of belief, the anecdotes of the whales and the bears; for it appeared to me, in fact, a self-evident thing, that the largest ship of the line in existence, coming within the influence of that deadly attraction, could resist it as little as a feather the hurricane, and must disappear bodily and at once.     The attempts to account for the phenomenon—some of which, I remember, seemed to me sufficiently plausible in perusal—now wore a very different and unsatisfactory aspect. The idea generally received is that this, as well as three smaller vortices among the Ferroe islands, “have no other cause than the collision of waves rising and falling, at flux and reflux, against a ridge of rocks and shelves, which confines the water so that it precipitates itself like a cataract; and thus the higher the flood rises, the deeper must the fall be, and the natural result of all is a whirlpool or vortex, the prodigious suction of which is sufficiently known by lesser experiments.”—These are the words of the Encyclopædia Britannica. Kircher and others imagine that in the centre of the channel of the Maelström is an abyss penetrating the globe, and issuing in some very remote part—the Gulf of Bothnia being somewhat decidedly named in one instance. This opinion, idle in itself, was the one to which, as I gazed, my imagination most readily assented; and, mentioning it to the guide, I was rather surprised to hear him say that, although it was the view almost universally entertained of the subject by the Norwegians, it nevertheless was not his own. As to the former notion he confessed his inability to comprehend it; and here I agreed with him—for, however conclusive on paper, it becomes altogether unintelligible, and even absurd, amid the thunder of the abyss.     “You have had a good look at the whirl now,” said the old man, “and if you will creep round this crag, so as to get in its lee, and deaden the roar of the water, I will tell you a story that will convince you I ought to know something of the Moskoe-ström.”     I placed myself as desired, and he proceeded.     “Myself and my two brothers once owned a schooner-rigged smack of about seventy tons burthen, with which we were in the habit of fishing among the islands beyond Moskoe, nearly to Vurrgh. In all violent eddies at sea there is good fishing, at proper opportunities, if one has only the courage to attempt it; but among the whole of the Lofoden coastmen, we three were the only ones who made a regular business of going out to the islands, as I tell you. The usual grounds are a great way lower down to the southward. There fish can be got at all hours, without much risk, and therefore these places are preferred. The choice spots over here among the rocks, however, not only yield the finest variety, but in far greater abundance; so that we often got in a single day, what the more timid of the craft could not scrape together in a week. In fact, we made it a matter of desperate speculation—the risk of life standing instead of labor, and courage answering for capital.     “We kept the smack in a cove about five miles higher up the coast than this; and it was our practice, in fine weather, to take advantage of the fifteen minutes’ slack to push across the main channel of the Moskoe-ström, far above the pool, and then drop down upon anchorage somewhere near Otterholm, or Sandflesen, where the eddies are not so violent as elsewhere. Here we used to remain until nearly time for slack-water again, when we weighed and made for home. We never set out upon this expedition without a steady side wind for going and coming—one that we felt sure would not fail us before our return—and we seldom made a mis-calculation upon this point. Twice, during six years, we were forced to stay all night at anchor on account of a dead calm, which is a rare thing indeed just about here; and once we had to remain on the grounds nearly a week, starving to death, owing to a gale which blew up shortly after our arrival, and made the channel too boisterous to be thought of. Upon this occasion we should have been driven out to sea in spite of everything, (for the whirlpools threw us round and round so violently, that, at length, we fouled our anchor and dragged it) if it had not been that we drifted into one of the innumerable cross currents—here to-day and gone to-morrow—which drove us under the lee of Flimen, where, by good luck, we brought up.     “I could not tell you the twentieth part of the difficulties we encountered ‘on the grounds’—it is a bad spot to be in, even in good weather—but we made shift always to run the gauntlet of the Moskoe-ström itself without accident; although at times my heart has been in my mouth when we happened to be a minute or so behind or before the slack. The wind sometimes was not as strong as we thought it at starting, and then we made rather less way than we could wish, while the current rendered the smack unmanageable. My eldest brother had a son eighteen years old, and I had two stout boys of my own. These would have been of great assistance at such times, in using the sweeps, as well as afterward in fishing—but, somehow, although we ran the risk ourselves, we had not the heart to let the young ones get into the danger—for, after all is said and done, it was a horrible danger, and that is the truth.     “It is now within a few days of three years since what I am going to tell you occurred. It was on the tenth day of July, 18-, a day which the people of this part of the world will never forget—for it was one in which blew the most terrible hurricane that ever came out of the heavens. And yet all the morning, and indeed until late in the afternoon, there was a gentle and steady breeze from the south-west, while the sun shone brightly, so that the oldest seaman among us could not have foreseen what was to follow.     “The three of us—my two brothers and myself—had crossed over to the islands about two o’clock P. M., and had soon nearly loaded the smack with fine fish, which, we all remarked, were more plenty that day than we had ever known them. It was just seven, by my watch, when we weighed and started for home, so as to make the worst of the Ström at slack water, which we knew would be at eight.     “We set out with a fresh wind on our starboard quarter, and for some time spanked along at a great rate, never dreaming of danger, for indeed we saw not the slightest reason to apprehend it. All at once we were taken aback by a breeze from over Helseggen. This was most unusual—something that had never happened to us before—and I began to feel a little uneasy, without exactly knowing why. We put the boat on the wind, but could make no headway at all for the eddies, and I was upon the point of proposing to return to the anchorage, when, looking astern, we saw the whole horizon covered with a singular copper-colored cloud that rose with the most amazing velocity.     “In the meantime the breeze that had headed us off fell away, and we were dead becalmed, drifting about in every direction. This state of things, however, did not last long enough to give us time to think about it. In less than a minute the storm was upon us—in less than two the sky was entirely overcast—and what with this and the driving spray, it became suddenly so dark that we could not see each other in the smack.     “Such a hurricane as then blew it is folly to attempt describing. The oldest seaman in Norway never experienced any thing like it. We had let our sails go by the run before it cleverly took us; but, at the first puff, both our masts went by the board as if they had been sawed off—the mainmast taking with it my youngest brother, who had lashed himself to it for safety.     “Our boat was the lightest feather of a thing that ever sat upon water. It had a complete flush deck, with only a small hatch near the bow, and this hatch it had always been our custom to batten down when about to cross the Ström, by way of precaution against the chopping seas. But for this circumstance we should have foundered at once—for we lay entirely buried for some moments. How my elder brother escaped destruction I cannot say, for I never had an opportunity of ascertaining. For my part, as soon as I had let the foresail run, I threw myself flat on deck, with my feet against the narrow gunwale of the bow, and with my hands grasping a ring-bolt near the foot of the fore-mast. It was mere instinct that prompted me to do this—which was undoubtedly the very best thing I could have done—for I was too much flurried to think.     “For some moments we were completely deluged, as I say, and all this time I held my breath, and clung to the bolt. When I could stand it no longer I raised myself upon my knees, still keeping hold with my hands, and thus got my head clear. Presently our little boat gave herself a shake, just as a dog does in coming out of the water, and thus rid herself, in some measure, of the seas. I was now trying to get the better of the stupor that had come over me, and to collect my senses so as to see what was to be done, when I felt somebody grasp my arm. It was my elder brother, and my heart leaped for joy, for I had made sure that he was overboard—but the next moment all this joy was turned into horror—for he put his mouth close to my ear, and screamed out the word ‘Moskoe-ström!’     “No one ever will know what my feelings were at that moment. I shook from head to foot as if I had had the most violent fit of the ague. I knew what he meant by that one word well enough—I knew what he wished to make me understand. With the wind that now drove us on, we were bound for the whirl of the Ström, and nothing could save us!     “You perceive that in crossing the Ström channel, we always went a long way up above the whirl, even in the calmest weather, and then had to wait and watch carefully for the slack—but now we were driving right upon the pool itself, and in such a hurricane as this! ‘To be sure,’ I thought, ‘we shall get there just about the slack—there is some little hope in that’—but in the next moment I cursed myself for being so great a fool as to dream of hope at all. I knew very well that we were doomed, had we been ten times a ninety-gun ship.     “By this time the first fury of the tempest had spent itself, or perhaps we did not feel it so much, as we scudded before it, but at all events the seas, which at first had been kept down by the wind, and lay flat and frothing, now got up into absolute mountains. A singular change, too, had come over the heavens. Around in every direction it was still as black as pitch, but nearly overhead there burst out, all at once, a circular rift of clear sky—as clear as I ever saw—and of a deep bright blue—and through it there blazed forth the full moon with a lustre that I never before knew her to wear. She lit up every thing about us with the greatest distinctness—but, oh God, what a scene it was to light up!     “I now made one or two attempts to speak to my brother—but, in some manner which I could not understand, the din had so increased that I could not make him hear a single word, although I screamed at the top of my voice in his ear. Presently he shook his head, looking as pale as death, and held up one of his fingers, as if to say ‘listen! ‘     “At first I could not make out what he meant—but soon a hideous thought flashed upon me. I dragged my watch from its fob. It was not going. I glanced at its face by the moonlight, and then burst into tears as I flung it far away into the ocean. It had run down at seven o’clock! We were behind the time of the slack, and the whirl of the Ström was in full fury!     “When a boat is well built, properly trimmed, and not deep laden, the waves in a strong gale, when she is going large, seem always to slip from beneath her—which appears very strange to a landsman—and this is what is called riding, in sea phrase. Well, so far we had ridden the swells very cleverly; but presently a gigantic sea happened to take us right under the counter, and bore us with it as it rose—up—up—as if into the sky. I would not have believed that any wave could rise so high. And then down we came with a sweep, a slide, and a plunge, that made me feel sick and dizzy, as if I was falling from some lofty mountain-top in a dream. But while we were up I had thrown a quick glance around—and that one glance was all sufficient. I saw our exact position in an instant. The Moskoe-Ström whirlpool was about a quarter of a mile dead ahead—but no more like the every-day Moskoe-Ström, than the whirl as you now see it is like a mill-race. If I had not known where we were, and what we had to expect, I should not have recognised the place at all. As it was, I involuntarily closed my eyes in horror. The lids clenched themselves together as if in a spasm.     “It could not have been more than two minutes afterward until we suddenly felt the waves subside, and were enveloped in foam. The boat made a sharp half turn to larboard, and then shot off in its new direction like a thunderbolt. At the same moment the roaring noise of the water was completely drowned in a kind of shrill shriek—such a sound as you might imagine given out by the waste-pipes of many thousand steam-vessels, letting off their steam all together. We were now in the belt of surf that always surrounds the whirl; and I thought, of course, that another moment would plunge us into the abyss—down which we could only see indistinctly on account of the amazing velocity with which we wore borne along. The boat did not seem to sink into the water at all, but to skim like an air-bubble upon the surface of the surge. Her starboard side was next the whirl, and on the larboard arose the world of ocean we had left. It stood like a huge writhing wall between us and the horizon.     “It may appear strange, but now, when we were in the very jaws of the gulf, I felt more composed than when we were only approaching it. Having made up my mind to hope no more, I got rid of a great deal of that terror which unmanned me at first. I suppose it was despair that strung my nerves.     “It may look like boasting—but what I tell you is truth—I began to reflect how magnificent a thing it was to die in such a manner, and how foolish it was in me to think of so paltry a consideration as my own individual life, in view of so wonderful a manifestation of God’s power. I do believe that I blushed with shame when this idea crossed my mind. After a little while I became possessed with the keenest curiosity about the whirl itself. I positively felt a wish to explore its depths, even at the sacrifice I was going to make; and my principal grief was that I should never be able to tell my old companions on shore about the mysteries I should see. These, no doubt, were singular fancies to occupy a man’s mind in such extremity—and I have often thought since, that the revolutions of the boat around the pool might have rendered me a little light-headed.     “There was another circumstance which tended to restore my self-possession; and this was the cessation of the wind, which could not reach us in our present situation—for, as you saw yourself, the belt of surf is considerably lower than the general bed of the ocean, and this latter now towered above us, a high, black, mountainous ridge. If you have never been at sea in a heavy gale, you can form no idea of the confusion of mind occasioned by the wind and spray together. They blind, deafen, and strangle you, and take away all power of action or reflection. But we were now, in a great measure, rid of these annoyances—just as death-condemned felons in prison are allowed petty indulgences, forbidden them while their doom is yet uncertain.     “How often we made the circuit of the belt it is impossible to say. We careered round and round for perhaps an hour, flying rather than floating, getting gradually more and more into the middle of the surge, and then nearer and nearer to its horrible inner edge. All this time I had never let go of the ring-bolt. My brother was at the stern, holding on to a small empty water-cask which had been securely lashed under the coop of the counter, and was the only thing on deck that had not been swept overboard when the gale first took us. As we approached the brink of the pit he let go his hold upon this, and made for the ring, from which, in the agony of his terror, he endeavored to force my hands, as it was not large enough to afford us both a secure grasp. I never felt deeper grief than when I saw him attempt this act—although I knew he was a madman when he did it—a raving maniac through sheer fright. I did not care, however, to contest the point with him. I knew it could make no difference whether either of us held on at all; so I let him have the bolt, and went astern to the cask. This there was no great difficulty in doing; for the smack flew round steadily enough, and upon an even keel—only swaying to and fro, with the immense sweeps and swelters of the whirl. Scarcely had I secured myself in my new position, when we gave a wild lurch to starboard, and rushed headlong into the abyss. I muttered a hurried prayer to God, and thought all was over.     “As I felt the sickening sweep of the descent, I had instinctively tightened my hold upon the barrel, and closed my eyes. For some seconds I dared not open them—while I expected instant destruction, and wondered that I was not already in my death-struggles with the water. But moment after moment elapsed. I still lived. The sense of falling had ceased; and the motion of the vessel seemed much as it had been before, while in the belt of foam, with the exception that she now lay more along. I took courage, and looked once again upon the scene.     “Never shall I forget the sensations of awe, horror, and admiration with which I gazed about me. The boat appeared to be hanging, as if by magic, midway down, upon the interior surface of a funnel vast in circumference, prodigious in depth, and whose perfectly smooth sides might have been mistaken for ebony, but for the bewildering rapidity with which they spun around, and for the gleaming and ghastly radiance they shot forth, as the rays of the full moon, from that circular rift amid the clouds which I have already described, streamed in a flood of golden glory along the black walls, and far away down into the inmost recesses of the abyss.     “At first I was too much confused to observe anything accurately. The general burst of terrific grandeur was all that I beheld. When I recovered myself a little, however, my gaze fell instinctively downward. In this direction I was able to obtain an unobstructed view, from the manner in which the smack hung on the inclined surface of the pool. She was quite upon an even keel—that is to say, her deck lay in a plane parallel with that of the water—but this latter sloped at an angle of more than forty-five degrees, so that we seemed to be lying upon our beam-ends. I could not help observing, nevertheless, that I had scarcely more difficulty in maintaining my hold and footing in this situation, than if we had been upon a dead level; and this, I suppose, was owing to the speed at which we revolved.     “The rays of the moon seemed to search the very bottom of the profound gulf; but still I could make out nothing distinctly, on account of a thick mist in which everything there was enveloped, and over which there hung a magnificent rainbow, like that narrow and tottering bridge which Mussulmen say is the only pathway between Time and Eternity. This mist, or spray, was no doubt occasioned by the clashing of the great walls of the funnel, as they all met together at the bottom—but the yell that went up to the Heavens from out of that mist, I dare not attempt to describe.     “Our first slide into the abyss itself, from the belt of foam above, had carried us a great distance down the slope; but our farther descent was by no means proportionate. Round and round we swept—not with any uniform movement—but in dizzying swings and jerks, that sent us sometimes only a few hundred yards—sometimes nearly the complete circuit of the whirl. Our progress downward, at each revolution, was slow, but very perceptible.     “Looking about me upon the wide waste of liquid ebony on which we were thus borne, I perceived that our boat was not the only object in the embrace of the whirl. Both above and below us were visible fragments of vessels, large masses of building timber and trunks of trees, with many smaller articles, such as pieces of house furniture, broken boxes, barrels and staves. I have already described the unnatural curiosity which had taken the place of my original terrors. It appeared to grow upon me as I drew nearer and nearer to my dreadful doom. I now began to watch, with a strange interest, the numerous things that floated in our company. I must have been delirious—for I even sought amusement in speculating upon the relative velocities of their several descents toward the foam below. ‘This fir tree,’ I found myself at one time saying, ‘will certainly be the next thing that takes the awful plunge and disappears,’—and then I was disappointed to find that the wreck of a Dutch merchant ship overtook it and went down before. At length, after making several guesses of this nature, and being deceived in all—this fact—the fact of my invariable miscalculation—set me upon a train of reflection that made my limbs again tremble, and my heart beat heavily once more.     “It was not a new terror that thus affected me, but the dawn of a more exciting hope. This hope arose partly from memory, and partly from present observation. I called to mind the great variety of buoyant matter that strewed the coast of Lofoden, having been absorbed and then thrown forth by the Moskoe-ström. By far the greater number of the articles were shattered in the most extraordinary way—so chafed and roughened as to have the appearance of being stuck full of splinters—but then I distinctly recollected that there were some of them which were not disfigured at all. Now I could not account for this difference except by supposing that the roughened fragments were the only ones which had been completely absorbed—that the others had entered the whirl at so late a period of the tide, or, for some reason, had descended so slowly after entering, that they did not reach the bottom before the turn of the flood came, or of the ebb, as the case might be. I conceived it possible, in either instance, that they might thus be whirled up again to the level of the ocean, without undergoing the fate of those which had been drawn in more early, or absorbed more rapidly. I made, also, three important observations. The first was, that, as a general rule, the larger the bodies were, the more rapid their descent—the second, that, between two masses of equal extent, the one spherical, and the other of any other shape, the superiority in speed of descent was with the sphere—the third, that, between two masses of equal size, the one cylindrical, and the other of any other shape, the cylinder was absorbed the more slowly. Since my escape, I have had several conversations on this subject with an old school-master of the district; and it was from him that I learned the use of the words ‘cylinder’ and ‘sphere.’ He explained to me—although I have forgotten the explanation—how what I observed was, in fact, the natural consequence of the forms of the floating fragments—and showed me how it happened that a cylinder, swimming in a vortex, offered more resistance to its suction, and was drawn in with greater difficulty than an equally bulky body, of any form whatever. (*1)     “There was one startling circumstance which went a great way in enforcing these observations, and rendering me anxious to turn them to account, and this was that, at every revolution, we passed something like a barrel, or else the yard or the mast of a vessel, while many of these things, which had been on our level when I first opened my eyes upon the wonders of the whirlpool, were now high up above us, and seemed to have moved but little from their original station.     “I no longer hesitated what to do. I resolved to lash myself securely to the water cask upon which I now held, to cut it loose from the counter, and to throw myself with it into the water. I attracted my brother’s attention by signs, pointed to the floating barrels that came near us, and did everything in my power to make him understand what I was about to do. I thought at length that he comprehended my design—but, whether this was the case or not, he shook his head despairingly, and refused to move from his station by the ring-bolt. It was impossible to reach him; the emergency admitted of no delay; and so, with a bitter struggle, I resigned him to his fate, fastened myself to the cask by means of the lashings which secured it to the counter, and precipitated myself with it into the sea, without another moment’s hesitation.     “The result was precisely what I had hoped it might be. As it is myself who now tell you this tale—as you see that I did escape—and as you are already in possession of the mode in which this escape was effected, and must therefore anticipate all that I have farther to say—I will bring my story quickly to conclusion. It might have been an hour, or thereabout, after my quitting the smack, when, having descended to a vast distance beneath me, it made three or four wild gyrations in rapid succession, and, bearing my loved brother with it, plunged headlong, at once and forever, into the chaos of foam below. The barrel to which I was attached sunk very little farther than half the distance between the bottom of the gulf and the spot at which I leaped overboard, before a great change took place in the character of the whirlpool. The slope of the sides of the vast funnel became momently less and less steep. The gyrations of the whirl grew, gradually, less and less violent. By degrees, the froth and the rainbow disappeared, and the bottom of the gulf seemed slowly to uprise. The sky was clear, the winds had gone down, and the full moon was setting radiantly in the west, when I found myself on the surface of the ocean, in full view of the shores of Lofoden, and above the spot where the pool of the Moskoe-ström had been. It was the hour of the slack—but the sea still heaved in mountainous waves from the effects of the hurricane. I was borne violently into the channel of the Ström, and in a few minutes was hurried down the coast into the ‘grounds’ of the fishermen. A boat picked me up—exhausted from fatigue—and (now that the danger was removed) speechless from the memory of its horror. Those who drew me on board were my old mates and daily companions—but they knew me no more than they would have known a traveller from the spirit-land. My hair which had been raven-black the day before, was as white as you see it now. They say too that the whole expression of my countenance had changed. I told them my story—they did not believe it. I now tell it to you—and I can scarcely expect you to put more faith in it than did the merry fishermen of Lofoden.”']"
      ]
     },
     "execution_count": 210,
     "metadata": {},
     "output_type": "execute_result"
    }
   ],
   "source": [
    "random.sample(middles, 1)"
   ]
  },
  {
   "cell_type": "markdown",
   "metadata": {
    "id": "97oRqWuebzeX"
   },
   "source": [
    "The following cell creates the models:"
   ]
  },
  {
   "cell_type": "code",
   "execution_count": 211,
   "metadata": {
    "id": "fCUVSmDibzeY"
   },
   "outputs": [],
   "source": [
    "beginning_gen = markovify.Text(beginnings)\n",
    "middle_gen = markovify.Text(middles)\n",
    "ending_gen = markovify.Text(endings)"
   ]
  },
  {
   "cell_type": "markdown",
   "metadata": {
    "id": "lpCpvX5ibzeZ"
   },
   "source": [
    "Now you can generate tiny narratives by producing a beginning sentence, a middle sentence, and an ending sentence:"
   ]
  },
  {
   "cell_type": "code",
   "execution_count": 213,
   "metadata": {
    "id": "i0efbBnvbzea",
    "outputId": "a78dabe1-3ec2-4c6b-c3e2-8010371ead36"
   },
   "outputs": [
    {
     "name": "stdout",
     "output_type": "stream",
     "text": [
      "When it is like a thunderbolt.\n",
      "Nothing would have tempted me to make record of it here.\n",
      "He explained to me—although I have been ascertained at all in the smack.\n"
     ]
    }
   ],
   "source": [
    "print(beginning_gen.make_short_sentence(100))\n",
    "print(middle_gen.make_short_sentence(100))\n",
    "print(ending_gen.make_short_sentence(100))"
   ]
  },
  {
   "cell_type": "markdown",
   "metadata": {
    "id": "f9T9oEV1bzea"
   },
   "source": [
    "The narratives still feel disconnected (and there are often jarring mismatches in pronoun antecedents), but the artifacts produced with this method do feel a bit narrative-like? Maybe?"
   ]
  },
  {
   "cell_type": "markdown",
   "metadata": {
    "id": "m4rAxzOlbzea"
   },
   "source": [
    "### Combining models\n",
    "\n",
    "Markovify has a handy feature that allows you to *combine* models, creating a new model that draws on probabilities from both of the source models. You can use this to create hybrid output that mixes the style and content of two (or more!) different source texts. To do this, you need to create the models independently, and then call `.combine()` to combine them.\n",
    "\n",
    "The code below combines models for beginning sentences, middle sentences, and ending sentences into one model:"
   ]
  },
  {
   "cell_type": "code",
   "execution_count": 214,
   "metadata": {
    "id": "jp0lTn3Cbzea",
    "scrolled": true
   },
   "outputs": [],
   "source": [
    "combo = markovify.combine([beginning_gen, middle_gen, ending_gen], [10, 1, 10])"
   ]
  },
  {
   "cell_type": "markdown",
   "metadata": {
    "id": "_wqz1Aisbzea"
   },
   "source": [
    "The bit of code `[10, 1, 10]` controls the \"weights\" of the models, i.e., how much to emphasize the probabilities of any model. You can change this to suit your tastes. (E.g., if you want mostly beginnings with but a bit of middles and a *soupçon* of ends, try `[10, 2, 1]`.)\n",
    "\n",
    "Then you can create sentences using the combined model:"
   ]
  },
  {
   "cell_type": "code",
   "execution_count": 215,
   "metadata": {
    "id": "v0UEP45Nbzea",
    "outputId": "010023a4-0104-4e0d-e938-0282d16736b9",
    "scrolled": true
   },
   "outputs": [
    {
     "name": "stdout",
     "output_type": "stream",
     "text": [
      "Kircher and others imagine that in the least exertion, and am frightened at a shadow.\n"
     ]
    }
   ],
   "source": [
    "print(combo.make_short_sentence(120))"
   ]
  },
  {
   "cell_type": "markdown",
   "metadata": {
    "id": "jNn-wpVWbzeb"
   },
   "source": [
    "## Prepping the corpus for fine-tuning a large language model\n",
    "\n",
    "Markov chains are cheap and fun, but they don't do a great job of the one thing we expect from stories: maintaining coherence over a long stretch of text. Accomplishing this is a more difficult task, and requires making use of more sophisticated machine learning models, belonging to the category of large pre-trained neural networks. These models are fundamentally similar to Markov chains, in that they make a prediction about what will come next in a text, given some stretch of context. Unlike a Markov chain, a large pre-trained neural network can predict what will come next in a text, even if the context you give it has never been seen in the training text. It can also work on contexts of arbitrary and variable length. Handy!\n",
    "\n",
    "These language models are already trained on a large amount of text. Generally, you don't train them from scratch on your own, but instead \"fine-tune\" them to bring their probabilities more in line with a particular source text.\n",
    "\n",
    "One such model, [OpenAI's GPT-2](https://github.com/openai/gpt-2) does a pretty good job of maintaining long-distance coherence, and it's easy to fine-tune the model with Max Woolf's [aitextgen](https://github.com/minimaxir/aitextgen/).  We'll use the [example Colab notebook](https://colab.research.google.com/drive/15qBZx5y9rdaQSyWpsreMDnTiZ5IlN0zD?usp=sharing) from the aitextgen repository. This notebook works best when it's fine-tuned on text in a prose format. The model can also learn ad-hoc markup elements that you add to the text. We'll use this feature of the model to make it possible to generate stories from beginning to end, by adding a `[BEGIN STORY]` marker before each story in the source text, followed by the title of the story."
   ]
  },
  {
   "cell_type": "code",
   "execution_count": 216,
   "metadata": {
    "id": "bNVk01jrbzeb"
   },
   "outputs": [],
   "source": [
    "out = []\n",
    "last_title = None\n",
    "for sent in sentences[:10000]:\n",
    "    if sent['title'] != last_title:\n",
    "        out.append(\"\")\n",
    "        out.append(\"[BEGIN STORY]\")\n",
    "        out.append(sent['title'])\n",
    "        out.append(\"\")\n",
    "        last_title = sent['title']\n",
    "    out.append(sent['text'])"
   ]
  },
  {
   "cell_type": "markdown",
   "metadata": {
    "id": "sUV_pVF_bzeb"
   },
   "source": [
    "Here's what the data look like:"
   ]
  },
  {
   "cell_type": "code",
   "execution_count": 126,
   "metadata": {
    "id": "zmdLJn_1bzeb",
    "outputId": "81d750da-233f-4350-c17a-b516dcf98ae4"
   },
   "outputs": [
    {
     "data": {
      "text/plain": [
       "['',\n",
       " '[BEGIN STORY]',\n",
       " 'A DESCENT INTO THE MAELSTRÖM',\n",
       " '',\n",
       " '\"The ways of God in Nature, as in Providence, are not as our ways; nor are the models that we frame any way commensurate to the vastness, profundity, and unsearchableness of His works, which have a depth in them greater than the well of Democritus. Joseph Glanville.    WE had now reached the summit of the loftiest crag. For some minutes the old man seemed too much exhausted to speak.     “Not long ago,” said he at length, “and I could have guided you on this route as well as the youngest of my sons; but, about three years past, there happened to me an event such as never happened to mortal man—or at least such as no man ever survived to tell of—and the six hours of deadly terror which I then endured have broken me up body and soul. You suppose me a very old man—but I am not. It took less than a single day to change these hairs from a jetty black to white, to weaken my limbs, and to unstring my nerves, so that I tremble at the least exertion, and am frightened at a shadow. Do you know I can scarcely look over this little cliff without getting giddy?”     The “little cliff,” upon whose edge he had so carelessly thrown himself down to rest that the weightier portion of his body hung over it, while he was only kept from falling by the tenure of his elbow on its extreme and slippery edge—this “little cliff” arose, a sheer unobstructed precipice of black shining rock, some fifteen or sixteen hundred feet from the world of crags beneath us. Nothing would have tempted me to within half a dozen yards of its brink. In truth so deeply was I excited by the perilous position of my companion, that I fell at full length upon the ground, clung to the shrubs around me, and dared not even glance upward at the sky—while I struggled in vain to divest myself of the idea that the very foundations of the mountain were in danger from the fury of the winds. It was long before I could reason myself into sufficient courage to sit up and look out into the distance.     “You must get over these fancies,” said the guide, “for I have brought you here that you might have the best possible view of the scene of that event I mentioned—and to tell you the whole story with the spot just under your eye.”     “We are now,” he continued, in that particularizing manner which distinguished him—“we are now close upon the Norwegian coast—in the sixty-eighth degree of latitude—in the great province of Nordland—and in the dreary district of Lofoden. The mountain upon whose top we sit is Helseggen, the Cloudy. Now raise yourself up a little higher—hold on to the grass if you feel giddy—so—and look out, beyond the belt of vapor beneath us, into the sea.”     I looked dizzily, and beheld a wide expanse of ocean, whose waters wore so inky a hue as to bring at once to my mind the Nubian geographer’s account of the Mare Tenebrarum. A panorama more deplorably desolate no human imagination can conceive. To the right and left, as far as the eye could reach, there lay outstretched, like ramparts of the world, lines of horridly black and beetling cliff, whose character of gloom was but the more forcibly illustrated by the surf which reared high up against its white and ghastly crest, howling and shrieking forever. Just opposite the promontory upon whose apex we were placed, and at a distance of some five or six miles out at sea, there was visible a small, bleak-looking island; or, more properly, its position was discernible through the wilderness of surge in which it was enveloped. About two miles nearer the land, arose another of smaller size, hideously craggy and barren, and encompassed at various intervals by a cluster of dark rocks.     The appearance of the ocean, in the space between the more distant island and the shore, had something very unusual about it. Although, at the time, so strong a gale was blowing landward that a brig in the remote offing lay to under a double-reefed trysail, and constantly plunged her whole hull out of sight, still there was here nothing like a regular swell, but only a short, quick, angry cross dashing of water in every direction—as well in the teeth of the wind as otherwise. Of foam there was little except in the immediate vicinity of the rocks.     “The island in the distance,” resumed the old man, “is called by the Norwegians Vurrgh. The one midway is Moskoe. That a mile to the northward is Ambaaren. Yonder are Islesen, Hotholm, Keildhelm, Suarven, and Buckholm. Farther off—between Moskoe and Vurrgh—are Otterholm, Flimen, Sandflesen, and Stockholm. These are the true names of the places—but why it has been thought necessary to name them at all, is more than either you or I can understand. Do you hear anything? Do you see any change in the water?”     We had now been about ten minutes upon the top of Helseggen, to which we had ascended from the interior of Lofoden, so that we had caught no glimpse of the sea until it had burst upon us from the summit. As the old man spoke, I became aware of a loud and gradually increasing sound, like the moaning of a vast herd of buffaloes upon an American prairie; and at the same moment I perceived that what seamen term the chopping character of the ocean beneath us, was rapidly changing into a current which set to the eastward. Even while I gazed, this current acquired a monstrous velocity. Each moment added to its speed—to its headlong impetuosity. In five minutes the whole sea, as far as Vurrgh, was lashed into ungovernable fury; but it was between Moskoe and the coast that the main uproar held its sway. Here the vast bed of the waters, seamed and scarred into a thousand conflicting channels, burst suddenly into phrensied convulsion—heaving, boiling, hissing—gyrating in gigantic and innumerable vortices, and all whirling and plunging on to the eastward with a rapidity which water never elsewhere assumes except in precipitous descents.     In a few minutes more, there came over the scene another radical alteration. The general surface grew somewhat more smooth, and the whirlpools, one by one, disappeared, while prodigious streaks of foam became apparent where none had been seen before. These streaks, at length, spreading out to a great distance, and entering into combination, took unto themselves the gyratory motion of the subsided vortices, and seemed to form the germ of another more vast. Suddenly—very suddenly—this assumed a distinct and definite existence, in a circle of more than a mile in diameter. The edge of the whirl was represented by a broad belt of gleaming spray; but no particle of this slipped into the mouth of the terrific funnel, whose interior, as far as the eye could fathom it, was a smooth, shining, and jet-black wall of water, inclined to the horizon at an angle of some forty-five degrees, speeding dizzily round and round with a swaying and sweltering motion, and sending forth to the winds an appalling voice, half shriek, half roar, such as not even the mighty cataract of Niagara ever lifts up in its agony to Heaven.     The mountain trembled to its very base, and the rock rocked. I threw myself upon my face, and clung to the scant herbage in an excess of nervous agitation.     “This,” said I at length, to the old man—“this can be nothing else than the great whirlpool of the Maelström.”     “So it is sometimes termed,” said he. “We Norwegians call it the Moskoe-ström, from the island of Moskoe in the midway.”     The ordinary accounts of this vortex had by no means prepared me for what I saw. That of Jonas Ramus, which is perhaps the most circumstantial of any, cannot impart the faintest conception either of the magnificence, or of the horror of the scene—or of the wild bewildering sense of the novel which confounds the beholder. I am not sure from what point of view the writer in question surveyed it, nor at what time; but it could neither have been from the summit of Helseggen, nor during a storm. There are some passages of his description, nevertheless, which may be quoted for their details, although their effect is exceedingly feeble in conveying an impression of the spectacle.     “Between Lofoden and Moskoe,” he says, “the depth of the water is between thirty-six and forty fathoms; but on the other side, toward Ver (Vurrgh) this depth decreases so as not to afford a convenient passage for a vessel, without the risk of splitting on the rocks, which happens even in the calmest weather. When it is flood, the stream runs up the country between Lofoden and Moskoe with a boisterous rapidity; but the roar of its impetuous ebb to the sea is scarce equalled by the loudest and most dreadful cataracts; the noise being heard several leagues off, and the vortices or pits are of such an extent and depth, that if a ship comes within its attraction, it is inevitably absorbed and carried down to the bottom, and there beat to pieces against the rocks; and when the water relaxes, the fragments thereof are thrown up again. But these intervals of tranquility are only at the turn of the ebb and flood, and in calm weather, and last but a quarter of an hour, its violence gradually returning. When the stream is most boisterous, and its fury heightened by a storm, it is dangerous to come within a Norway mile of it. Boats, yachts, and ships have been carried away by not guarding against it before they were within its reach. It likewise happens frequently, that whales come too near the stream, and are overpowered by its violence; and then it is impossible to describe their howlings and bellowings in their fruitless struggles to disengage themselves. A bear once, attempting to swim from Lofoden to Moskoe, was caught by the stream and borne down, while he roared terribly, so as to be heard on shore. Large stocks of firs and pine trees, after being absorbed by the current, rise again broken and torn to such a degree as if bristles grew upon them. This plainly shows the bottom to consist of craggy rocks, among which they are whirled to and fro. This stream is regulated by the flux and reflux of the sea—it being constantly high and low water every six hours. In the year 1645, early in the morning of Sexagesima Sunday, it raged with such noise and impetuosity that the very stones of the houses on the coast fell to the ground.”     In regard to the depth of the water, I could not see how this could have been ascertained at all in the immediate vicinity of the vortex. The “forty fathoms” must have reference only to portions of the channel close upon the shore either of Moskoe or Lofoden. The depth in the centre of the Moskoe-ström must be immeasurably greater; and no better proof of this fact is necessary than can be obtained from even the sidelong glance into the abyss of the whirl which may be had from the highest crag of Helseggen. Looking down from this pinnacle upon the howling Phlegethon below, I could not help smiling at the simplicity with which the honest Jonas Ramus records, as a matter difficult of belief, the anecdotes of the whales and the bears; for it appeared to me, in fact, a self-evident thing, that the largest ship of the line in existence, coming within the influence of that deadly attraction, could resist it as little as a feather the hurricane, and must disappear bodily and at once.     The attempts to account for the phenomenon—some of which, I remember, seemed to me sufficiently plausible in perusal—now wore a very different and unsatisfactory aspect. The idea generally received is that this, as well as three smaller vortices among the Ferroe islands, “have no other cause than the collision of waves rising and falling, at flux and reflux, against a ridge of rocks and shelves, which confines the water so that it precipitates itself like a cataract; and thus the higher the flood rises, the deeper must the fall be, and the natural result of all is a whirlpool or vortex, the prodigious suction of which is sufficiently known by lesser experiments.”—These are the words of the Encyclopædia Britannica. Kircher and others imagine that in the centre of the channel of the Maelström is an abyss penetrating the globe, and issuing in some very remote part—the Gulf of Bothnia being somewhat decidedly named in one instance. This opinion, idle in itself, was the one to which, as I gazed, my imagination most readily assented; and, mentioning it to the guide, I was rather surprised to hear him say that, although it was the view almost universally entertained of the subject by the Norwegians, it nevertheless was not his own. As to the former notion he confessed his inability to comprehend it; and here I agreed with him—for, however conclusive on paper, it becomes altogether unintelligible, and even absurd, amid the thunder of the abyss.     “You have had a good look at the whirl now,” said the old man, “and if you will creep round this crag, so as to get in its lee, and deaden the roar of the water, I will tell you a story that will convince you I ought to know something of the Moskoe-ström.”     I placed myself as desired, and he proceeded.     “Myself and my two brothers once owned a schooner-rigged smack of about seventy tons burthen, with which we were in the habit of fishing among the islands beyond Moskoe, nearly to Vurrgh. In all violent eddies at sea there is good fishing, at proper opportunities, if one has only the courage to attempt it; but among the whole of the Lofoden coastmen, we three were the only ones who made a regular business of going out to the islands, as I tell you. The usual grounds are a great way lower down to the southward. There fish can be got at all hours, without much risk, and therefore these places are preferred. The choice spots over here among the rocks, however, not only yield the finest variety, but in far greater abundance; so that we often got in a single day, what the more timid of the craft could not scrape together in a week. In fact, we made it a matter of desperate speculation—the risk of life standing instead of labor, and courage answering for capital.     “We kept the smack in a cove about five miles higher up the coast than this; and it was our practice, in fine weather, to take advantage of the fifteen minutes’ slack to push across the main channel of the Moskoe-ström, far above the pool, and then drop down upon anchorage somewhere near Otterholm, or Sandflesen, where the eddies are not so violent as elsewhere. Here we used to remain until nearly time for slack-water again, when we weighed and made for home. We never set out upon this expedition without a steady side wind for going and coming—one that we felt sure would not fail us before our return—and we seldom made a mis-calculation upon this point. Twice, during six years, we were forced to stay all night at anchor on account of a dead calm, which is a rare thing indeed just about here; and once we had to remain on the grounds nearly a week, starving to death, owing to a gale which blew up shortly after our arrival, and made the channel too boisterous to be thought of. Upon this occasion we should have been driven out to sea in spite of everything, (for the whirlpools threw us round and round so violently, that, at length, we fouled our anchor and dragged it) if it had not been that we drifted into one of the innumerable cross currents—here to-day and gone to-morrow—which drove us under the lee of Flimen, where, by good luck, we brought up.     “I could not tell you the twentieth part of the difficulties we encountered ‘on the grounds’—it is a bad spot to be in, even in good weather—but we made shift always to run the gauntlet of the Moskoe-ström itself without accident; although at times my heart has been in my mouth when we happened to be a minute or so behind or before the slack. The wind sometimes was not as strong as we thought it at starting, and then we made rather less way than we could wish, while the current rendered the smack unmanageable. My eldest brother had a son eighteen years old, and I had two stout boys of my own. These would have been of great assistance at such times, in using the sweeps, as well as afterward in fishing—but, somehow, although we ran the risk ourselves, we had not the heart to let the young ones get into the danger—for, after all is said and done, it was a horrible danger, and that is the truth.     “It is now within a few days of three years since what I am going to tell you occurred. It was on the tenth day of July, 18-, a day which the people of this part of the world will never forget—for it was one in which blew the most terrible hurricane that ever came out of the heavens. And yet all the morning, and indeed until late in the afternoon, there was a gentle and steady breeze from the south-west, while the sun shone brightly, so that the oldest seaman among us could not have foreseen what was to follow.     “The three of us—my two brothers and myself—had crossed over to the islands about two o’clock P. M., and had soon nearly loaded the smack with fine fish, which, we all remarked, were more plenty that day than we had ever known them. It was just seven, by my watch, when we weighed and started for home, so as to make the worst of the Ström at slack water, which we knew would be at eight.     “We set out with a fresh wind on our starboard quarter, and for some time spanked along at a great rate, never dreaming of danger, for indeed we saw not the slightest reason to apprehend it. All at once we were taken aback by a breeze from over Helseggen. This was most unusual—something that had never happened to us before—and I began to feel a little uneasy, without exactly knowing why. We put the boat on the wind, but could make no headway at all for the eddies, and I was upon the point of proposing to return to the anchorage, when, looking astern, we saw the whole horizon covered with a singular copper-colored cloud that rose with the most amazing velocity.     “In the meantime the breeze that had headed us off fell away, and we were dead becalmed, drifting about in every direction. This state of things, however, did not last long enough to give us time to think about it. In less than a minute the storm was upon us—in less than two the sky was entirely overcast—and what with this and the driving spray, it became suddenly so dark that we could not see each other in the smack.     “Such a hurricane as then blew it is folly to attempt describing. The oldest seaman in Norway never experienced any thing like it. We had let our sails go by the run before it cleverly took us; but, at the first puff, both our masts went by the board as if they had been sawed off—the mainmast taking with it my youngest brother, who had lashed himself to it for safety.     “Our boat was the lightest feather of a thing that ever sat upon water. It had a complete flush deck, with only a small hatch near the bow, and this hatch it had always been our custom to batten down when about to cross the Ström, by way of precaution against the chopping seas. But for this circumstance we should have foundered at once—for we lay entirely buried for some moments. How my elder brother escaped destruction I cannot say, for I never had an opportunity of ascertaining. For my part, as soon as I had let the foresail run, I threw myself flat on deck, with my feet against the narrow gunwale of the bow, and with my hands grasping a ring-bolt near the foot of the fore-mast. It was mere instinct that prompted me to do this—which was undoubtedly the very best thing I could have done—for I was too much flurried to think.     “For some moments we were completely deluged, as I say, and all this time I held my breath, and clung to the bolt. When I could stand it no longer I raised myself upon my knees, still keeping hold with my hands, and thus got my head clear. Presently our little boat gave herself a shake, just as a dog does in coming out of the water, and thus rid herself, in some measure, of the seas. I was now trying to get the better of the stupor that had come over me, and to collect my senses so as to see what was to be done, when I felt somebody grasp my arm. It was my elder brother, and my heart leaped for joy, for I had made sure that he was overboard—but the next moment all this joy was turned into horror—for he put his mouth close to my ear, and screamed out the word ‘Moskoe-ström!’     “No one ever will know what my feelings were at that moment. I shook from head to foot as if I had had the most violent fit of the ague. I knew what he meant by that one word well enough—I knew what he wished to make me understand. With the wind that now drove us on, we were bound for the whirl of the Ström, and nothing could save us!     “You perceive that in crossing the Ström channel, we always went a long way up above the whirl, even in the calmest weather, and then had to wait and watch carefully for the slack—but now we were driving right upon the pool itself, and in such a hurricane as this! ‘To be sure,’ I thought, ‘we shall get there just about the slack—there is some little hope in that’—but in the next moment I cursed myself for being so great a fool as to dream of hope at all. I knew very well that we were doomed, had we been ten times a ninety-gun ship.     “By this time the first fury of the tempest had spent itself, or perhaps we did not feel it so much, as we scudded before it, but at all events the seas, which at first had been kept down by the wind, and lay flat and frothing, now got up into absolute mountains. A singular change, too, had come over the heavens. Around in every direction it was still as black as pitch, but nearly overhead there burst out, all at once, a circular rift of clear sky—as clear as I ever saw—and of a deep bright blue—and through it there blazed forth the full moon with a lustre that I never before knew her to wear. She lit up every thing about us with the greatest distinctness—but, oh God, what a scene it was to light up!     “I now made one or two attempts to speak to my brother—but, in some manner which I could not understand, the din had so increased that I could not make him hear a single word, although I screamed at the top of my voice in his ear. Presently he shook his head, looking as pale as death, and held up one of his fingers, as if to say ‘listen! ‘     “At first I could not make out what he meant—but soon a hideous thought flashed upon me. I dragged my watch from its fob. It was not going. I glanced at its face by the moonlight, and then burst into tears as I flung it far away into the ocean. It had run down at seven o’clock! We were behind the time of the slack, and the whirl of the Ström was in full fury!     “When a boat is well built, properly trimmed, and not deep laden, the waves in a strong gale, when she is going large, seem always to slip from beneath her—which appears very strange to a landsman—and this is what is called riding, in sea phrase. Well, so far we had ridden the swells very cleverly; but presently a gigantic sea happened to take us right under the counter, and bore us with it as it rose—up—up—as if into the sky. I would not have believed that any wave could rise so high. And then down we came with a sweep, a slide, and a plunge, that made me feel sick and dizzy, as if I was falling from some lofty mountain-top in a dream. But while we were up I had thrown a quick glance around—and that one glance was all sufficient. I saw our exact position in an instant. The Moskoe-Ström whirlpool was about a quarter of a mile dead ahead—but no more like the every-day Moskoe-Ström, than the whirl as you now see it is like a mill-race. If I had not known where we were, and what we had to expect, I should not have recognised the place at all. As it was, I involuntarily closed my eyes in horror. The lids clenched themselves together as if in a spasm.     “It could not have been more than two minutes afterward until we suddenly felt the waves subside, and were enveloped in foam. The boat made a sharp half turn to larboard, and then shot off in its new direction like a thunderbolt. At the same moment the roaring noise of the water was completely drowned in a kind of shrill shriek—such a sound as you might imagine given out by the waste-pipes of many thousand steam-vessels, letting off their steam all together. We were now in the belt of surf that always surrounds the whirl; and I thought, of course, that another moment would plunge us into the abyss—down which we could only see indistinctly on account of the amazing velocity with which we wore borne along. The boat did not seem to sink into the water at all, but to skim like an air-bubble upon the surface of the surge. Her starboard side was next the whirl, and on the larboard arose the world of ocean we had left. It stood like a huge writhing wall between us and the horizon.     “It may appear strange, but now, when we were in the very jaws of the gulf, I felt more composed than when we were only approaching it. Having made up my mind to hope no more, I got rid of a great deal of that terror which unmanned me at first. I suppose it was despair that strung my nerves.     “It may look like boasting—but what I tell you is truth—I began to reflect how magnificent a thing it was to die in such a manner, and how foolish it was in me to think of so paltry a consideration as my own individual life, in view of so wonderful a manifestation of God’s power. I do believe that I blushed with shame when this idea crossed my mind. After a little while I became possessed with the keenest curiosity about the whirl itself. I positively felt a wish to explore its depths, even at the sacrifice I was going to make; and my principal grief was that I should never be able to tell my old companions on shore about the mysteries I should see. These, no doubt, were singular fancies to occupy a man’s mind in such extremity—and I have often thought since, that the revolutions of the boat around the pool might have rendered me a little light-headed.     “There was another circumstance which tended to restore my self-possession; and this was the cessation of the wind, which could not reach us in our present situation—for, as you saw yourself, the belt of surf is considerably lower than the general bed of the ocean, and this latter now towered above us, a high, black, mountainous ridge. If you have never been at sea in a heavy gale, you can form no idea of the confusion of mind occasioned by the wind and spray together. They blind, deafen, and strangle you, and take away all power of action or reflection. But we were now, in a great measure, rid of these annoyances—just as death-condemned felons in prison are allowed petty indulgences, forbidden them while their doom is yet uncertain.     “How often we made the circuit of the belt it is impossible to say. We careered round and round for perhaps an hour, flying rather than floating, getting gradually more and more into the middle of the surge, and then nearer and nearer to its horrible inner edge. All this time I had never let go of the ring-bolt. My brother was at the stern, holding on to a small empty water-cask which had been securely lashed under the coop of the counter, and was the only thing on deck that had not been swept overboard when the gale first took us. As we approached the brink of the pit he let go his hold upon this, and made for the ring, from which, in the agony of his terror, he endeavored to force my hands, as it was not large enough to afford us both a secure grasp. I never felt deeper grief than when I saw him attempt this act—although I knew he was a madman when he did it—a raving maniac through sheer fright. I did not care, however, to contest the point with him. I knew it could make no difference whether either of us held on at all; so I let him have the bolt, and went astern to the cask. This there was no great difficulty in doing; for the smack flew round steadily enough, and upon an even keel—only swaying to and fro, with the immense sweeps and swelters of the whirl. Scarcely had I secured myself in my new position, when we gave a wild lurch to starboard, and rushed headlong into the abyss. I muttered a hurried prayer to God, and thought all was over.     “As I felt the sickening sweep of the descent, I had instinctively tightened my hold upon the barrel, and closed my eyes. For some seconds I dared not open them—while I expected instant destruction, and wondered that I was not already in my death-struggles with the water. But moment after moment elapsed. I still lived. The sense of falling had ceased; and the motion of the vessel seemed much as it had been before, while in the belt of foam, with the exception that she now lay more along. I took courage, and looked once again upon the scene.     “Never shall I forget the sensations of awe, horror, and admiration with which I gazed about me. The boat appeared to be hanging, as if by magic, midway down, upon the interior surface of a funnel vast in circumference, prodigious in depth, and whose perfectly smooth sides might have been mistaken for ebony, but for the bewildering rapidity with which they spun around, and for the gleaming and ghastly radiance they shot forth, as the rays of the full moon, from that circular rift amid the clouds which I have already described, streamed in a flood of golden glory along the black walls, and far away down into the inmost recesses of the abyss.     “At first I was too much confused to observe anything accurately. The general burst of terrific grandeur was all that I beheld. When I recovered myself a little, however, my gaze fell instinctively downward. In this direction I was able to obtain an unobstructed view, from the manner in which the smack hung on the inclined surface of the pool. She was quite upon an even keel—that is to say, her deck lay in a plane parallel with that of the water—but this latter sloped at an angle of more than forty-five degrees, so that we seemed to be lying upon our beam-ends. I could not help observing, nevertheless, that I had scarcely more difficulty in maintaining my hold and footing in this situation, than if we had been upon a dead level; and this, I suppose, was owing to the speed at which we revolved.     “The rays of the moon seemed to search the very bottom of the profound gulf; but still I could make out nothing distinctly, on account of a thick mist in which everything there was enveloped, and over which there hung a magnificent rainbow, like that narrow and tottering bridge which Mussulmen say is the only pathway between Time and Eternity. This mist, or spray, was no doubt occasioned by the clashing of the great walls of the funnel, as they all met together at the bottom—but the yell that went up to the Heavens from out of that mist, I dare not attempt to describe.     “Our first slide into the abyss itself, from the belt of foam above, had carried us a great distance down the slope; but our farther descent was by no means proportionate. Round and round we swept—not with any uniform movement—but in dizzying swings and jerks, that sent us sometimes only a few hundred yards—sometimes nearly the complete circuit of the whirl. Our progress downward, at each revolution, was slow, but very perceptible.     “Looking about me upon the wide waste of liquid ebony on which we were thus borne, I perceived that our boat was not the only object in the embrace of the whirl. Both above and below us were visible fragments of vessels, large masses of building timber and trunks of trees, with many smaller articles, such as pieces of house furniture, broken boxes, barrels and staves. I have already described the unnatural curiosity which had taken the place of my original terrors. It appeared to grow upon me as I drew nearer and nearer to my dreadful doom. I now began to watch, with a strange interest, the numerous things that floated in our company. I must have been delirious—for I even sought amusement in speculating upon the relative velocities of their several descents toward the foam below. ‘This fir tree,’ I found myself at one time saying, ‘will certainly be the next thing that takes the awful plunge and disappears,’—and then I was disappointed to find that the wreck of a Dutch merchant ship overtook it and went down before. At length, after making several guesses of this nature, and being deceived in all—this fact—the fact of my invariable miscalculation—set me upon a train of reflection that made my limbs again tremble, and my heart beat heavily once more.     “It was not a new terror that thus affected me, but the dawn of a more exciting hope. This hope arose partly from memory, and partly from present observation. I called to mind the great variety of buoyant matter that strewed the coast of Lofoden, having been absorbed and then thrown forth by the Moskoe-ström. By far the greater number of the articles were shattered in the most extraordinary way—so chafed and roughened as to have the appearance of being stuck full of splinters—but then I distinctly recollected that there were some of them which were not disfigured at all. Now I could not account for this difference except by supposing that the roughened fragments were the only ones which had been completely absorbed—that the others had entered the whirl at so late a period of the tide, or, for some reason, had descended so slowly after entering, that they did not reach the bottom before the turn of the flood came, or of the ebb, as the case might be. I conceived it possible, in either instance, that they might thus be whirled up again to the level of the ocean, without undergoing the fate of those which had been drawn in more early, or absorbed more rapidly. I made, also, three important observations. The first was, that, as a general rule, the larger the bodies were, the more rapid their descent—the second, that, between two masses of equal extent, the one spherical, and the other of any other shape, the superiority in speed of descent was with the sphere—the third, that, between two masses of equal size, the one cylindrical, and the other of any other shape, the cylinder was absorbed the more slowly. Since my escape, I have had several conversations on this subject with an old school-master of the district; and it was from him that I learned the use of the words ‘cylinder’ and ‘sphere.’ He explained to me—although I have forgotten the explanation—how what I observed was, in fact, the natural consequence of the forms of the floating fragments—and showed me how it happened that a cylinder, swimming in a vortex, offered more resistance to its suction, and was drawn in with greater difficulty than an equally bulky body, of any form whatever. (*1)     “There was one startling circumstance which went a great way in enforcing these observations, and rendering me anxious to turn them to account, and this was that, at every revolution, we passed something like a barrel, or else the yard or the mast of a vessel, while many of these things, which had been on our level when I first opened my eyes upon the wonders of the whirlpool, were now high up above us, and seemed to have moved but little from their original station.     “I no longer hesitated what to do. I resolved to lash myself securely to the water cask upon which I now held, to cut it loose from the counter, and to throw myself with it into the water. I attracted my brother’s attention by signs, pointed to the floating barrels that came near us, and did everything in my power to make him understand what I was about to do. I thought at length that he comprehended my design—but, whether this was the case or not, he shook his head despairingly, and refused to move from his station by the ring-bolt. It was impossible to reach him; the emergency admitted of no delay; and so, with a bitter struggle, I resigned him to his fate, fastened myself to the cask by means of the lashings which secured it to the counter, and precipitated myself with it into the sea, without another moment’s hesitation.     “The result was precisely what I had hoped it might be. As it is myself who now tell you this tale—as you see that I did escape—and as you are already in possession of the mode in which this escape was effected, and must therefore anticipate all that I have farther to say—I will bring my story quickly to conclusion. It might have been an hour, or thereabout, after my quitting the smack, when, having descended to a vast distance beneath me, it made three or four wild gyrations in rapid succession, and, bearing my loved brother with it, plunged headlong, at once and forever, into the chaos of foam below. The barrel to which I was attached sunk very little farther than half the distance between the bottom of the gulf and the spot at which I leaped overboard, before a great change took place in the character of the whirlpool. The slope of the sides of the vast funnel became momently less and less steep. The gyrations of the whirl grew, gradually, less and less violent. By degrees, the froth and the rainbow disappeared, and the bottom of the gulf seemed slowly to uprise. The sky was clear, the winds had gone down, and the full moon was setting radiantly in the west, when I found myself on the surface of the ocean, in full view of the shores of Lofoden, and above the spot where the pool of the Moskoe-ström had been. It was the hour of the slack—but the sea still heaved in mountainous waves from the effects of the hurricane. I was borne violently into the channel of the Ström, and in a few minutes was hurried down the coast into the ‘grounds’ of the fishermen. A boat picked me up—exhausted from fatigue—and (now that the danger was removed) speechless from the memory of its horror. Those who drew me on board were my old mates and daily companions—but they knew me no more than they would have known a traveller from the spirit-land. My hair which had been raven-black the day before, was as white as you see it now. They say too that the whole expression of my countenance had changed. I told them my story—they did not believe it. I now tell it to you—and I can scarcely expect you to put more faith in it than did the merry fishermen of Lofoden.”']"
      ]
     },
     "execution_count": 126,
     "metadata": {},
     "output_type": "execute_result"
    }
   ],
   "source": [
    "out[:25]"
   ]
  },
  {
   "cell_type": "markdown",
   "metadata": {
    "id": "c5-izP45bzec"
   },
   "source": [
    "The following cell writes this out to a file, which you can then upload to the aitextgen notebook on Google Colab to train the model:"
   ]
  },
  {
   "cell_type": "code",
   "execution_count": 217,
   "metadata": {
    "id": "Hwc-gtsAbzec"
   },
   "outputs": [],
   "source": [
    "with open(\"story_training.txt\", \"w\") as fh:\n",
    "    fh.write(\"\\n\".join(out))"
   ]
  },
  {
   "cell_type": "markdown",
   "metadata": {
    "id": "M5D41I4Bbzec"
   },
   "source": [
    "In the text generation section of that notebook, try prompting the model with `[BEGIN STORY]` followed by the title of a story you'd like to generate!"
   ]
  },
  {
   "cell_type": "code",
   "execution_count": 131,
   "metadata": {},
   "outputs": [],
   "source": [
    "import pandas as pd\n",
    "global sb\n",
    "global stories\n",
    "import seaborn as sb\n",
    "sb.set(color_codes = True)"
   ]
  },
  {
   "cell_type": "code",
   "execution_count": null,
   "metadata": {},
   "outputs": [],
   "source": []
  },
  {
   "cell_type": "code",
   "execution_count": 232,
   "metadata": {},
   "outputs": [
    {
     "data": {
      "text/html": [
       "<div>\n",
       "<style scoped>\n",
       "    .dataframe tbody tr th:only-of-type {\n",
       "        vertical-align: middle;\n",
       "    }\n",
       "\n",
       "    .dataframe tbody tr th {\n",
       "        vertical-align: top;\n",
       "    }\n",
       "\n",
       "    .dataframe thead th {\n",
       "        text-align: right;\n",
       "    }\n",
       "</style>\n",
       "<table border=\"1\" class=\"dataframe\">\n",
       "  <thead>\n",
       "    <tr style=\"text-align: right;\">\n",
       "      <th></th>\n",
       "      <th>A DESCENT INTO THE MAELSTRÖM#\"The ways of God in Nature</th>\n",
       "      <th>as in Providence</th>\n",
       "      <th>are not as our ways; nor are the models that we frame any way commensurate to the vastness</th>\n",
       "      <th>profundity</th>\n",
       "      <th>and unsearchableness of His works</th>\n",
       "      <th>which have a depth in them greater than the well of Democritus. Joseph Glanville.    WE had now reached the summit of the loftiest crag. For some minutes the old man seemed too much exhausted to speak.     “Not long ago</th>\n",
       "      <th>” said he at length</th>\n",
       "      <th>“and I could have guided you on this route as well as the youngest of my sons; but</th>\n",
       "      <th>about three years past</th>\n",
       "      <th>there happened to me an event such as never happened to mortal man—or at least such as no man ever survived to tell of—and the six hours of deadly terror which I then endured have broken me up body and soul. You suppose me a very old man—but I am not. It took less than a single day to change these hairs from a jetty black to white</th>\n",
       "      <th>...</th>\n",
       "      <th>of my beloved puppy</th>\n",
       "      <th>which I perceive sitting with a grace so melancholy</th>\n",
       "      <th>in the corner? Hearken! for she speaks</th>\n",
       "      <th>and.10</th>\n",
       "      <th>heavens! it is in the German of Schiller—    “Unt stubby duk</th>\n",
       "      <th>so stubby dun Duk she! duk she!” Alas! and are not her words too true? “And if I died</th>\n",
       "      <th>at least I died For thee—for thee.”     Sweet creature! she too has sacrificed herself in my behalf. Dogless</th>\n",
       "      <th>niggerless</th>\n",
       "      <th>headless</th>\n",
       "      <th>what now remains for the unhappy Signora Psyche Zenobia? Alas—nothing! I have done.\"#A Predicament#November 1838#American Museum#Parody#\"Companion to \"\"How to Write a Blackwood Article#\"\" originally \"\"The Scythe of Time\"\"\"#November 1838#</th>\n",
       "    </tr>\n",
       "  </thead>\n",
       "  <tbody>\n",
       "    <tr>\n",
       "      <th>0</th>\n",
       "      <td>ELEONORA#\"Sub conservatione formae specificae ...</td>\n",
       "      <td>whether madness is or is not the loftiest int...</td>\n",
       "      <td>and thrill</td>\n",
       "      <td>in awakening</td>\n",
       "      <td>to find that they have been upon the verge of...</td>\n",
       "      <td>they learn something of the wisdom which is o...</td>\n",
       "      <td>and more of the mere knowledge which is of ev...</td>\n",
       "      <td>however</td>\n",
       "      <td>rudderless or compassless into the vast ocean...</td>\n",
       "      <td>” and again</td>\n",
       "      <td>...</td>\n",
       "      <td>NaN</td>\n",
       "      <td>NaN</td>\n",
       "      <td>NaN</td>\n",
       "      <td>NaN</td>\n",
       "      <td>NaN</td>\n",
       "      <td>NaN</td>\n",
       "      <td>NaN</td>\n",
       "      <td>NaN</td>\n",
       "      <td>NaN</td>\n",
       "      <td>NaN</td>\n",
       "    </tr>\n",
       "    <tr>\n",
       "      <th>1</th>\n",
       "      <td>FOUR BEASTS IN ONE—THE HOMO-CAMELEOPARD#Chacun...</td>\n",
       "      <td>however</td>\n",
       "      <td>more properly attributable to Cambyses</td>\n",
       "      <td>the son of Cyrus. And</td>\n",
       "      <td>indeed</td>\n",
       "      <td>the character of the Syrian monarch does by n...</td>\n",
       "      <td>or rather his usurpation of the sovereignty</td>\n",
       "      <td>a hundred and seventy-one years before the co...</td>\n",
       "      <td>after a tumultuous reign of eleven years</td>\n",
       "      <td>are circumstances of a prominent kind</td>\n",
       "      <td>...</td>\n",
       "      <td>NaN</td>\n",
       "      <td>NaN</td>\n",
       "      <td>NaN</td>\n",
       "      <td>NaN</td>\n",
       "      <td>NaN</td>\n",
       "      <td>NaN</td>\n",
       "      <td>NaN</td>\n",
       "      <td>NaN</td>\n",
       "      <td>NaN</td>\n",
       "      <td>NaN</td>\n",
       "    </tr>\n",
       "  </tbody>\n",
       "</table>\n",
       "<p>2 rows × 806 columns</p>\n",
       "</div>"
      ],
      "text/plain": [
       "  A DESCENT INTO THE MAELSTRÖM#\"The ways of God in Nature  \\\n",
       "0  ELEONORA#\"Sub conservatione formae specificae ...        \n",
       "1  FOUR BEASTS IN ONE—THE HOMO-CAMELEOPARD#Chacun...        \n",
       "\n",
       "                                    as in Providence  \\\n",
       "0   whether madness is or is not the loftiest int...   \n",
       "1                                            however   \n",
       "\n",
       "   are not as our ways; nor are the models that we frame any way commensurate to the vastness  \\\n",
       "0                                         and thrill                                            \n",
       "1             more properly attributable to Cambyses                                            \n",
       "\n",
       "               profundity                  and unsearchableness of His works  \\\n",
       "0            in awakening   to find that they have been upon the verge of...   \n",
       "1   the son of Cyrus. And                                             indeed   \n",
       "\n",
       "   which have a depth in them greater than the well of Democritus. Joseph Glanville.    WE had now reached the summit of the loftiest crag. For some minutes the old man seemed too much exhausted to speak.     “Not long ago  \\\n",
       "0   they learn something of the wisdom which is o...                                                                                                                                                                             \n",
       "1   the character of the Syrian monarch does by n...                                                                                                                                                                             \n",
       "\n",
       "                                 ” said he at length  \\\n",
       "0   and more of the mere knowledge which is of ev...   \n",
       "1        or rather his usurpation of the sovereignty   \n",
       "\n",
       "   “and I could have guided you on this route as well as the youngest of my sons; but  \\\n",
       "0                                            however                                    \n",
       "1   a hundred and seventy-one years before the co...                                    \n",
       "\n",
       "                              about three years past  \\\n",
       "0   rudderless or compassless into the vast ocean...   \n",
       "1           after a tumultuous reign of eleven years   \n",
       "\n",
       "   there happened to me an event such as never happened to mortal man—or at least such as no man ever survived to tell of—and the six hours of deadly terror which I then endured have broken me up body and soul. You suppose me a very old man—but I am not. It took less than a single day to change these hairs from a jetty black to white  \\\n",
       "0                                        ” and again                                                                                                                                                                                                                                                                                              \n",
       "1              are circumstances of a prominent kind                                                                                                                                                                                                                                                                                              \n",
       "\n",
       "   ...  of my beloved puppy  \\\n",
       "0  ...                  NaN   \n",
       "1  ...                  NaN   \n",
       "\n",
       "   which I perceive sitting with a grace so melancholy  \\\n",
       "0                                                NaN     \n",
       "1                                                NaN     \n",
       "\n",
       "   in the corner? Hearken! for she speaks  and.10  \\\n",
       "0                                     NaN     NaN   \n",
       "1                                     NaN     NaN   \n",
       "\n",
       "   heavens! it is in the German of Schiller—    “Unt stubby duk  \\\n",
       "0                                                NaN              \n",
       "1                                                NaN              \n",
       "\n",
       "   so stubby dun Duk she! duk she!” Alas! and are not her words too true? “And if I died  \\\n",
       "0                                                NaN                                       \n",
       "1                                                NaN                                       \n",
       "\n",
       "   at least I died For thee—for thee.”     Sweet creature! she too has sacrificed herself in my behalf. Dogless  \\\n",
       "0                                                NaN                                                              \n",
       "1                                                NaN                                                              \n",
       "\n",
       "   niggerless  headless  \\\n",
       "0         NaN       NaN   \n",
       "1         NaN       NaN   \n",
       "\n",
       "   what now remains for the unhappy Signora Psyche Zenobia? Alas—nothing! I have done.\"#A Predicament#November 1838#American Museum#Parody#\"Companion to \"\"How to Write a Blackwood Article#\"\" originally \"\"The Scythe of Time\"\"\"#November 1838#  \n",
       "0                                                NaN                                                                                                                                                                                              \n",
       "1                                                NaN                                                                                                                                                                                              \n",
       "\n",
       "[2 rows x 806 columns]"
      ]
     },
     "execution_count": 232,
     "metadata": {},
     "output_type": "execute_result"
    }
   ],
   "source": [
    "#os.chown\n",
    "import os\n",
    "import getpass as gt\n",
    "global path\n",
    "path = \"C:/Users/aarya/Downloads/preprocessed_data.csv/aaryan2.txt\"\n",
    "#print(\"Owner id of the file:\", os.stat(path).st_uid)\n",
    "#print(\"Group id of the file:\", os.stat(path).st_gid)\n",
    "#print(gt.getuser())\n",
    "\n",
    "#os.chown(path,os.stat(path).st_uid, os.stat(path).st_gid)\n",
    "stories = pd.read_csv(path) \n",
    "stories.head()\n",
    "#print(stories['title'])"
   ]
  },
  {
   "cell_type": "code",
   "execution_count": 230,
   "metadata": {},
   "outputs": [],
   "source": [
    "# sb.barplot(stories['title'], stories['text'])\n",
    "#!pip install scattertext "
   ]
  },
  {
   "cell_type": "code",
   "execution_count": 234,
   "metadata": {},
   "outputs": [
    {
     "ename": "AttributeError",
     "evalue": "module 'scattertext' has no attribute 'path'",
     "output_type": "error",
     "traceback": [
      "\u001b[1;31m---------------------------------------------------------------------------\u001b[0m",
      "\u001b[1;31mAttributeError\u001b[0m                            Traceback (most recent call last)",
      "Input \u001b[1;32mIn [234]\u001b[0m, in \u001b[0;36m<cell line: 2>\u001b[1;34m()\u001b[0m\n\u001b[0;32m      1\u001b[0m \u001b[38;5;28;01mimport\u001b[39;00m \u001b[38;5;21;01mscattertext\u001b[39;00m \u001b[38;5;28;01mas\u001b[39;00m \u001b[38;5;21;01mst\u001b[39;00m\n\u001b[1;32m----> 2\u001b[0m df \u001b[38;5;241m=\u001b[39m \u001b[43mst\u001b[49m\u001b[38;5;241;43m.\u001b[39;49m\u001b[43mpath\u001b[49m\u001b[38;5;241m.\u001b[39mget_data()\u001b[38;5;241m.\u001b[39massign(\n\u001b[0;32m      3\u001b[0m     parse\u001b[38;5;241m=\u001b[39m\u001b[38;5;28;01mlambda\u001b[39;00m df: df\u001b[38;5;241m.\u001b[39mtext\u001b[38;5;241m.\u001b[39mapply(st\u001b[38;5;241m.\u001b[39mwhitespace_nlp_with_sentences)\n\u001b[0;32m      4\u001b[0m )\n\u001b[0;32m      6\u001b[0m corpus \u001b[38;5;241m=\u001b[39m st\u001b[38;5;241m.\u001b[39mCorpusFromParsedDocuments(\n\u001b[0;32m      7\u001b[0m     df, category_col\u001b[38;5;241m=\u001b[39m\u001b[38;5;124m'\u001b[39m\u001b[38;5;124mparty\u001b[39m\u001b[38;5;124m'\u001b[39m, parsed_col\u001b[38;5;241m=\u001b[39m\u001b[38;5;124m'\u001b[39m\u001b[38;5;124mparse\u001b[39m\u001b[38;5;124m'\u001b[39m\n\u001b[0;32m      8\u001b[0m )\u001b[38;5;241m.\u001b[39mbuild()\u001b[38;5;241m.\u001b[39mget_unigram_corpus()\u001b[38;5;241m.\u001b[39mcompact(st\u001b[38;5;241m.\u001b[39mAssociationCompactor(\u001b[38;5;241m2000\u001b[39m))\n\u001b[0;32m     10\u001b[0m html \u001b[38;5;241m=\u001b[39m st\u001b[38;5;241m.\u001b[39mproduce_scattertext_explorer(\n\u001b[0;32m     11\u001b[0m     corpus,\n\u001b[0;32m     12\u001b[0m     category\u001b[38;5;241m=\u001b[39m\u001b[38;5;124m'\u001b[39m\u001b[38;5;124mdemocrat\u001b[39m\u001b[38;5;124m'\u001b[39m, category_name\u001b[38;5;241m=\u001b[39m\u001b[38;5;124m'\u001b[39m\u001b[38;5;124mDemocratic\u001b[39m\u001b[38;5;124m'\u001b[39m, not_category_name\u001b[38;5;241m=\u001b[39m\u001b[38;5;124m'\u001b[39m\u001b[38;5;124mRepublican\u001b[39m\u001b[38;5;124m'\u001b[39m,\n\u001b[1;32m   (...)\u001b[0m\n\u001b[0;32m     15\u001b[0m     transform\u001b[38;5;241m=\u001b[39mst\u001b[38;5;241m.\u001b[39mScalers\u001b[38;5;241m.\u001b[39mdense_rank\n\u001b[0;32m     16\u001b[0m )\n",
      "\u001b[1;31mAttributeError\u001b[0m: module 'scattertext' has no attribute 'path'"
     ]
    }
   ],
   "source": [
    "import scattertext as st\n",
    "df = st.path.get_data().assign(\n",
    "    parse=lambda df: df.text.apply(st.whitespace_nlp_with_sentences)\n",
    ")\n",
    "\n",
    "corpus = st.CorpusFromParsedDocuments(\n",
    "    df, category_col='party', parsed_col='parse'\n",
    ").build().get_unigram_corpus().compact(st.AssociationCompactor(2000))\n",
    "\n",
    "html = st.produce_scattertext_explorer(\n",
    "    corpus,\n",
    "    category='democrat', category_name='Democratic', not_category_name='Republican',\n",
    "    minimum_term_frequency=0, pmi_threshold_coefficient=0,\n",
    "    width_in_pixels=1000, metadata=corpus.get_df()['speaker'],\n",
    "    transform=st.Scalers.dense_rank\n",
    ")\n",
    "open('./demo_compact.html', 'w').write(html)"
   ]
  },
  {
   "cell_type": "code",
   "execution_count": null,
   "metadata": {},
   "outputs": [],
   "source": []
  },
  {
   "cell_type": "code",
   "execution_count": null,
   "metadata": {},
   "outputs": [],
   "source": []
  }
 ],
 "metadata": {
  "colab": {
   "name": "corpus-driven-narrative-generation.ipynb",
   "provenance": []
  },
  "kernelspec": {
   "display_name": "Python 3 (ipykernel)",
   "language": "python",
   "name": "python3"
  },
  "language_info": {
   "codemirror_mode": {
    "name": "ipython",
    "version": 3
   },
   "file_extension": ".py",
   "mimetype": "text/x-python",
   "name": "python",
   "nbconvert_exporter": "python",
   "pygments_lexer": "ipython3",
   "version": "3.9.12"
  }
 },
 "nbformat": 4,
 "nbformat_minor": 1
}
