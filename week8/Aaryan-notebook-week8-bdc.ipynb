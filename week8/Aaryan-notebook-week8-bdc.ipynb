{
 "cells": [
  {
   "cell_type": "markdown",
   "metadata": {
    "id": "onrJdkjPbzd1"
   },
   "source": [
    "# A few simple corpus-driven approaches to narrative analysis and generation\n",
    "\n",
    "By [Allison Parrish](http://www.decontextualize.com/)\n",
    "\n",
    "This notebook is a fast introduction to a few techniques for working with narrative corpora. By \"narrative corpora,\" I mean pre-existing bodies of text that mostly contain the texts of narratives. In particular, we're going to use Mark Riedl's [WikiPlots corpus](https://github.com/markriedl/WikiPlots), which has the titles and plot summaries of more than one hundred thousand movies, books, television shows and other media from Wikipedia.\n",
    "\n",
    "The notebook takes you through using [spaCy](http://spacy.io) to extract words, noun chunks, parts of speech and entities from the text and then sew them back together with [Tracery](http://tracery.io). It then shows how to use [Markovify](https://github.com/jsvine/markovify) to create new narratives from existing narrative text, and how to prepare the narratives for use as a training corpus for a large pre-trained language model like GPT-2.\n",
    "\n",
    "The code is written in Python, but you don't really need to know Python in order to use the notebook. Everything's pre-written for you, so you can just execute the cells, making small changes to the code as needed. Even if the notebook itself doesn't end up being useful to you, hopefully it spurs a few ideas that you can take with you into your practice as a storyteller and/or programmer.\n",
    "\n",
    "If you're running this code on Binder, you should be good to go. Just keep on executing the cells below. If you're running this notebook on Google Colab, you'll need to run the following cells to install the necessary libraries and download the data:"
   ]
  },
  {
   "cell_type": "code",
   "execution_count": null,
   "metadata": {
    "id": "B25UZm3gbzd3"
   },
   "outputs": [],
   "source": [
    "!pip install markovify\n",
    "!pip install tracery\n",
    "!pip install spacy==2.3.2\n",
    "!python -m spacy download en_core_web_sm\n",
    "!curl -L -O https://github.com/aparrish/corpus-driven-narrative-generation/raw/master/romcom_plot_sentences.tsv"
   ]
  },
  {
   "cell_type": "markdown",
   "metadata": {
    "id": "uq2Plhsibzd4"
   },
   "source": [
    "## Loading the corpus\n",
    "\n",
    "The first step is to get the narrative corpus into the program. Because WikiPlots is so big, we're actually going to be working with a smaller subset: only the plot summaries for romantic comedy movies. The subcorpus was made using [this notebook on creating a subcorpus of WikiPlots](https://github.com/aparrish/corpus-driven-narrative-generation/blob/master/creating-a-wikiplots-subcorpus.ipynb), which you can consult if you want to make your own with a different subset of WikiPlots.\n",
    "\n",
    "The corpus we're working with takes the form of a TSV file (\"tab separated values\"), with each line containing the title of the movie, a number indicating where in the plot summary the sentence for this line occurs, the total number of sentences in the summary, and the actual text of the sentence. The following cell loads the data into a list of dictionaries:"
   ]
  },
  {
   "cell_type": "code",
   "execution_count": 1,
   "metadata": {
    "id": "z--7hwZtbzd5",
    "scrolled": true
   },
   "outputs": [],
   "source": [
    "sentences = []\n",
    "for line in open(\"romcom_plot_sentences.tsv\"):\n",
    "    line = line.strip()\n",
    "    items = line.split(\"\\t\")\n",
    "    sentences.append(\n",
    "        {'title': items[0],\n",
    "         'index': int(items[1]),\n",
    "         'total': int(items[2]),\n",
    "         'text': items[3]})"
   ]
  },
  {
   "cell_type": "markdown",
   "metadata": {
    "id": "pHa69C9Dbzd6"
   },
   "source": [
    "Just to make sure it worked, we'll print out a random sentence:"
   ]
  },
  {
   "cell_type": "code",
   "execution_count": 2,
   "metadata": {
    "id": "Z7MNFmt3bzd7",
    "outputId": "28207bce-ef4e-44c6-d151-eafa832010ac"
   },
   "outputs": [
    {
     "data": {
      "text/plain": [
       "{'title': 'Last Vegas',\n",
       " 'index': 0,\n",
       " 'total': 53,\n",
       " 'text': 'Billy, Paddy, Archie and Sam are childhood friends from Flatbush, Brooklyn, New York, who are now living in their senior years.'}"
      ]
     },
     "execution_count": 2,
     "metadata": {},
     "output_type": "execute_result"
    }
   ],
   "source": [
    "import random\n",
    "random.choice(sentences)"
   ]
  },
  {
   "cell_type": "markdown",
   "metadata": {
    "id": "hF3n-nsdbzd7"
   },
   "source": [
    "Note: You can make your own corpus that works with the code in this notebook by exporting your data in TSV format with one line per sentence, with columns for the following:\n",
    "\n",
    "* `title`: the title of the work that the sentence comes from\n",
    "* `index`: the index of the sentence in the work\n",
    "* `total`: the total number of sentences in the work\n",
    "* `text`: the text of the sentence"
   ]
  },
  {
   "cell_type": "markdown",
   "metadata": {
    "id": "2PF1UvDLbzd8"
   },
   "source": [
    "## Natural language processing"
   ]
  },
  {
   "cell_type": "markdown",
   "metadata": {
    "id": "oKwUlurLbzd9"
   },
   "source": [
    "To get an idea of what's happening in the text of the plots, we can do a bit of Natural Language Processing. I cover just the bare essentials in this notebook. [Here's a more in-depth tutorial that I wrote](https://github.com/aparrish/rwet/blob/master/nlp-concepts-with-spacy.ipynb).\n",
    "\n",
    "Most natural language processing is done with the aid of third-party libraries. We're going to use one called spaCy. To use spaCy, you first need to install it (i.e., download the code and put it in a place where Python can find it) and download the language model. (The language model contains statistical information about a particular language that makes it possible for spaCy to do things like parse sentences into their constituent parts.)\n",
    "\n",
    "Run the following cell to load spaCy's model:"
   ]
  },
  {
   "cell_type": "code",
   "execution_count": 16,
   "metadata": {
    "id": "OgTEULYmbzd-"
   },
   "outputs": [],
   "source": [
    "import spacy\n",
    "nlp = spacy.load('en_core_web_md')"
   ]
  },
  {
   "cell_type": "markdown",
   "metadata": {
    "id": "tMm_uQJibzd-"
   },
   "source": [
    "(This could also take a while–the model is potentially very large and your computer needs to load it from your hard drive and into memory. When you see a `[*]` next to a cell, that means that your computer is still working on executing the code in the cell.)"
   ]
  },
  {
   "cell_type": "markdown",
   "metadata": {
    "id": "0qrZdI4obzd-"
   },
   "source": [
    "Right off the bat, the spaCy library gives us access to a number of interesting units of text:\n",
    "\n",
    "* All of the sentences (`doc.sents`)\n",
    "* All of the words (`doc`)\n",
    "* All of the \"named entities,\" like names of places, people, #brands, etc. (`doc.ents`)\n",
    "* All of the \"noun chunks,\" i.e., nouns in the text plus surrounding matter like adjectives and articles\n",
    "\n",
    "The cell below, we extract these into variables so we can play around with them a little bit. (Parsing sentences is hungry work and the following cell will take a while to execute.)"
   ]
  },
  {
   "cell_type": "code",
   "execution_count": 4,
   "metadata": {
    "id": "-qPkrk9Ubzd-",
    "outputId": "6b87d6a6-2698-4a33-8a07-5171d9fa744e"
   },
   "outputs": [
    {
     "name": "stdout",
     "output_type": "stream",
     "text": [
      "0 28785\n",
      "100 28785\n",
      "200 28785\n",
      "300 28785\n",
      "400 28785\n",
      "500 28785\n",
      "600 28785\n",
      "700 28785\n",
      "800 28785\n",
      "900 28785\n"
     ]
    }
   ],
   "source": [
    "words = []\n",
    "noun_chunks = []\n",
    "entities = []\n",
    "#save out the plot sentences for visualization\n",
    "plot = []\n",
    "\n",
    "# only use 1000 sentences sampled at random by default; comment out this `for...`\n",
    "# uncomment the `for...` beneath to use every sentence in the corpus.\n",
    "for i, sent in enumerate(random.sample(sentences, 1000)):\n",
    "#for i, sent in enumerate(sentences):\n",
    "    if i % 100 == 0:\n",
    "        print(i, len(sentences))\n",
    "    doc = nlp(sent['text'])\n",
    "    plot.append(doc)\n",
    "    words.extend([w for w in list(doc) if w.is_alpha])\n",
    "    noun_chunks.extend(list(doc.noun_chunks))\n",
    "    entities.extend(list(doc.ents))"
   ]
  },
  {
   "cell_type": "code",
   "execution_count": 5,
   "metadata": {},
   "outputs": [
    {
     "name": "stderr",
     "output_type": "stream",
     "text": [
      "Matplotlib created a temporary config/cache directory at /var/folders/zf/49prmn_s7s5861rytkmr3_080000gn/T/matplotlib-si0qq_oe because the default path (/Users/ribells/.matplotlib) is not a writable directory; it is highly recommended to set the MPLCONFIGDIR environment variable to a writable directory, in particular to speed up the import of Matplotlib and to better support multiprocessing.\n"
     ]
    },
    {
     "data": {
      "image/png": "[encoded data removed]",
      "text/plain": [
       "<Figure size 800x1280 with 1 Axes>"
      ]
     },
     "metadata": {
      "needs_background": "light"
     },
     "output_type": "display_data"
    }
   ],
   "source": [
    "import matplotlib.pyplot as plt\n",
    "from matplotlib.patches import Rectangle\n",
    "\n",
    "max_x = 0\n",
    "num_sentences = 200\n",
    "\n",
    "#define Matplotlib figure and axis\n",
    "fig, ax = plt.subplots(figsize=(10, 16), dpi=80)\n",
    "\n",
    "for p in range(0, num_sentences):\n",
    "    parsed = []\n",
    "    parsed.extend([w for w in list(plot[p]) if w.is_alpha])\n",
    "    w_beg = 0\n",
    "    w_end = 0\n",
    "    \n",
    "    for i in range(0, len(parsed)):\n",
    "        #print(parsed[i].pos_)\n",
    "\n",
    "        w_end = w_end + len(parsed[i])\n",
    "        \n",
    "        #update y axis max value\n",
    "        if(w_end > max_x):\n",
    "            max_x = w_end\n",
    "\n",
    "        #assign each sentence word a color by type of word\n",
    "        color = 'black'\n",
    "        if(parsed[i].pos_ == \"PRON\"):\n",
    "            color = 'pink'\n",
    "        elif(parsed[i].pos_ == \"VERB\"):\n",
    "            color = 'red'\n",
    "        elif(parsed[i].pos_ == \"CCONJ\"):\n",
    "            color = 'yellow'\n",
    "        elif(parsed[i].pos_ == \"PROPN\"):\n",
    "            color = 'green'\n",
    "        elif(parsed[i].pos_ == \"CCONJ\"):\n",
    "            color = 'blue'\n",
    "        elif(parsed[i].pos_ == \"AUX\"):\n",
    "            color = 'magenta'\n",
    "        elif(parsed[i].pos_ == \"ADV\"):\n",
    "            color = 'cyan'\n",
    "        elif(parsed[i].pos_ == \"DET\"):\n",
    "            color = 'brown'\n",
    "        elif(parsed[i].pos_ == \"NOUN\"):\n",
    "            color = 'purple'\n",
    "        elif(parsed[i].pos_ == \"ADP\"):\n",
    "            color = 'orange'\n",
    "        #add rectangle to plot\n",
    "        ax.add_patch(Rectangle((w_beg, (p*.1)), w_end, (p*.1)+.1, edgecolor = color,\n",
    "                 facecolor = color,\n",
    "                 fill=True,\n",
    "                 lw=5))\n",
    "        w_beg = w_end\n",
    "\n",
    "    ax.add_patch(Rectangle((w_beg, (p*.1)-.04), 500, (p*.1)+.1, edgecolor = 'white',\n",
    "             facecolor = 'white',\n",
    "             fill=True,\n",
    "             lw=5))\n",
    "\n",
    "ax.add_patch(Rectangle((0, (p*.1)+.1), 500, 20, edgecolor = 'white',\n",
    "         facecolor = 'white',\n",
    "         fill=True,\n",
    "         lw=5))\n",
    "\n",
    "plt.xlim([0, max_x])\n",
    "plt.ylim([0, num_sentences*.1])\n",
    "\n",
    "#display plot\n",
    "plt.show()\n",
    "\n",
    "fig.savefig('vis.png', bbox_inches='tight', dpi=300)"
   ]
  },
  {
   "cell_type": "code",
   "execution_count": 7,
   "metadata": {},
   "outputs": [
    {
     "name": "stdout",
     "output_type": "stream",
     "text": [
      "PROPN VERB 24\n",
      "PRON VERB 21\n",
      "PROPN NOUN 12\n",
      "ADV PROPN 9\n",
      "ADP DET 9\n",
      "VERB ADP 8\n",
      "PROPN PROPN 8\n",
      "DET NOUN 8\n",
      "SCONJ PROPN 6\n",
      "SCONJ DET 6\n",
      "NOUN VERB 6\n",
      "SCONJ PRON 5\n",
      "PROPN CCONJ 5\n",
      "PRON AUX 5\n",
      "PRON ADV 5\n",
      "PROPN AUX 4\n",
      "PROPN ADV 4\n",
      "PRON NOUN 4\n",
      "DET PROPN 4\n",
      "DET ADJ 4\n",
      "PRON ADJ 3\n",
      "ADV PRON 3\n",
      "ADP NOUN 3\n",
      "PROPN ADJ 2\n",
      "ADJ SCONJ 2\n",
      "ADJ PROPN 2\n",
      "ADJ NOUN 2\n",
      "VERB PRON 1\n",
      "VERB PART 1\n",
      "VERB DET 1\n",
      "SCONJ VERB 1\n",
      "PROPN PRON 1\n",
      "PROPN DET 1\n",
      "PRON PRON 1\n",
      "PART VERB 1\n",
      "NOUN SCONJ 1\n",
      "INTJ ADV 1\n",
      "CCONJ PROPN 1\n",
      "CCONJ NOUN 1\n",
      "CCONJ DET 1\n",
      "CCONJ ADP 1\n",
      "AUX VERB 1\n",
      "ADV VERB 1\n",
      "ADV NOUN 1\n",
      "ADV DET 1\n",
      "ADV ADP 1\n",
      "ADP VERB 1\n",
      "ADP ADJ 1\n",
      "ADJ PART 1\n",
      "ADJ CCONJ 1\n"
     ]
    }
   ],
   "source": [
    "first = []\n",
    "second = []\n",
    "count = []\n",
    "\n",
    "for p in range(0, num_sentences):\n",
    "    parsed = []\n",
    "    parsed.extend([w for w in list(plot[p]) if w.is_alpha])\n",
    "    \n",
    "    if(len(parsed)>1):\n",
    "    \n",
    "        found = False\n",
    "        for n in range(len(count)):\n",
    "            if (first[n]==parsed[0].pos_ and second[n]==parsed[1].pos_):\n",
    "                count[n] = count[n] + 1\n",
    "                found = True\n",
    "\n",
    "        if (found==False):\n",
    "            first.append(parsed[0].pos_)\n",
    "            second.append(parsed[1].pos_)\n",
    "            count.append(1)\n",
    "\n",
    "#sort based on counts\n",
    "count, first, second = zip(*sorted(zip(count, first, second)))\n",
    "\n",
    "for c in range(1, len(count)):\n",
    "    print(first[len(count)-c], second[len(count)-c], count[len(count)-c])\n",
    "            "
   ]
  },
  {
   "cell_type": "code",
   "execution_count": 17,
   "metadata": {},
   "outputs": [
    {
     "name": "stdout",
     "output_type": "stream",
     "text": [
      "227\n"
     ]
    }
   ],
   "source": [
    "global sentences\n",
    "sentences = []\n",
    "\n",
    "import csv\n",
    "\n",
    "firstpath = \"aaryan2.txt\"\n",
    "\n",
    "for line in open(firstpath,encoding='utf-8'):\n",
    "    line = line.strip()\n",
    "    csv.reader(firstpath, delimiter = \".\")\n",
    "    items = line.split(\"#\")\n",
    "    sentences.append(\n",
    "        {'title': items[0], \n",
    "         'text': items[1],\n",
    "        })\n",
    "    \n",
    "#take the first story\n",
    "text = sentences[0]['text'].split(\".\")\n",
    "print(len(text))\n"
   ]
  },
  {
   "cell_type": "code",
   "execution_count": 18,
   "metadata": {},
   "outputs": [
    {
     "name": "stdout",
     "output_type": "stream",
     "text": [
      "DET NOUN 15\n",
      "PRON AUX 8\n",
      "PRON VERB 7\n",
      "ADP DET 5\n",
      "SCONJ DET 3\n",
      "DET ADJ 3\n",
      "ADP NOUN 3\n",
      "--------\n",
      "PRON AUX 18\n",
      "PRON VERB 13\n",
      "DET NOUN 6\n",
      "ADP DET 6\n",
      "SCONJ PRON 4\n",
      "ADV PRON 3\n",
      "ADV ADP 3\n",
      "--------\n",
      "PRON VERB 16\n",
      "DET NOUN 12\n",
      "PRON AUX 10\n",
      "SCONJ PRON 6\n",
      "PRON ADV 6\n",
      "PRON NOUN 3\n",
      "PRON PRON 2\n"
     ]
    }
   ],
   "source": [
    "import math\n",
    "\n",
    "#fill lists of first and second word combinations and keep counts\n",
    "def evaluate_text(start, end):\n",
    "    first = []\n",
    "    second = []\n",
    "    count = []\n",
    "    for p in range(start, end):\n",
    "        parsed = []\n",
    "        doc = nlp(text[p])\n",
    "        parsed.extend([w for w in list(doc) if w.is_alpha])\n",
    "\n",
    "        found = False\n",
    "        if(len(parsed) > 1): \n",
    "            for n in range(len(count)):\n",
    "                if (first[n]==parsed[0].pos_ and second[n]==parsed[1].pos_):\n",
    "                    count[n] = count[n] + 1\n",
    "                    found = True\n",
    "\n",
    "            if (found==False):\n",
    "                first.append(parsed[0].pos_)\n",
    "                second.append(parsed[1].pos_)\n",
    "                count.append(1)\n",
    "\n",
    "    #sort based on counts\n",
    "    count, first, second = zip(*sorted(zip(count, first, second)))\n",
    "\n",
    "    for c in range(1,8):\n",
    "        print(first[len(count)-c], second[len(count)-c], count[len(count)-c])\n",
    "\n",
    "#evaluate the first third of the story:\n",
    "evaluate_text(0, math.floor(len(text)/3))\n",
    "\n",
    "print('--------')\n",
    "\n",
    "#evaluate the second third of the story:\n",
    "evaluate_text(math.floor(len(text)/3), math.floor(2*len(text)/3))\n",
    "\n",
    "print('--------')\n",
    "\n",
    "#evaluate the second third of the story:\n",
    "evaluate_text(math.floor(2*len(text)/3), len(text))\n",
    "            "
   ]
  },
  {
   "cell_type": "code",
   "execution_count": null,
   "metadata": {},
   "outputs": [],
   "source": [
    "# Provide ability to interact with the plot sentences visualization\n",
    "# and capture the keyboard and mouse use of the user\n",
    "\n",
    "from tkinter import *\n",
    "from tkinter.filedialog import *\n",
    "from PIL import Image, ImageTk\n",
    "import numpy as np\n",
    "\n",
    "# --- functions ---\n",
    "\n",
    "w = 6 # brush size\n",
    "a = 0 # index for active color\n",
    "paints_list=[]\n",
    "color_list = [\"white\", \"black\"]\n",
    "v_index = 300;\n",
    "canvas = \"\";\n",
    "last_x = 0;\n",
    "last_y = 0;\n",
    "\n",
    "def change_color():\n",
    "    global a\n",
    "    a = (a + 1) % 2  \n",
    "    \n",
    "def savefile():\n",
    "    # save the canvas out\n",
    "    img.save(\"vis_canvas.png\", lossless=True)\n",
    "        \n",
    "def on_click(event):\n",
    "    global lastx, lasty\n",
    "    lastx,  lasty =  event.x, event.y\n",
    "    \n",
    "    with open(\"UserRecord.txt\", \"a\") as f:\n",
    "        f.write('Cursor clicked at {0}'.format((lastx, lasty)) + \"\\n\")\n",
    "\n",
    "def on_release(event):\n",
    "    global lastx, lasty\n",
    "    lastx,  lasty =  event.x, event.y\n",
    "    \n",
    "    with open(\"UserRecord.txt\", \"a\") as f:\n",
    "        f.write('Cursor released at {0}'.format((lastx, lasty)) + \"\\n\")\n",
    "    \n",
    "def draw(event):\n",
    "    \"\"\"\n",
    "    drawing\n",
    "    updating the coordinates of the cursor\n",
    "    adding all the marks created to a list\n",
    "    \"\"\"\n",
    "    global lastx, lasty, c1\n",
    "    c1 = canvas.create_line((lastx, lasty, event.x, event.y), fill=color_list[a], width = w)\n",
    "    paints_list.append(c1)\n",
    "    lastx, lasty = event.x, event.y\n",
    "    with open(\"UserRecord.txt\", \"a\") as f:\n",
    "        f.write('Cursor moved to {0}, brush_size = {1}, color = {2}'.format((lastx, lasty), w, color_list[a]) + \"\\n\")\n",
    "    \n",
    "def scroll_image(event):\n",
    "    \"\"\"changes which plot line is being shown first\"\"\"\n",
    "    global v_index\n",
    "    global canvas\n",
    "\n",
    "    if event.delta > 0:\n",
    "    # if mouse scrolls up\n",
    "        v_index = v_index + event.delta\n",
    "    else:\n",
    "    # if mouse scrolls down\n",
    "        v_index = v_index + event.delta\n",
    "        \n",
    "    canvas.create_image(-120, -1*v_index, anchor='nw', image=image)\n",
    "\n",
    "# --- main ---\n",
    "\n",
    "# clear the user actions log\n",
    "with open(\"UserRecord.txt\", 'w+') as f:\n",
    "    f.truncate(0)\n",
    "\n",
    "app = Tk()\n",
    "app.geometry(\"1200x640\")\n",
    "app.title(\"plot investigator\")\n",
    "\n",
    "canvas = Canvas(app, width=900, height=800, bg='white')\n",
    "canvas.pack(anchor='nw', fill='both', expand=True)\n",
    "canvas.grid(row=0, column=0)\n",
    "\n",
    "canvas.bind(sequence=\"<Button-1>\", func=on_click, add=\"+\")\n",
    "canvas.bind(sequence=\"<ButtonRelease>\", func=on_release, add=\"+\")\n",
    "canvas.bind(sequence=\"<B1-Motion>\", func=draw)\n",
    "canvas.bind(sequence='<MouseWheel>',func=scroll_image)\n",
    "\n",
    "image = Image.open('vis.png')\n",
    "image = ImageTk.PhotoImage(image)\n",
    "\n",
    "canvas.create_image(-120, -1*v_index, anchor='nw', image=image)\n",
    "\n",
    "app.mainloop()\n",
    "\n",
    "# save the image\n",
    "#savefile()"
   ]
  },
  {
   "cell_type": "code",
   "execution_count": 20,
   "metadata": {
    "id": "ftvfNE2Abzd_",
    "outputId": "d935f3d6-82f0-4fd0-f1fd-23065d23cb3d"
   },
   "outputs": [
    {
     "data": {
      "text/plain": [
       "{'title': 'FOUR BEASTS IN ONE—THE HOMO-CAMELEOPARD',\n",
       " 'text': 'Chacun a ses vertus. —Crebillon’s Xerxes.  ANTIOCHUS EPIPHANES is very generally looked upon as the Gog of the prophet Ezekiel. This honor is, however, more properly attributable to Cambyses, the son of Cyrus. And, indeed, the character of the Syrian monarch does by no means stand in need of any adventitious embellishment. His accession to the throne, or rather his usurpation of the sovereignty, a hundred and seventy-one years before the coming of Christ; his attempt to plunder the temple of Diana at Ephesus; his implacable hostility to the Jews; his pollution of the Holy of Holies; and his miserable death at Taba, after a tumultuous reign of eleven years, are circumstances of a prominent kind, and therefore more generally noticed by the historians of his time than the impious, dastardly, cruel, silly, and whimsical achievements which make up the sum total of his private life and reputation.   Let us suppose, gentle reader, that it is now the year of the world three thousand eight hundred and thirty, and let us, for a few minutes, imagine ourselves at that most grotesque habitation of man, the remarkable city of Antioch. To be sure there were, in Syria and other countries, sixteen cities of that appellation, besides the one to which I more particularly allude. But ours is that which went by the name of Antiochia Epidaphne, from its vicinity to the little village of Daphne, where stood a temple to that divinity. It was built (although about this matter there is some dispute) by Seleucus Nicanor, the first king of the country after Alexander the Great, in memory of his father Antiochus, and became immediately the residence of the Syrian monarchy. In the flourishing times of the Roman Empire, it was the ordinary station of the prefect of the eastern provinces; and many of the emperors of the queen city (among whom may be mentioned, especially, Verus and Valens) spent here the greater part of their time. But I perceive we have arrived at the city itself. Let us ascend this battlement, and throw our eyes upon the town and neighboring country.   “What broad and rapid river is that which forces its way, with innumerable falls, through the mountainous wilderness, and finally through the wilderness of buildings?”   That is the Orontes, and it is the only water in sight, with the exception of the Mediterranean, which stretches, like a broad mirror, about twelve miles off to the southward. Every one has seen the Mediterranean; but let me tell you, there are few who have had a peep at Antioch. By few, I mean, few who, like you and me, have had, at the same time, the advantages of a modern education. Therefore cease to regard that sea, and give your whole attention to the mass of houses that lie beneath us. You will remember that it is now the year of the world three thousand eight hundred and thirty. Were it later—for example, were it the year of our Lord eighteen hundred and forty-five, we should be deprived of this extraordinary spectacle. In the nineteenth century Antioch is—that is to say, Antioch will be—in a lamentable state of decay. It will have been, by that time, totally destroyed, at three different periods, by three successive earthquakes. Indeed, to say the truth, what little of its former self may then remain, will be found in so desolate and ruinous a state that the patriarch shall have removed his residence to Damascus. This is well. I see you profit by my advice, and are making the most of your time in inspecting the premises—in   -satisfying your eyes   With the memorials and the things of fame   That most renown this city.—   I beg pardon; I had forgotten that Shakespeare will not flourish for seventeen hundred and fifty years to come. But does not the appearance of Epidaphne justify me in calling it grotesque?   “It is well fortified; and in this respect is as much indebted to nature as to art.”   Very true.   “There are a prodigious number of stately palaces.”   There are.   “And the numerous temples, sumptuous and magnificent, may bear comparison with the most lauded of antiquity.”   All this I must acknowledge. Still there is an infinity of mud huts, and abominable hovels. We cannot help perceiving abundance of filth in every kennel, and, were it not for the over-powering fumes of idolatrous incense, I have no doubt we should find a most intolerable stench. Did you ever behold streets so insufferably narrow, or houses so miraculously tall? What gloom their shadows cast upon the ground! It is well the swinging lamps in those endless colonnades are kept burning throughout the day; we should otherwise have the darkness of Egypt in the time of her desolation.   “It is certainly a strange place! What is the meaning of yonder singular building? See! it towers above all others, and lies to the eastward of what I take to be the royal palace.”   That is the new Temple of the Sun, who is adored in Syria under the title of Elah Gabalah. Hereafter a very notorious Roman Emperor will institute this worship in Rome, and thence derive a cognomen, Heliogabalus. I dare say you would like to take a peep at the divinity of the temple. You need not look up at the heavens; his Sunship is not there—at least not the Sunship adored by the Syrians. That deity will be found in the interior of yonder building. He is worshipped under the figure of a large stone pillar terminating at the summit in a cone or pyramid, whereby is denoted Fire.   “Hark—behold!—who can those ridiculous beings be, half naked, with their faces painted, shouting and gesticulating to the rabble?”   Some few are mountebanks. Others more particularly belong to the race of philosophers. The greatest portion, however—those especially who belabor the populace with clubs—are the principal courtiers of the palace, executing as in duty bound, some laudable comicality of the king’s.   “But what have we here? Heavens! the town is swarming with wild beasts! How terrible a spectacle!—how dangerous a peculiarity!”   Terrible, if you please; but not in the least degree dangerous. Each animal if you will take the pains to observe, is following, very quietly, in the wake of its master. Some few, to be sure, are led with a rope about the neck, but these are chiefly the lesser or timid species. The lion, the tiger, and the leopard are entirely without restraint. They have been trained without difficulty to their present profession, and attend upon their respective owners in the capacity of valets-de-chambre. It is true, there are occasions when Nature asserts her violated dominions;—but then the devouring of a man-at-arms, or the throttling of a consecrated bull, is a circumstance of too little moment to be more than hinted at in Epidaphne.   “But what extraordinary tumult do I hear? Surely this is a loud noise even for Antioch! It argues some commotion of unusual interest.”   Yes—undoubtedly. The king has ordered some novel spectacle—some gladiatorial exhibition at the hippodrome—or perhaps the massacre of the Scythian prisoners—or the conflagration of his new palace—or the tearing down of a handsome temple—or, indeed, a bonfire of a few Jews. The uproar increases. Shouts of laughter ascend the skies. The air becomes dissonant with wind instruments, and horrible with clamor of a million throats. Let us descend, for the love of fun, and see what is going on! This way—be careful! Here we are in the principal street, which is called the street of Timarchus. The sea of people is coming this way, and we shall find a difficulty in stemming the tide. They are pouring through the alley of Heraclides, which leads directly from the palace;—therefore the king is most probably among the rioters. Yes;—I hear the shouts of the herald proclaiming his approach in the pompous phraseology of the East. We shall have a glimpse of his person as he passes by the temple of Ashimah. Let us ensconce ourselves in the vestibule of the sanctuary; he will be here anon. In the meantime let us survey this image. What is it? Oh! it is the god Ashimah in proper person. You perceive, however, that he is neither a lamb, nor a goat, nor a satyr, neither has he much resemblance to the Pan of the Arcadians. Yet all these appearances have been given—I beg pardon—will be given—by the learned of future ages, to the Ashimah of the Syrians. Put on your spectacles, and tell me what it is. What is it?   “Bless me! it is an ape!”   True—a baboon; but by no means the less a deity. His name is a derivation of the Greek Simia—what great fools are antiquarians! But see!—see!—yonder scampers a ragged little urchin. Where is he going? What is he bawling about? What does he say? Oh! he says the king is coming in triumph; that he is dressed in state; that he has just finished putting to death, with his own hand, a thousand chained Israelitish prisoners! For this exploit the ragamuffin is lauding him to the skies. Hark! here comes a troop of a similar description. They have made a Latin hymn upon the valor of the king, and are singing it as they go:   Mille, mille, mille,   Mille, mille, mille,   Decollavimus, unus homo!   Mille, mille, mille, mille, decollavimus!   Mille, mille, mille,   Vivat qui mille mille occidit!   Tantum vini habet nemo   Quantum sanguinis effudit!(*1)   Which may be thus paraphrased:   A thousand, a thousand, a thousand,   A thousand, a thousand, a thousand,   We, with one warrior, have slain!   A thousand, a thousand, a thousand, a thousand.   Sing a thousand over again!   Soho!—let us sing   Long life to our king,   Who knocked over a thousand so fine!   Soho!—let us roar,   He has given us more   Red gallons of gore   Than all Syria can furnish of wine!   “Do you hear that flourish of trumpets?”   Yes: the king is coming! See! the people are aghast with admiration, and lift up their eyes to the heavens in reverence. He comes;—he is coming;—there he is!   “Who?—where?—the king?—do not behold him—cannot say that I perceive him.”   Then you must be blind.   “Very possible. Still I see nothing but a tumultuous mob of idiots and madmen, who are busy in prostrating themselves before a gigantic cameleopard, and endeavoring to obtain a kiss of the animal’s hoofs. See! the beast has very justly kicked one of the rabble over—and another—and another—and another. Indeed, I cannot help admiring the animal for the excellent use he is making of his feet.”   Rabble, indeed!—why these are the noble and free citizens of Epidaphne! Beasts, did you say?—take care that you are not overheard. Do you not perceive that the animal has the visage of a man? Why, my dear sir, that cameleopard is no other than Antiochus Epiphanes, Antiochus the Illustrious, King of Syria, and the most potent of all the autocrats of the East! It is true, that he is entitled, at times, Antiochus Epimanes—Antiochus the madman—but that is because all people have not the capacity to appreciate his merits. It is also certain that he is at present ensconced in the hide of a beast, and is doing his best to play the part of a cameleopard; but this is done for the better sustaining his dignity as king. Besides, the monarch is of gigantic stature, and the dress is therefore neither unbecoming nor over large. We may, however, presume he would not have adopted it but for some occasion of especial state. Such, you will allow, is the massacre of a thousand Jews. With how superior a dignity the monarch perambulates on all fours! His tail, you perceive, is held aloft by his two principal concubines, Elline and Argelais; and his whole appearance would be infinitely prepossessing, were it not for the protuberance of his eyes, which will certainly start out of his head, and the queer color of his face, which has become nondescript from the quantity of wine he has swallowed. Let us follow him to the hippodrome, whither he is proceeding, and listen to the song of triumph which he is commencing:   Who is king but Epiphanes?   Say—do you know?   Who is king but Epiphanes?   Bravo!—bravo!   There is none but Epiphanes,   No—there is none:   So tear down the temples,   And put out the sun!   Well and strenuously sung! The populace are hailing him ‘Prince of Poets,’ as well as ‘Glory of the East,’ ‘Delight of the Universe,’ and ‘Most Remarkable of Cameleopards.’ They have encored his effusion, and do you hear?—he is singing it over again. When he arrives at the hippodrome, he will be crowned with the poetic wreath, in anticipation of his victory at the approaching Olympics.   “But, good Jupiter! what is the matter in the crowd behind us?”   Behind us, did you say?—oh! ah!—I perceive. My friend, it is well that you spoke in time. Let us get into a place of safety as soon as possible. Here!—let us conceal ourselves in the arch of this aqueduct, and I will inform you presently of the origin of the commotion. It has turned out as I have been anticipating. The singular appearance of the cameleopard and the head of a man, has, it seems, given offence to the notions of propriety entertained, in general, by the wild animals domesticated in the city. A mutiny has been the result; and, as is usual upon such occasions, all human efforts will be of no avail in quelling the mob. Several of the Syrians have already been devoured; but the general voice of the four-footed patriots seems to be for eating up the cameleopard. ‘The Prince of Poets,’ therefore, is upon his hinder legs, running for his life. His courtiers have left him in the lurch, and his concubines have followed so excellent an example. ‘Delight of the Universe,’ thou art in a sad predicament! ‘Glory of the East,’ thou art in danger of mastication! Therefore never regard so piteously thy tail; it will undoubtedly be draggled in the mud, and for this there is no help. Look not behind thee, then, at its unavoidable degradation; but take courage, ply thy legs with vigor, and scud for the hippodrome! Remember that thou art Antiochus Epiphanes. Antiochus the Illustrious!—also ‘Prince of Poets,’ ‘Glory of the East,’ ‘Delight of the Universe,’ and ‘Most Remarkable of Cameleopards!’ Heavens! what a power of speed thou art displaying! What a capacity for leg-bail thou art developing! Run, Prince!—Bravo, Epiphanes! Well done, Cameleopard!—Glorious Antiochus!—He runs!—he leaps!—he flies! Like an arrow from a catapult he approaches the hippodrome! He leaps!—he shrieks!—he is there! This is well; for hadst thou, ‘Glory of the East,’ been half a second longer in reaching the gates of the Amphitheatre, there is not a bear’s cub in Epidaphne that would not have had a nibble at thy carcase. Let us be off—let us take our departure!—for we shall find our delicate modern ears unable to endure the vast uproar which is about to commence in celebration of the king’s escape! Listen! it has already commenced. See!—the whole town is topsy-turvy.   “Surely this is the most populous city of the East! What a wilderness of people! what a jumble of all ranks and ages! what a multiplicity of sects and nations! what a variety of costumes! what a Babel of languages! what a screaming of beasts! what a tinkling of instruments! what a parcel of philosophers!”   Come let us be off.   “Stay a moment! I see a vast hubbub in the hippodrome; what is the meaning of it, I beseech you?”   That?—oh, nothing! The noble and free citizens of Epidaphne being, as they declare, well satisfied of the faith, valor, wisdom, and divinity of their king, and having, moreover, been eye-witnesses of his late superhuman agility, do think it no more than their duty to invest his brows (in addition to the poetic crown) with the wreath of victory in the footrace—a wreath which it is evident he must obtain at the celebration of the next Olympiad, and which, therefore, they now give him in advance.\"'}"
      ]
     },
     "execution_count": 20,
     "metadata": {},
     "output_type": "execute_result"
    }
   ],
   "source": [
    "# Just to make sure it worked, print out a random sentence\n",
    "\n",
    "import random as random\n",
    "random.choice(sentences)"
   ]
  },
  {
   "cell_type": "markdown",
   "metadata": {
    "id": "uAVp25zHbzd_"
   },
   "source": [
    "Ten random noun chunks:"
   ]
  },
  {
   "cell_type": "code",
   "execution_count": 22,
   "metadata": {},
   "outputs": [
    {
     "name": "stdout",
     "output_type": "stream",
     "text": [
      "0 227\n",
      "100 227\n",
      "200 227\n"
     ]
    }
   ],
   "source": [
    "words = []\n",
    "noun_chunks = []\n",
    "entities = []\n",
    "#save out the plot sentences for visualization\n",
    "plot = []\n",
    "\n",
    "# get the words from the sentence\n",
    "for i in range(0, len(text)):\n",
    "#for i, sent in enumerate(sentences):\n",
    "    if i % 100 == 0:\n",
    "        print(i, len(text))\n",
    "    doc = nlp(text[i])\n",
    "    plot.append(doc)\n",
    "    words.extend([w for w in list(doc) if w.is_alpha])\n",
    "    noun_chunks.extend(list(doc.noun_chunks))\n",
    "    entities.extend(list(doc.ents))"
   ]
  },
  {
   "cell_type": "code",
   "execution_count": 23,
   "metadata": {
    "id": "SkrsMuVdbzeA",
    "outputId": "f9190e87-3787-4467-a63d-9608a0df4943"
   },
   "outputs": [
    {
     "name": "stdout",
     "output_type": "stream",
     "text": [
      "no other cause\n",
      "the Heavens\n",
      "the more rapid their descent\n",
      "regard\n",
      "he\n",
      "we\n",
      "that\n",
      "The Moskoe-Ström whirlpool\n",
      "nothing\n",
      "its attraction\n"
     ]
    }
   ],
   "source": [
    "for item in random.sample(noun_chunks, 10):\n",
    "    print(item.text)"
   ]
  },
  {
   "cell_type": "markdown",
   "metadata": {
    "id": "UvweRgb9bzeA"
   },
   "source": [
    "Ten random entities:"
   ]
  },
  {
   "cell_type": "code",
   "execution_count": 24,
   "metadata": {
    "id": "0Hy7qRSKbzeB",
    "outputId": "0c65b81d-61f9-4514-a940-a2764b985165"
   },
   "outputs": [
    {
     "name": "stdout",
     "output_type": "stream",
     "text": [
      "Helseggen\n",
      "seven\n",
      "Moskoe\n",
      "Vurrgh\n",
      "Norwegian\n",
      "two\n",
      "five minutes\n",
      "Joseph Glanville\n",
      "first\n",
      "Moskoe\n"
     ]
    }
   ],
   "source": [
    "for item in random.sample(entities, 10):\n",
    "    print(item.text)"
   ]
  },
  {
   "cell_type": "markdown",
   "metadata": {
    "id": "LF7ZdHZibzeB"
   },
   "source": [
    "### Grammatical roles\n",
    "\n",
    "The parser included with spaCy can also give us information about the grammatical roles in the sentence. For example, the `.root.dep_` attribute of a noun chunk tells us whether that noun chunk is the subject of the sentence (\"nsubj\") or a direct object (\"dobj\") of the sentence. (See the \"Universal Dependency Labels\" of spaCy's [annotation specs](https://spacy.io/api/annotation) for more possible roles.) Using this information, we can make a list of sentence subjects and sentence objects:"
   ]
  },
  {
   "cell_type": "code",
   "execution_count": 25,
   "metadata": {
    "id": "sIRSWjMMbzeC"
   },
   "outputs": [],
   "source": [
    "subjects = [chunk for chunk in noun_chunks if chunk.root.dep_ == 'nsubj']\n",
    "objects = [chunk for chunk in noun_chunks if chunk.root.dep_ == 'dobj']"
   ]
  },
  {
   "cell_type": "code",
   "execution_count": 26,
   "metadata": {
    "id": "qH9eTRx8bzeC",
    "outputId": "c66e183c-345b-4575-ff87-4d136faf6ca2"
   },
   "outputs": [
    {
     "data": {
      "text/plain": [
       "[we, I, We, which, It, the old man, it, it, he, they]"
      ]
     },
     "execution_count": 26,
     "metadata": {},
     "output_type": "execute_result"
    }
   ],
   "source": [
    "random.sample(subjects, 10)"
   ]
  },
  {
   "cell_type": "code",
   "execution_count": 27,
   "metadata": {
    "id": "-yKYrNWobzeC",
    "outputId": "e0d9d486-bcc8-49dd-a801-aeecc04bad21"
   },
   "outputs": [
    {
     "data": {
      "text/plain": [
       "[the bottom,\n",
       " myself,\n",
       " the most violent fit,\n",
       " its depths,\n",
       " The gyrations,\n",
       " the gyratory motion,\n",
       " instant destruction,\n",
       " no difference,\n",
       " which,\n",
       " which]"
      ]
     },
     "execution_count": 27,
     "metadata": {},
     "output_type": "execute_result"
    }
   ],
   "source": [
    "random.sample(objects, 10)"
   ]
  },
  {
   "cell_type": "markdown",
   "metadata": {
    "id": "Jz4oEErabzeD"
   },
   "source": [
    "### Parts of speech\n",
    "\n",
    "The spaCy parser allows us to check what part of speech a word belongs to. In the cell below, we create four different lists—`nouns`, `verbs`, `adjs` and `advs`—that contain only words of the specified parts of speech. Using the `.tag_` attribute, we can easily get only particular forms of verbs; in this case, I'm just getting verbs that are in the past tense. ([There's a full list of part of speech tags here](https://spacy.io/docs/usage/pos-tagging#pos-tagging-english).)"
   ]
  },
  {
   "cell_type": "code",
   "execution_count": 28,
   "metadata": {
    "id": "odOZv8RObzeD"
   },
   "outputs": [],
   "source": [
    "nouns = [w for w in words if w.pos_ == \"NOUN\"]\n",
    "verbs = [w for w in words if w.pos_ == \"VERB\"]\n",
    "past_tense_verbs = [w for w in words if w.tag_ == 'VBD']\n",
    "adjs = [w for w in words if w.tag_ == \"JJ\"]\n",
    "advs = [w for w in words if w.pos_ == \"ADV\"]"
   ]
  },
  {
   "cell_type": "markdown",
   "metadata": {
    "id": "_14TV_4YbzeD"
   },
   "source": [
    "And now we can print out a random sample of any of these:"
   ]
  },
  {
   "cell_type": "code",
   "execution_count": 29,
   "metadata": {
    "id": "t_Fuh8gSbzeD",
    "outputId": "2a867a4f-33ed-434c-db6e-d29216b6b76b"
   },
   "outputs": [
    {
     "name": "stdout",
     "output_type": "stream",
     "text": [
      "smack\n",
      "current\n",
      "return\n",
      "abyss\n",
      "water\n",
      "position\n",
      "gale\n",
      "abyss\n",
      "mysteries\n",
      "cluster\n",
      "chopping\n",
      "channel\n"
     ]
    }
   ],
   "source": [
    "for item in random.sample(nouns, 12): # change \"nouns\" to \"verbs\" or \"adjs\" or \"advs\" to sample from those lists!\n",
    "    print(item.text)"
   ]
  },
  {
   "cell_type": "markdown",
   "metadata": {
    "id": "ImXK3jc8bzeE"
   },
   "source": [
    "### Entity types\n",
    "\n",
    "The parser in spaCy not only identifies \"entities\" but also assigns them to a particular type. [See a full list of entity types here.](https://spacy.io/docs/usage/entity-recognition#entity-types) Using this information, the following cell builds lists of the people, locations, and times mentioned in the text:"
   ]
  },
  {
   "cell_type": "code",
   "execution_count": 30,
   "metadata": {
    "id": "M9gJGAlQbzeE"
   },
   "outputs": [],
   "source": [
    "people = [e for e in entities if e.label_ == \"PERSON\"]\n",
    "locations = [e for e in entities if e.label_ == \"LOC\"]\n",
    "times = [e for e in entities if e.label_ == \"TIME\"]"
   ]
  },
  {
   "cell_type": "markdown",
   "metadata": {
    "id": "hE-HX81QbzeE"
   },
   "source": [
    "And then you can print out a random sample:"
   ]
  },
  {
   "cell_type": "code",
   "execution_count": 31,
   "metadata": {
    "id": "9qdWIlyYbzeF",
    "outputId": "746bc76f-92a0-445f-b381-262b6351482c"
   },
   "outputs": [
    {
     "name": "stdout",
     "output_type": "stream",
     "text": [
      "a few minutes\n",
      "an hour\n",
      "all night\n",
      "some seconds\n",
      "early in the morning\n",
      "five minutes\n",
      "some minutes\n",
      "every six hours\n",
      "the hour\n",
      "about ten minutes\n",
      "less than a minute\n",
      "more than two minutes\n"
     ]
    }
   ],
   "source": [
    "for item in random.sample(times, 12): # change \"times\" to \"people\" or \"locations\" to sample those lists\n",
    "    print(item.text.strip())"
   ]
  },
  {
   "cell_type": "markdown",
   "metadata": {
    "id": "3VGwLAAgbzeF"
   },
   "source": [
    "### Finding the most common\n",
    "\n",
    "We won't go too deep into text analysis in this tutorial, but it's useful to be able to do the most fundamental task in text analysis: finding the things that are most common. The code to do this task looks like the following, which gives us a way to look up how often any word occurs in the text:"
   ]
  },
  {
   "cell_type": "code",
   "execution_count": 32,
   "metadata": {
    "id": "XU_qUW5ebzeF"
   },
   "outputs": [],
   "source": [
    "from collections import Counter\n",
    "word_count = Counter([w.text for w in words])"
   ]
  },
  {
   "cell_type": "markdown",
   "metadata": {
    "id": "IPIN0WV4bzeG"
   },
   "source": [
    "... and also tells us which words are most common:"
   ]
  },
  {
   "cell_type": "code",
   "execution_count": 35,
   "metadata": {
    "id": "OEPStA6CbzeG",
    "outputId": "0cefe319-d3f4-406a-9a95-50950b8e7661"
   },
   "outputs": [
    {
     "data": {
      "text/plain": [
       "[('the', 518),\n",
       " ('of', 266),\n",
       " ('and', 220),\n",
       " ('to', 178),\n",
       " ('a', 156),\n",
       " ('I', 150),\n",
       " ('in', 124),\n",
       " ('was', 98),\n",
       " ('that', 92),\n",
       " ('it', 80),\n",
       " ('as', 76),\n",
       " ('we', 68)]"
      ]
     },
     "execution_count": 35,
     "metadata": {},
     "output_type": "execute_result"
    }
   ],
   "source": [
    "word_count.most_common(12)"
   ]
  },
  {
   "cell_type": "markdown",
   "metadata": {
    "id": "7XaIZpZ4bzeG"
   },
   "source": [
    "You can make a counter for any of the other lists we've worked with using the same syntax. Just make up a unique variable name on the left of the `=` sign and put the name of the list you want to count in the brackets to the right (replacing `words`). E.g., to find the most common people:"
   ]
  },
  {
   "cell_type": "code",
   "execution_count": 36,
   "metadata": {
    "id": "g2PhznW6bzeG"
   },
   "outputs": [],
   "source": [
    "people_count = Counter([w.text for w in people])"
   ]
  },
  {
   "cell_type": "code",
   "execution_count": 37,
   "metadata": {
    "id": "ZOfpAn1XbzeH",
    "outputId": "539a59f7-b6b2-451d-f1f9-0e41c3591b15",
    "scrolled": true
   },
   "outputs": [
    {
     "name": "stdout",
     "output_type": "stream",
     "text": [
      "Helseggen\n"
     ]
    }
   ],
   "source": [
    "global mainC\n",
    "mainC = people_count.most_common(1)\n",
    "global properNoun\n",
    "for item, count in mainC:\n",
    "    print(item)\n",
    "properNoun = item"
   ]
  },
  {
   "cell_type": "markdown",
   "metadata": {
    "id": "VMfbC3v7bzeH"
   },
   "source": [
    "The most common past-tense verbs:"
   ]
  },
  {
   "cell_type": "code",
   "execution_count": 38,
   "metadata": {
    "id": "8_jlchwMbzeH"
   },
   "outputs": [],
   "source": [
    "vbd_count = Counter([w.text for w in past_tense_verbs])"
   ]
  },
  {
   "cell_type": "code",
   "execution_count": 39,
   "metadata": {
    "id": "IziDh6F1bzeH",
    "outputId": "50b4cab0-f17e-4882-edfe-ea5ba8b56331"
   },
   "outputs": [
    {
     "data": {
      "text/plain": [
       "[('was', 98),\n",
       " ('had', 62),\n",
       " ('were', 32),\n",
       " ('made', 15),\n",
       " ('did', 10),\n",
       " ('seemed', 8),\n",
       " ('knew', 8),\n",
       " ('saw', 7),\n",
       " ('felt', 7),\n",
       " ('took', 6),\n",
       " ('went', 6),\n",
       " ('said', 5)]"
      ]
     },
     "execution_count": 39,
     "metadata": {},
     "output_type": "execute_result"
    }
   ],
   "source": [
    "vbd_count.most_common(12)"
   ]
  },
  {
   "cell_type": "markdown",
   "metadata": {
    "id": "52K5LODebzeI"
   },
   "source": [
    "### Writing to a file\n",
    "\n",
    "The following cell defines a function for writing data from a `Counter` object to a file. The file is in \"tab-separated values\" format, which you can open using most spreadsheet programs. Execute it before you continue:"
   ]
  },
  {
   "cell_type": "code",
   "execution_count": 40,
   "metadata": {
    "id": "aRIEc4nabzeI"
   },
   "outputs": [],
   "source": [
    "def save_counter_tsv(filename, counter, limit=1000):\n",
    "    with open(filename, \"w\") as outfile:\n",
    "        outfile.write(\"key\\tvalue\\n\")\n",
    "        for item, count in counter.most_common():\n",
    "            outfile.write(item.strip() + \"\\t\" + str(count) + \"\\n\")    "
   ]
  },
  {
   "cell_type": "markdown",
   "metadata": {
    "id": "QhWiflu7bzeI"
   },
   "source": [
    "Now, run the following cell. You'll end up with a file in the same directory as this notebook called `100_common_words.tsv` that has two columns, one for the words and one for their associated counts:"
   ]
  },
  {
   "cell_type": "code",
   "execution_count": 41,
   "metadata": {
    "id": "btietQWIbzeI"
   },
   "outputs": [],
   "source": [
    "save_counter_tsv(\"100_common_words.tsv\", word_count, 100)"
   ]
  },
  {
   "cell_type": "markdown",
   "metadata": {
    "id": "v44wvNmLbzeJ"
   },
   "source": [
    "Try opening this file in Excel or Google Docs or Numbers!\n",
    "\n",
    "If you want to write the data from another `Counter` object to a file:\n",
    "\n",
    "* Change the filename to whatever you want (though you should probably keep the `.tsv` extension)\n",
    "* Replace `word_count` with the name of any of the `Counter` objects we've made in this sheet and use it in place of `word_count`\n",
    "* Change the number to the number of rows you want to include in your spreadsheet."
   ]
  },
  {
   "cell_type": "markdown",
   "metadata": {
    "id": "3Z4FBEQUbzeJ"
   },
   "source": [
    "### When do things happen in this text?\n",
    "\n",
    "Here's another example. Using the `times` entities, we can make a spreadsheet of how often particular \"times\" (durations, times of day, etc.) are mentioned in the text."
   ]
  },
  {
   "cell_type": "code",
   "execution_count": 42,
   "metadata": {
    "id": "1MexULpRbzeJ"
   },
   "outputs": [],
   "source": [
    "time_counter = Counter([e.text.lower().strip() for e in times])\n",
    "save_counter_tsv(\"time_count.tsv\", time_counter, 100)"
   ]
  },
  {
   "cell_type": "markdown",
   "metadata": {
    "id": "qF6zM-v_bzeK"
   },
   "source": [
    "Do the same thing, but with people:"
   ]
  },
  {
   "cell_type": "code",
   "execution_count": 43,
   "metadata": {
    "id": "3zmS3ADSbzeK"
   },
   "outputs": [],
   "source": [
    "people_counter = Counter([e.text.lower() for e in people])\n",
    "save_counter_tsv(\"people_count.tsv\", people_counter, 100)"
   ]
  },
  {
   "cell_type": "markdown",
   "metadata": {
    "id": "4fJ_vwUQbzeK"
   },
   "source": [
    "### Generating stories from a corpus and Tracery grammars\n",
    "\n",
    "Once you've isolated entities and parts of speech, you can recombine them in interesting ways. One is to use a Tracery grammar to write sentences that include the isolated parts. Because the parts have been labelled using spaCy, you can be reasonbly sure that they'll fit into particular slots in the sentence. (I used a similar technique for my [Cheap Space Nine](https://twitter.com/cheapspacenine) bot.)"
   ]
  },
  {
   "cell_type": "code",
   "execution_count": 44,
   "metadata": {
    "id": "86LHCp94bzeK"
   },
   "outputs": [],
   "source": [
    "import tracery\n",
    "from tracery.modifiers import base_english"
   ]
  },
  {
   "cell_type": "code",
   "execution_count": 45,
   "metadata": {
    "id": "vEN6VX-LbzeK"
   },
   "outputs": [],
   "source": [
    "rules = {\n",
    "    \"subject\": [w.text for w in subjects],\n",
    "    \"object\": [w.text for w in objects],\n",
    "    \"verb\": [w.text for w in past_tense_verbs if w.text not in ('was', 'were', 'went')], # exclude common irregular verbs\n",
    "    \"adj\": [w.text for w in adjs],\n",
    "    \"people\": [w.text for w in people],\n",
    "    \"loc\": [w.text for w in locations],\n",
    "    \"time\": [w.text for w in times],\n",
    "    \"origin\": \"#scene#\\n\\n[charA:#subject#][charB:#subject#][prop:#object#]#sentences#\",\n",
    "    \"scene\": \"SCENE: #loc#, #time.lowercase#\",\n",
    "    \"sentences\": [\n",
    "        \"#sentence#\\n#sentence#\",\n",
    "        \"#sentence#\\n#sentence#\\n#sentence#\",\n",
    "        \"#sentence#\\n#sentence#\\n#sentence#\\n#sentence#\"\n",
    "    ],\n",
    "    \"sentence\": [\n",
    "        \"#charA.capitalize# #verb# #prop#.\",\n",
    "        \"#charB.capitalize# #verb# #prop#.\",\n",
    "        \"#prop.capitalize# became #adj#.\",\n",
    "        \"#charA.capitalize# and #charB# greeted each other.\",\n",
    "        \"'Did you hear about #object.lowercase#?' said #charA#.\",\n",
    "        \"'#subject.capitalize# is #adj#,' said #charB#.\",\n",
    "        \"#charA.capitalize# and #charB# #verb# #object#.\",\n",
    "        \"#charA.capitalize# and #charB# looked at each other.\",\n",
    "        \"#sentence#\\n#sentence#\"\n",
    "    ]\n",
    "}"
   ]
  },
  {
   "cell_type": "code",
   "execution_count": 46,
   "metadata": {
    "id": "f2Ke1MYkbzeL"
   },
   "outputs": [],
   "source": [
    "grammar = tracery.Grammar(rules)\n",
    "grammar.add_modifiers(base_english)"
   ]
  },
  {
   "cell_type": "code",
   "execution_count": 47,
   "metadata": {
    "id": "s67UhKUMbzeL",
    "outputId": "8f55ab33-577d-44a5-ef5b-c905063bbd81"
   },
   "outputs": [
    {
     "name": "stdout",
     "output_type": "stream",
     "text": [
      "SCENE: the Gulf of Bothnia, every six hours\n",
      "\n",
      "The slightest reason became whole.\n",
      "'Did you hear about her whole hull?' said We.\n",
      "We and you threw amusement.\n",
      "The slightest reason became strong.\n",
      "We and you swept it.\n",
      "\n",
      "SCENE: Ferroe, less than a minute\n",
      "\n",
      "We made my watch.\n",
      "'This depth is visible,' said we.\n",
      "The rays and we greeted each other.\n",
      "The rays and we had the circuit.\n",
      "\n",
      "SCENE: Vurrgh, five minutes\n",
      "\n",
      "'Did you hear about the sensations?' said this “little cliff.\n",
      "This “little cliff and I greeted each other.\n",
      "\n"
     ]
    }
   ],
   "source": [
    "for i in range(3):\n",
    "    print(grammar.flatten(\"#origin#\"))\n",
    "    print()"
   ]
  },
  {
   "cell_type": "markdown",
   "metadata": {
    "id": "4M8g2y2ubzeL"
   },
   "source": [
    "## Markov chain text generation\n",
    "\n",
    "Another way to produce new narratives from existing narrative text is to find statistical patterns in the text itself and then make the computer create new text that follows those statistical patterns. Markov chain text generation has been a pastime of poets and programmers going back [all the way to 1983](https://www.jstor.org/stable/24969024), so it should be no surprise that there are many implementations of the idea in Python that you can download and install. The one we're going to use is [Markovify](https://github.com/jsvine/markovify), a Markov chain text generation library originally developed for BuzzFeed, apparently. Writing [code to implement a Markov chain generator](https://github.com/aparrish/rwet/blob/master/ngrams-and-markov-chains.ipynb) on your own is certainly possible, but Markovify comes with a lot of extra niceties that will make our lives easier."
   ]
  },
  {
   "cell_type": "markdown",
   "metadata": {
    "id": "3zbobhYnbzeL"
   },
   "source": [
    "To install Markovify on your computer, run the cell below. (You can skip this step if you're using this notebook in Binder.)"
   ]
  },
  {
   "cell_type": "code",
   "execution_count": null,
   "metadata": {
    "id": "7mPWVkkdbzeM",
    "outputId": "a90b15a2-ebad-464d-bac6-d2547de228d6",
    "scrolled": true
   },
   "outputs": [
    {
     "name": "stdout",
     "output_type": "stream",
     "text": [
      "Requirement already satisfied: markovify in /Users/allison/anaconda/lib/python3.6/site-packages (0.7.1)\n",
      "Requirement already satisfied: unidecode in /Users/allison/anaconda/lib/python3.6/site-packages (from markovify) (1.0.22)\n",
      "\u001b[33mWARNING: You are using pip version 19.1.1, however version 19.3.1 is available.\n",
      "You should consider upgrading via the 'pip install --upgrade pip' command.\u001b[0m\n"
     ]
    }
   ],
   "source": [
    "!pip install markovify"
   ]
  },
  {
   "cell_type": "markdown",
   "metadata": {
    "id": "vxub7HMMbzeM"
   },
   "source": [
    "And then run this cell to make the library available in your notebook:"
   ]
  },
  {
   "cell_type": "code",
   "execution_count": 48,
   "metadata": {
    "id": "e8fSTipKbzeM",
    "scrolled": true
   },
   "outputs": [],
   "source": [
    "import markovify"
   ]
  },
  {
   "cell_type": "markdown",
   "metadata": {
    "id": "EPFNqMPgbzeM"
   },
   "source": [
    "We need a list of strings to train the Markov generator. For now, let's just get all of the sentences from any movie in the corpus:"
   ]
  },
  {
   "cell_type": "code",
   "execution_count": 49,
   "metadata": {
    "id": "3QtPE1VAbzeM"
   },
   "outputs": [],
   "source": [
    "all_text = [item['text'] for item in sentences]"
   ]
  },
  {
   "cell_type": "markdown",
   "metadata": {
    "id": "wGj22AvVbzeN"
   },
   "source": [
    "The code in the following cell creates a new text generator, using the text in the variable specified to build the Markov model, which is then assigned to the variable `all_text_gen`."
   ]
  },
  {
   "cell_type": "code",
   "execution_count": 50,
   "metadata": {
    "id": "I7BFTQVlbzeN",
    "scrolled": true
   },
   "outputs": [],
   "source": [
    "all_text_gen = markovify.Text(all_text)"
   ]
  },
  {
   "cell_type": "markdown",
   "metadata": {
    "id": "7thjhqxebzeN"
   },
   "source": [
    "You can then call the `.make_sentence()` method to generate a sentence from the model:"
   ]
  },
  {
   "cell_type": "code",
   "execution_count": 51,
   "metadata": {
    "id": "PTWjeh7VbzeO",
    "outputId": "6f530aea-4615-4a6a-ff3c-4d1f0855e80e",
    "scrolled": true
   },
   "outputs": [
    {
     "name": "stdout",
     "output_type": "stream",
     "text": [
      "But as yet my soul had proved true to its suction, and was smoother than all save the eyes of Eleonora; so that, but for the effect produced, at a distance of some particular portion of a million of the idea that the hair of such a time, and in the way of folly—if only to die; but the monarch perambulates on all fours!\n"
     ]
    }
   ],
   "source": [
    "print(all_text_gen.make_sentence())"
   ]
  },
  {
   "cell_type": "markdown",
   "metadata": {
    "id": "W92FrZnRbzeO"
   },
   "source": [
    "The `.make_short_sentence()` method allows you to specify a maximum length for the generated sentence:"
   ]
  },
  {
   "cell_type": "code",
   "execution_count": 52,
   "metadata": {
    "id": "C8dkqPaEbzeP",
    "outputId": "c2b70fcc-c3d8-4272-c14b-24eb395fb7ea",
    "scrolled": true
   },
   "outputs": [
    {
     "name": "stdout",
     "output_type": "stream",
     "text": [
      "The sun had made its way, as I tell you.\n"
     ]
    }
   ],
   "source": [
    "print(all_text_gen.make_short_sentence(50))"
   ]
  },
  {
   "cell_type": "markdown",
   "metadata": {
    "id": "1gMvFjImbzeP"
   },
   "source": [
    "By default, Markovify tries to generate a sentence that is significantly different from any existing sentence in the input text. As a consequence, sometimes the `.make_sentence()` or `.make_short_sentence()` methods will return `None`, which means that in ten tries it wasn't able to generate such a sentence. You can work around this by increasing the number of times it tries to generate a sufficiently unique sentence using the `tries` parameter:"
   ]
  },
  {
   "cell_type": "code",
   "execution_count": 53,
   "metadata": {
    "id": "1aYjFKdcbzeP",
    "outputId": "151538f8-4a2f-4cfc-c89a-9a8b89a45f98",
    "scrolled": true
   },
   "outputs": [
    {
     "name": "stdout",
     "output_type": "stream",
     "text": [
      "The man was a single window at top.\n"
     ]
    }
   ],
   "source": [
    "print(all_text_gen.make_short_sentence(40, tries=100))"
   ]
  },
  {
   "cell_type": "markdown",
   "metadata": {
    "id": "oiJPKn_hbzeQ"
   },
   "source": [
    "Or by disabling the check altogether with `test_output=False`:"
   ]
  },
  {
   "cell_type": "code",
   "execution_count": 54,
   "metadata": {
    "id": "YOW0oY_5bzeQ",
    "outputId": "99c4e9fa-9997-4d29-91fb-60b4e7194d43",
    "scrolled": true
   },
   "outputs": [
    {
     "name": "stdout",
     "output_type": "stream",
     "text": [
      "The appearance of being indigenous.\n"
     ]
    }
   ],
   "source": [
    "print(all_text_gen.make_short_sentence(40, test_output=False))"
   ]
  },
  {
   "cell_type": "markdown",
   "metadata": {
    "id": "VBFBG5R1bzeR"
   },
   "source": [
    "### Changing the order\n",
    "\n",
    "When you create the model, you can specify the order of the model using the `state_size` parameter. It defaults to 2. Let's make two model with different orders and compare:"
   ]
  },
  {
   "cell_type": "code",
   "execution_count": 55,
   "metadata": {
    "id": "v2Y3-SiqbzeR",
    "scrolled": true
   },
   "outputs": [],
   "source": [
    "gen_1 = markovify.Text(all_text, state_size=1)\n",
    "gen_4 = markovify.Text(all_text, state_size=4)"
   ]
  },
  {
   "cell_type": "code",
   "execution_count": 56,
   "metadata": {
    "id": "phV1aO0fbzeR",
    "outputId": "b0853aad-fa4a-48ed-830e-a7e0bdd9359c",
    "scrolled": true
   },
   "outputs": [
    {
     "name": "stdout",
     "output_type": "stream",
     "text": [
      "order 1\n",
      "It lay in rapid succession of people grow fat itself into the southward.\n",
      "\n",
      "order 4\n",
      "Your majesty cannot conceive the effect produced, at a masquerade, by eight chained ourang-outangs, imagined to be real ones by most of the company; and rushing in with savage cries, among the crowd of delicately and gorgeously habited men and women.\n"
     ]
    }
   ],
   "source": [
    "print(\"order 1\")\n",
    "print(gen_1.make_sentence(test_output=False))\n",
    "print()\n",
    "print(\"order 4\")\n",
    "print(gen_4.make_sentence(test_output=False))"
   ]
  },
  {
   "cell_type": "markdown",
   "metadata": {
    "id": "EIjB-yIDbzeS"
   },
   "source": [
    "In general, the higher the order, the more the sentences will seem \"coherent\" (i.e., more closely resembling the source text). Lower order models will produce more variation. Deciding on the order is usually a matter of taste and trial-and-error."
   ]
  },
  {
   "cell_type": "markdown",
   "metadata": {
    "id": "_KHGerQUbzeS"
   },
   "source": [
    "### Changing the level\n",
    "\n",
    "Markovify, by default, works with *words* as the individual unit. It doesn't come out-of-the-box with support for character-level models. The following code defines a new kind of Markovify generator that implements character-level models. Execute it before continuing:"
   ]
  },
  {
   "cell_type": "code",
   "execution_count": 57,
   "metadata": {
    "id": "SdziITGabzeS",
    "scrolled": true
   },
   "outputs": [],
   "source": [
    "class SentencesByChar(markovify.Text):\n",
    "    def word_split(self, sentence):\n",
    "        return list(sentence)\n",
    "    def word_join(self, words):\n",
    "        return \"\".join(words)"
   ]
  },
  {
   "cell_type": "markdown",
   "metadata": {
    "id": "3-6BJ12wbzeS"
   },
   "source": [
    "Any of the parameters you passed to `markovify.Text` you can also pass to `SentencesByChar`. The `state_size` parameter still controls the order of the model, but now the n-grams are characters, not words.\n",
    "\n",
    "The following cell implements a character-level Markov text generator for the word \"condescendences\":"
   ]
  },
  {
   "cell_type": "code",
   "execution_count": 58,
   "metadata": {
    "id": "Qy9CjgsIbzeS",
    "scrolled": true
   },
   "outputs": [],
   "source": [
    "con_model = SentencesByChar(\"condescendences\", state_size=2)"
   ]
  },
  {
   "cell_type": "markdown",
   "metadata": {
    "id": "YhV1p4dGbzeS"
   },
   "source": [
    "Execute the cell below to see the output—it'll be a lot like what we implemented by hand earlier!"
   ]
  },
  {
   "cell_type": "code",
   "execution_count": 59,
   "metadata": {
    "id": "yABpG8YIbzeT",
    "outputId": "13395784-f724-4c22-f591-7fccd632a1c9",
    "scrolled": true
   },
   "outputs": [
    {
     "data": {
      "text/plain": [
       "'condendendescescencendencencencescesces'"
      ]
     },
     "execution_count": 59,
     "metadata": {},
     "output_type": "execute_result"
    }
   ],
   "source": [
    "con_model.make_sentence()"
   ]
  },
  {
   "cell_type": "markdown",
   "metadata": {
    "id": "PrTWftl0bzeT"
   },
   "source": [
    "Of course, you can use a character-level model on any text of your choice. So, for example, the following cell creates a character-level order-7 Markov chain text generator from text A:"
   ]
  },
  {
   "cell_type": "code",
   "execution_count": 60,
   "metadata": {
    "id": "rqWqM0a0bzeT",
    "scrolled": true
   },
   "outputs": [],
   "source": [
    "gen_char = SentencesByChar(all_text, state_size=7)"
   ]
  },
  {
   "cell_type": "markdown",
   "metadata": {
    "id": "ICRQwWS1bzeU"
   },
   "source": [
    "And the cell below prints out a random sentence from this generator. (The `.replace()` is to get rid of any newline characters in the output.)"
   ]
  },
  {
   "cell_type": "code",
   "execution_count": 61,
   "metadata": {
    "id": "VNrMKfE4bzeU",
    "outputId": "9a2490dc-0ebd-47a4-f78d-3a17ca161c36",
    "scrolled": false
   },
   "outputs": [
    {
     "name": "stdout",
     "output_type": "stream",
     "text": [
      "I am not absolutely the walnuts especial admiration, To, Civilize, Humanity—one letter for the ridge-beam with a half—insane stare.\n"
     ]
    }
   ],
   "source": [
    "print(gen_char.make_sentence(test_output=False))"
   ]
  },
  {
   "cell_type": "markdown",
   "metadata": {
    "id": "ZQHOorXIbzeU"
   },
   "source": [
    "### Thinking about structure\n",
    "\n",
    "It's one thing to be able to produce one plausible sentence of a plot summary using Markov chains, but another to create a sense of overall structure between sentences, and generating narratives with these kinds of long-term dependencies is still an open problem in computational creativity. The approach I'm going to suggest below relies on the intuition that sentences in a plot summary share characteristics based on their position in the summary. First sentences will generally introduce characters and present an initial situation; last sentences will generally describe how the situation was resolved; and sentences in between will describe developing action.\n",
    "\n",
    "Following this intuition, let's create *three different Markov chains*: one for beginning sentences, one for middle sentences, and one for final sentences. We can use the `index` of each sentence in our corpus to give us this information.\n",
    "\n",
    "First, the beginnings are lines whose index is zero (i.e., they're the first sentence for this plot):"
   ]
  },
  {
   "cell_type": "code",
   "execution_count": 76,
   "metadata": {
    "id": "CXkkQYWxbzeU"
   },
   "outputs": [
    {
     "name": "stdout",
     "output_type": "stream",
     "text": [
      "0 8\n",
      "Helseggen\n",
      " The mountain upon whose top we sit is Helseggen, the Cloudy\n",
      "13\n",
      "Eleonora\n",
      " Eleonora was the name of my cousin\n",
      "12\n",
      "Epiphanes\n",
      " Do you not perceive that the animal has the visage of a man? Why, my dear sir, that cameleopard is no other than Antiochus Epiphanes, Antiochus the Illustrious, King of Syria, and the most potent of all the autocrats of the East! It is true, that he is entitled, at times, Antiochus Epimanes—Antiochus the madman—but that is because all people have not the capacity to appreciate his merits\n",
      "80\n",
      "Voltaire\n",
      " He would have preferred Rabelais’ ‘Gargantua’ to the ‘Zadig’ of Voltaire: and, upon the whole, practical jokes suited his taste far better than verbal ones\n",
      "9\n",
      "Blackwood\n",
      " as any to be found even in Blackwood\n",
      "88\n",
      "Hugh Tarpaulin\n",
      "   At the precise period, then, when this history properly commences, Legs, and his fellow Hugh Tarpaulin, sat, each with both elbows resting upon the large oaken table in the middle of the floor, and with a hand upon either cheek\n",
      "21\n",
      "Landor\n",
      " Landor—for this, I afterwards found, was his name\n",
      "148\n",
      "\n",
      "Ligeia\n",
      "0\n",
      "---------------------------------\n",
      "Most common by story: ['Helseggen', 'Eleonora', 'Epiphanes', 'Voltaire', 'Blackwood', 'Hugh Tarpaulin', 'Landor', '']\n"
     ]
    }
   ],
   "source": [
    "# Find the most common proper nouns and their occurances\n",
    "most_common = []\n",
    "\n",
    "for i, sent in enumerate(sentences):\n",
    "    twords = []\n",
    "    tnoun_chunks = []\n",
    "    tentities = []\n",
    "    tplot = []\n",
    "\n",
    "    #print out feedback the code is running\n",
    "    if i % 100 == 0:\n",
    "        print(i, len(sentences))\n",
    "    tdoc = nlp(sent['text'])\n",
    "    tplot.append(tdoc)\n",
    "    twords.extend([w for w in list(tdoc) if w.is_alpha])\n",
    "    tnoun_chunks.extend(list(tdoc.noun_chunks))\n",
    "    tentities.extend(list(tdoc.ents))\n",
    "    tpeople = [e for e in tentities if e.label_ == \"PERSON\"]\n",
    "    tpeople_count = Counter([w.text for w in tpeople])\n",
    "    \n",
    "    #get the most common proper noun in the story\n",
    "    mainC = tpeople_count.most_common(1)\n",
    "    tproperNoun = \"\"\n",
    "    for item, count in mainC:\n",
    "        tproperNoun = item\n",
    "    print(tproperNoun)\n",
    "    most_common.append(tproperNoun)\n",
    "\n",
    "    lineTemp = sent['text'] \n",
    "    lineTemp=lineTemp.lstrip('\\\"')\n",
    "    lineArr = lineTemp.split(\".\")\n",
    "    numSentences = len(lineArr)\n",
    "\n",
    "    beginnings = \"\"\n",
    "    cnt=0\n",
    "    begLineNum=0\n",
    "    for eachline in lineArr:\n",
    "        if eachline.__contains__(tproperNoun):\n",
    "            beginnings=eachline\n",
    "            begLineNum=cnt\n",
    "            break\n",
    "        cnt+=1\n",
    "    if begLineNum == 0:\n",
    "        beginnings=lineArr[0]\n",
    "        begLineNum=0\n",
    "    print(beginnings)\n",
    "    print(begLineNum)\n",
    "    endings=lineArr[numSentences-2]\n",
    "\n",
    "    middles=\"\"\n",
    "    i=0\n",
    "    endPart = numSentences-2\n",
    "    for eachline in lineArr:\n",
    "        if i > begLineNum and i < endPart:\n",
    "            if middles != \"\":\n",
    "                middles=middles + \". \" + eachline\n",
    "            else:\n",
    "                middles=eachline\n",
    "        i+=1\n",
    "\n",
    "print('---------------------------------')\n",
    "print('Most common by story:', most_common)"
   ]
  },
  {
   "cell_type": "code",
   "execution_count": 98,
   "metadata": {},
   "outputs": [
    {
     "name": "stdout",
     "output_type": "stream",
     "text": [
      "story 0: 4 1 0\n",
      "story 1: 3 5 5\n",
      "story 2: 0 0 4\n",
      "story 3: 1 0 0\n",
      "story 4: 2 6 5\n",
      "story 5: 2 0 3\n",
      "story 6: 0 0 4\n",
      "story 7: 1 0 0\n",
      "13 12 21\n",
      "______________\n",
      "[[5, 12, 20, 27, 41], [17, 25, 32, 33, 47, 50, 57, 61, 77, 80, 85, 89, 97], [74, 80, 93, 94], [6], [32, 32, 33, 35, 38, 47, 51, 52, 71, 91, 95, 98, 99], [16, 25, 68, 95, 98], [86, 97, 98, 99], [0]]\n"
     ]
    }
   ],
   "source": [
    "# get line references for distribution of most common pronouns\n",
    "import math\n",
    "\n",
    "sum_beg=0\n",
    "sum_mid=0\n",
    "sum_end=0\n",
    "percent_story = []\n",
    "\n",
    "#loop through the stories:\n",
    "for i in range(0, len(sentences)):\n",
    "    occurance=[]\n",
    "    beg=0\n",
    "    mid=0\n",
    "    end=0\n",
    "    \n",
    "    sentences[i]['text'].lstrip('\\\"')\n",
    "    lineArr = sentences[i]['text'].split(\".\")\n",
    "    numSentences = len(lineArr)\n",
    "\n",
    "    beginnings = \"\"\n",
    "    cnt=0\n",
    "    for eachline in lineArr:\n",
    "        if eachline.__contains__(most_common[i]):\n",
    "            occurance.append(math.floor(100*cnt/numSentences))\n",
    "            if(cnt < numSentences/3):\n",
    "                beg = beg + 1\n",
    "            elif(cnt > numSentences*2/3):\n",
    "                end = end + 1\n",
    "            else:\n",
    "                mid = mid + 1\n",
    "        cnt = cnt+1\n",
    "    sum_beg = sum_beg + beg\n",
    "    sum_mid = sum_mid + mid\n",
    "    sum_end = sum_end + end\n",
    "    percent_story.append(occurance)\n",
    "    \n",
    "    print('story '+str(i)+':', beg, mid, end)\n",
    "print('Totals:', sum_beg, sum_mid, sum_end)\n",
    "print('______________')\n",
    "print(percent_story)"
   ]
  },
  {
   "cell_type": "code",
   "execution_count": 146,
   "metadata": {},
   "outputs": [
    {
     "data": {
      "image/png": "[encoded data removed]",
      "text/plain": [
       "<Figure size 800x640 with 1 Axes>"
      ]
     },
     "metadata": {
      "needs_background": "light"
     },
     "output_type": "display_data"
    }
   ],
   "source": [
    "#take a look at distribution of proper pronouns\n",
    "import matplotlib.pyplot as plt\n",
    "from matplotlib.patches import Rectangle\n",
    "\n",
    "max_x = 0\n",
    "num_sentences = 200\n",
    "tplot=[]\n",
    "\n",
    "#define Matplotlib figure and axis\n",
    "fig, ax = plt.subplots(figsize=(10, 8), dpi=80)\n",
    "\n",
    "for i in range(0, 100):\n",
    "    for j in range(0, len(sentences)):\n",
    "        color = 'black'\n",
    "        for k in range(0, len(percent_story[j])):\n",
    "            if(i == percent_story[j][k] and i<34):\n",
    "                color = 'yellow'\n",
    "            elif(i == percent_story[j][k] and i>66):\n",
    "                color = 'cyan'\n",
    "            elif(i == percent_story[j][k]):\n",
    "                color = 'pink'\n",
    "        #add rectangle to plot        \n",
    "        ax.add_patch(Rectangle((j, i), (j+1), (i)+1, \n",
    "            edgecolor = color,\n",
    "            facecolor = color,\n",
    "            fill=True))\n",
    "\n",
    "plt.xlim([0, 8])\n",
    "plt.ylim([0, 100])\n",
    "plt.gca().invert_yaxis()\n",
    "\n",
    "#display plot\n",
    "plt.show()\n",
    "\n",
    "#fig.savefig('percent_proper.png', bbox_inches='tight', dpi=300)\n"
   ]
  },
  {
   "cell_type": "code",
   "execution_count": 86,
   "metadata": {},
   "outputs": [
    {
     "name": "stdout",
     "output_type": "stream",
     "text": [
      "story 0: 4 1 0\n",
      "story 1: 3 5 5\n",
      "story 2: 0 0 4\n",
      "story 3: 1 0 0\n",
      "story 4: 2 6 5\n",
      "story 5: 2 0 3\n",
      "story 6: 0 0 4\n",
      "story 7: 1 0 0\n",
      "______________\n",
      "13 12 21\n"
     ]
    }
   ],
   "source": [
    "# get line references for distribution of most common pronouns\n",
    "sum_beg=0\n",
    "sum_mid=0\n",
    "sum_end=0\n",
    "\n",
    "\n",
    "#loop through the stories:\n",
    "for i in range(0, len(sentences)):\n",
    "    occurance=[]\n",
    "    beg=0\n",
    "    mid=0\n",
    "    end=0\n",
    "    \n",
    "    sentences[i]['text'].lstrip('\\\"')\n",
    "    lineArr = sentences[i]['text'].split(\".\")\n",
    "    numSentences = len(lineArr)\n",
    "\n",
    "    beginnings = \"\"\n",
    "    cnt=0\n",
    "    for eachline in lineArr:\n",
    "        if eachline.__contains__(most_common[i]):\n",
    "            occurance.append(cnt)\n",
    "            if(cnt < numSentences/3):\n",
    "                beg = beg + 1\n",
    "            elif(cnt > numSentences*2/3):\n",
    "                end = end + 1\n",
    "            else:\n",
    "                mid = mid + 1\n",
    "        cnt = cnt+1\n",
    "    sum_beg = sum_beg + beg\n",
    "    sum_mid = sum_mid + mid\n",
    "    sum_end = sum_end + end\n",
    "    \n",
    "    print('story '+str(i)+':', beg, mid, end)\n",
    "print('______________')\n",
    "print(sum_beg, sum_mid, sum_end)"
   ]
  },
  {
   "cell_type": "code",
   "execution_count": null,
   "metadata": {},
   "outputs": [],
   "source": [
    "sentences[0]['text']"
   ]
  },
  {
   "cell_type": "code",
   "execution_count": 47,
   "metadata": {
    "id": "-189QYC9bzeV",
    "outputId": "84226b8e-9a5e-4cd4-b06d-822e27cdab8c"
   },
   "outputs": [
    {
     "data": {
      "text/plain": [
       "['Eddie \"Gonzo\" Gilman is the head geek at his high school—and determined to do something about it.',\n",
       " 'Leslie Wright (Queen Latifah) is a straight-shooting physical therapist and die-hard basketball fan who is tired of being a guy\\'s best friend or as Morgan called her the \"homegirl\" type.',\n",
       " 'Estlin is a journalist in New York City, fresh out of college and ready to make a difference in an all-too cynical world.',\n",
       " 'Shante Smith (Vivica Fox) is a woman who gives advice on how to keep a man in check.',\n",
       " 'Megan (Keira Knightley) is an aimless twenty-eight-year-old who is in a committed relationship with her high school sweetheart and is still close with her high school friends.']"
      ]
     },
     "execution_count": 47,
     "metadata": {},
     "output_type": "execute_result"
    }
   ],
   "source": [
    "random.sample(beginnings, 5)"
   ]
  },
  {
   "cell_type": "markdown",
   "metadata": {
    "id": "WyrsTvK_bzeV"
   },
   "source": [
    "And endings are sentences that come last in the plot (i.e., their index is one less than the total number of sentences):"
   ]
  },
  {
   "cell_type": "code",
   "execution_count": 48,
   "metadata": {
    "id": "sQSAQ7eXbzeV"
   },
   "outputs": [],
   "source": [
    "endings = [line['text'] for line in sentences if line['index'] == line['total'] - 1]"
   ]
  },
  {
   "cell_type": "code",
   "execution_count": 49,
   "metadata": {
    "id": "mCATvHDQbzeV",
    "outputId": "4515629d-bf2e-40a1-8d29-3020fb32100c",
    "scrolled": true
   },
   "outputs": [
    {
     "data": {
      "text/plain": [
       "['Cody and Natalie are now a couple and the film ends with them sharing their first kiss.',\n",
       " 'So love is reborn.',\n",
       " 'Mimi takes pity on him and a romance blooms.',\n",
       " \"The film ends with Annie and Crash dancing in Annie's candle-lit living room.\",\n",
       " 'As she takes control of her life, Sara faces the challenge of discovering what she really wants, so that she can make the best move of her life.']"
      ]
     },
     "execution_count": 49,
     "metadata": {},
     "output_type": "execute_result"
    }
   ],
   "source": [
    "random.sample(endings, 5)"
   ]
  },
  {
   "cell_type": "markdown",
   "metadata": {
    "id": "JcbBGL2sbzeW"
   },
   "source": [
    "And \"middles\" are anything in between:"
   ]
  },
  {
   "cell_type": "code",
   "execution_count": 50,
   "metadata": {
    "id": "u8zamV3NbzeW"
   },
   "outputs": [],
   "source": [
    "middles = [line['text'] for line in sentences if 0 < line['index'] < line['total'] - 1]"
   ]
  },
  {
   "cell_type": "code",
   "execution_count": 51,
   "metadata": {
    "id": "Ca9K3gIwbzeW",
    "outputId": "27a10654-45b8-46f5-a292-4798f0b0a151"
   },
   "outputs": [
    {
     "data": {
      "text/plain": [
       "['At the head of the list are the twin daughters of the Earl of Stokeshire (George Grossmith, Jr), Lady Mary Rose (Wendy Barrie) and Lady Rose Mary (Joan Gardner).',\n",
       " \"Cody's parents pick him up, none the wiser about his dangerous exploits.\",\n",
       " \"Madea takes Helen in and helps her get back on her feet, to the dismay of Madea's brother, Joe.\",\n",
       " 'Richard lets Julia take over the house for a couple of hours, in which she \"straightens out\" the household.',\n",
       " \"Eventually, Jamal is given a chance to return to the men's league, but the hearing takes place at the same time as the Banshee's first playoff game.\"]"
      ]
     },
     "execution_count": 51,
     "metadata": {},
     "output_type": "execute_result"
    }
   ],
   "source": [
    "random.sample(middles, 5)"
   ]
  },
  {
   "cell_type": "markdown",
   "metadata": {
    "id": "97oRqWuebzeX"
   },
   "source": [
    "The following cell creates the models:"
   ]
  },
  {
   "cell_type": "code",
   "execution_count": 52,
   "metadata": {
    "id": "fCUVSmDibzeY"
   },
   "outputs": [],
   "source": [
    "beginning_gen = markovify.Text(beginnings)\n",
    "middle_gen = markovify.Text(middles)\n",
    "ending_gen = markovify.Text(endings)"
   ]
  },
  {
   "cell_type": "markdown",
   "metadata": {
    "id": "lpCpvX5ibzeZ"
   },
   "source": [
    "Now you can generate tiny narratives by producing a beginning sentence, a middle sentence, and an ending sentence:"
   ]
  },
  {
   "cell_type": "code",
   "execution_count": 53,
   "metadata": {
    "id": "i0efbBnvbzea",
    "outputId": "a78dabe1-3ec2-4c6b-c3e2-8010371ead36"
   },
   "outputs": [
    {
     "name": "stdout",
     "output_type": "stream",
     "text": [
      "A story of two 1940-style cars in the waters of Santa Catalina Island, California.\n",
      "Eventually, the calendar is successful and stylish.\n",
      "Fallon takes the bet, whereupon the woman who seemingly follows his manly ideas about dating.\n"
     ]
    }
   ],
   "source": [
    "print(beginning_gen.make_short_sentence(100))\n",
    "print(middle_gen.make_short_sentence(100))\n",
    "print(ending_gen.make_short_sentence(100))"
   ]
  },
  {
   "cell_type": "markdown",
   "metadata": {
    "id": "f9T9oEV1bzea"
   },
   "source": [
    "The narratives still feel disconnected (and there are often jarring mismatches in pronoun antecedents), but the artifacts produced with this method do feel a bit narrative-like? Maybe?"
   ]
  },
  {
   "cell_type": "markdown",
   "metadata": {
    "id": "m4rAxzOlbzea"
   },
   "source": [
    "### Combining models\n",
    "\n",
    "Markovify has a handy feature that allows you to *combine* models, creating a new model that draws on probabilities from both of the source models. You can use this to create hybrid output that mixes the style and content of two (or more!) different source texts. To do this, you need to create the models independently, and then call `.combine()` to combine them.\n",
    "\n",
    "The code below combines models for beginning sentences, middle sentences, and ending sentences into one model:"
   ]
  },
  {
   "cell_type": "code",
   "execution_count": 54,
   "metadata": {
    "id": "jp0lTn3Cbzea",
    "scrolled": true
   },
   "outputs": [],
   "source": [
    "combo = markovify.combine([beginning_gen, middle_gen, ending_gen], [10, 1, 10])"
   ]
  },
  {
   "cell_type": "markdown",
   "metadata": {
    "id": "_wqz1Aisbzea"
   },
   "source": [
    "The bit of code `[10, 1, 10]` controls the \"weights\" of the models, i.e., how much to emphasize the probabilities of any model. You can change this to suit your tastes. (E.g., if you want mostly beginnings with but a bit of middles and a *soupçon* of ends, try `[10, 2, 1]`.)\n",
    "\n",
    "Then you can create sentences using the combined model:"
   ]
  },
  {
   "cell_type": "code",
   "execution_count": 55,
   "metadata": {
    "id": "v0UEP45Nbzea",
    "outputId": "010023a4-0104-4e0d-e938-0282d16736b9",
    "scrolled": true
   },
   "outputs": [
    {
     "name": "stdout",
     "output_type": "stream",
     "text": [
      "Eager to teach Amarilly high class bakery, and get into an argument ensues.\n"
     ]
    }
   ],
   "source": [
    "print(combo.make_short_sentence(120))"
   ]
  },
  {
   "cell_type": "markdown",
   "metadata": {
    "id": "jNn-wpVWbzeb"
   },
   "source": [
    "## Prepping the corpus for fine-tuning a large language model\n",
    "\n",
    "Markov chains are cheap and fun, but they don't do a great job of the one thing we expect from stories: maintaining coherence over a long stretch of text. Accomplishing this is a more difficult task, and requires making use of more sophisticated machine learning models, belonging to the category of large pre-trained neural networks. These models are fundamentally similar to Markov chains, in that they make a prediction about what will come next in a text, given some stretch of context. Unlike a Markov chain, a large pre-trained neural network can predict what will come next in a text, even if the context you give it has never been seen in the training text. It can also work on contexts of arbitrary and variable length. Handy!\n",
    "\n",
    "These language models are already trained on a large amount of text. Generally, you don't train them from scratch on your own, but instead \"fine-tune\" them to bring their probabilities more in line with a particular source text.\n",
    "\n",
    "One such model, [OpenAI's GPT-2](https://github.com/openai/gpt-2) does a pretty good job of maintaining long-distance coherence, and it's easy to fine-tune the model with Max Woolf's [aitextgen](https://github.com/minimaxir/aitextgen/).  We'll use the [example Colab notebook](https://colab.research.google.com/drive/15qBZx5y9rdaQSyWpsreMDnTiZ5IlN0zD?usp=sharing) from the aitextgen repository. This notebook works best when it's fine-tuned on text in a prose format. The model can also learn ad-hoc markup elements that you add to the text. We'll use this feature of the model to make it possible to generate stories from beginning to end, by adding a `[BEGIN STORY]` marker before each story in the source text, followed by the title of the story."
   ]
  },
  {
   "cell_type": "code",
   "execution_count": 56,
   "metadata": {
    "id": "bNVk01jrbzeb"
   },
   "outputs": [],
   "source": [
    "out = []\n",
    "last_title = None\n",
    "for sent in sentences[:10000]:\n",
    "    if sent['title'] != last_title:\n",
    "        out.append(\"\")\n",
    "        out.append(\"[BEGIN STORY]\")\n",
    "        out.append(sent['title'])\n",
    "        out.append(\"\")\n",
    "        last_title = sent['title']\n",
    "    out.append(sent['text'])"
   ]
  },
  {
   "cell_type": "markdown",
   "metadata": {
    "id": "sUV_pVF_bzeb"
   },
   "source": [
    "Here's what the data look like:"
   ]
  },
  {
   "cell_type": "code",
   "execution_count": 57,
   "metadata": {
    "id": "zmdLJn_1bzeb",
    "outputId": "81d750da-233f-4350-c17a-b516dcf98ae4"
   },
   "outputs": [
    {
     "data": {
      "text/plain": [
       "['',\n",
       " '[BEGIN STORY]',\n",
       " 'Four Weddings and a Funeral',\n",
       " '',\n",
       " 'The film follows the adventures of a group of friends through the eyes of Charles, a good-natured but socially awkward man living in London, who becomes smitten with Carrie, an American whom Charles keeps meeting at four weddings and a funeral.',\n",
       " 'The first wedding is that of Angus and Laura, at which Charles is the best man.',\n",
       " 'Charles and his single friends wonder whether they will ever get married.',\n",
       " 'Charles meets Carrie and spends the night with her.',\n",
       " 'Carrie pretends that, now they have slept together, they will have to get married, to which Charles endeavours to respond before realising she is joking.',\n",
       " 'Carrie observes that they may have missed an opportunity and then returns to America.',\n",
       " 'The second wedding is that of Bernard and Lydia, a couple who became romantically involved at the previous wedding.',\n",
       " 'Charles encounters Carrie again, but she introduces him to her fiancé, Sir Hamish Banks, a wealthy politician.',\n",
       " 'At the reception, Charles finds himself seated with several ex-girlfriends who relate embarrassing stories about his inability to be discreet and afterwards bumps into Henrietta, known among Charles\\' friends as \"Duckface\", with whom he had a particularly difficult relationship.',\n",
       " 'Charles retreats to an empty hotel suite, seeing Carrie and Hamish leave in a taxicab, only to be trapped in a cupboard after the newlyweds stumble into the room to have sex.',\n",
       " 'After Charles awkwardly exits the room, Henrietta confronts him about his habit of \"serial monogamy\", telling him he is afraid of letting anyone get too close to him.',\n",
       " 'Charles then runs into Carrie, and they end up spending another night together.',\n",
       " \"A month later, Charles receives an invitation to Carrie's wedding.\",\n",
       " 'While shopping for a present, he coincidentally encounters Carrie and ends up helping her select her wedding dress.',\n",
       " 'Carrie lists her more than thirty sexual partners.',\n",
       " 'Charles later awkwardly tries confessing his love to her and hinting that he would like to have a relationship with her, to no avail.',\n",
       " 'The third wedding is that of Carrie and Hamish.',\n",
       " 'Charles attends, depressed at the prospect of Carrie marrying Hamish.',\n",
       " \"At the reception, Gareth instructs his friends to seek potential mates; Fiona's brother, Tom, stumbles through an attempt to connect with a woman until she reveals that she is the minister's wife, while Charles's flatmate, Scarlett, strikes up a conversation with an American named Chester.\",\n",
       " 'As Charles watches Carrie and Hamish dance, Fiona deduces his feelings about Carrie.',\n",
       " 'When Charles asks why Fiona is not married, she confesses that she has loved Charles since they first met years earlier.']"
      ]
     },
     "execution_count": 57,
     "metadata": {},
     "output_type": "execute_result"
    }
   ],
   "source": [
    "out[:25]"
   ]
  },
  {
   "cell_type": "markdown",
   "metadata": {
    "id": "c5-izP45bzec"
   },
   "source": [
    "The following cell writes this out to a file, which you can then upload to the aitextgen notebook on Google Colab to train the model:"
   ]
  },
  {
   "cell_type": "code",
   "execution_count": 58,
   "metadata": {
    "id": "Hwc-gtsAbzec"
   },
   "outputs": [],
   "source": [
    "with open(\"story_training.txt\", \"w\") as fh:\n",
    "    fh.write(\"\\n\".join(out))"
   ]
  },
  {
   "cell_type": "markdown",
   "metadata": {
    "id": "M5D41I4Bbzec"
   },
   "source": [
    "In the text generation section of that notebook, try prompting the model with `[BEGIN STORY]` followed by the title of a story you'd like to generate!"
   ]
  }
 ],
 "metadata": {
  "colab": {
   "name": "corpus-driven-narrative-generation.ipynb",
   "provenance": []
  },
  "kernelspec": {
   "display_name": "Python 3 (ipykernel)",
   "language": "python",
   "name": "python3"
  },
  "language_info": {
   "codemirror_mode": {
    "name": "ipython",
    "version": 3
   },
   "file_extension": ".py",
   "mimetype": "text/x-python",
   "name": "python",
   "nbconvert_exporter": "python",
   "pygments_lexer": "ipython3",
   "version": "3.9.12"
  }
 },
 "nbformat": 4,
 "nbformat_minor": 1
}
